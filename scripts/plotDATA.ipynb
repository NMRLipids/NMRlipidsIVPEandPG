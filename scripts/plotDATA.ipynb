{
 "cells": [
  {
   "cell_type": "code",
   "execution_count": 1,
   "metadata": {},
   "outputs": [],
   "source": [
    "import os\n",
    "import numpy as np\n",
    "import json\n",
    "import matplotlib.pyplot as plt\n",
    "import mdtraj\n",
    "import urllib.request\n",
    "\n",
    "# Download link\n",
    "def download_link(doi, file):\n",
    "    if \"zenodo\" in doi.lower():\n",
    "        zenodo_entry_number = doi.split(\".\")[2]\n",
    "        return 'https://zenodo.org/record/' + zenodo_entry_number + '/files/' + file\n",
    "    else:\n",
    "        print (\"DOI provided: {0}\".format(doi))\n",
    "        print (\"Repository not validated. Please upload the data for example to zenodo.org\")\n",
    "        return \"\""
   ]
  },
  {
   "cell_type": "code",
   "execution_count": null,
   "metadata": {
    "scrolled": true
   },
   "outputs": [
    {
     "name": "stdout",
     "output_type": "stream",
     "text": [
      "<AtomGroup [<Atom 1: N of type NH3L of resname POPE, resid 0 and segid seg_0_POPE>, <Atom 11: P of type PL of resname POPE, resid 0 and segid seg_0_POPE>]>\n",
      "<AtomGroup [<Atom 126: N of type NH3L of resname POPE, resid 1 and segid seg_0_POPE>, <Atom 136: P of type PL of resname POPE, resid 1 and segid seg_0_POPE>]>\n",
      "<AtomGroup [<Atom 251: N of type NH3L of resname POPE, resid 2 and segid seg_0_POPE>, <Atom 261: P of type PL of resname POPE, resid 2 and segid seg_0_POPE>]>\n",
      "<AtomGroup [<Atom 376: N of type NH3L of resname POPE, resid 3 and segid seg_0_POPE>, <Atom 386: P of type PL of resname POPE, resid 3 and segid seg_0_POPE>]>\n",
      "<AtomGroup [<Atom 501: N of type NH3L of resname POPE, resid 4 and segid seg_0_POPE>, <Atom 511: P of type PL of resname POPE, resid 4 and segid seg_0_POPE>]>\n",
      "<AtomGroup [<Atom 626: N of type NH3L of resname POPE, resid 5 and segid seg_0_POPE>, <Atom 636: P of type PL of resname POPE, resid 5 and segid seg_0_POPE>]>\n",
      "<AtomGroup [<Atom 751: N of type NH3L of resname POPE, resid 6 and segid seg_0_POPE>, <Atom 761: P of type PL of resname POPE, resid 6 and segid seg_0_POPE>]>\n",
      "<AtomGroup [<Atom 876: N of type NH3L of resname POPE, resid 7 and segid seg_0_POPE>, <Atom 886: P of type PL of resname POPE, resid 7 and segid seg_0_POPE>]>\n"
     ]
    }
   ],
   "source": [
    "#Calculate the angle between PN vector and z-axis for each lipid residues\n",
    "\n",
    "from OrderParameter import *\n",
    "import json\n",
    "\n",
    "def_file  = \"/media/akiirikk/DATADRIVE1/tietokanta/MATCH/scripts/orderParm_defs/order_parameter_definitions_MODEL_CHARMM36_POPE.def\"\n",
    "\n",
    "lipids = {'POPE'} #POPC puuttuu koska sen tpr file ei toimi,'POPG','POPS'\n",
    "angles = []\n",
    "\n",
    "for subdir, dirs, files in os.walk(r'/media/akiirikk/DATADRIVE1/tietokanta/NMRlipidsIVPEandPG/Data/Simulations/'):\n",
    "    for filename in files:\n",
    "        filepath = subdir + os.sep + filename\n",
    "        if filepath.endswith(\"README.json\"):\n",
    "            READMEfilepath = subdir + '/README.json'\n",
    "            with open(READMEfilepath) as json_file:\n",
    "                readme = json.load(json_file)\n",
    "                for molname in lipids:\n",
    "#ei oo ehkä järkeä lukea näitä uudestaan tässä mutta olkoon nyt näin\n",
    "                    doi = readme.get('DOI')\n",
    "                    trj = readme.get('TRJ')\n",
    "                    tpr = readme.get('TPR')\n",
    "                    trj_url = download_link(doi, trj[0][0])\n",
    "                    tpr_url = download_link(doi, tpr[0][0])\n",
    "                    trj_name = '/media/akiirikk/DATADRIVE1/tietokanta/temp/DATAbankTST/POPCcharmm/tmp/0/'+readme.get('TRJ')[0][0]\n",
    "                    tpr_name = '/media/akiirikk/DATADRIVE1/tietokanta/temp/DATAbankTST/POPCcharmm/tmp/0/'+readme.get('TPR')[0][0]\n",
    "                    gro_name = '/media/akiirikk/DATADRIVE1/tietokanta/temp/DATAbankTST/POPCcharmm/tmp/0/'+readme.get('INI')[0][0]\n",
    "     \n",
    "                    if readme['N' + molname] != 0:\n",
    "                        #OrdParam=find_OP(def_file,tpr_name, trj_name)\n",
    "                        print(read_trj_PN_angles(molname, tpr_name, trj_name))"
   ]
  },
  {
   "cell_type": "code",
   "execution_count": 1,
   "metadata": {},
   "outputs": [
    {
     "ename": "NameError",
     "evalue": "name 'plt' is not defined",
     "output_type": "error",
     "traceback": [
      "\u001b[0;31m---------------------------------------------------------------------------\u001b[0m",
      "\u001b[0;31mNameError\u001b[0m                                 Traceback (most recent call last)",
      "\u001b[0;32m<ipython-input-1-15e5932baeb0>\u001b[0m in \u001b[0;36m<module>\u001b[0;34m\u001b[0m\n\u001b[1;32m      4\u001b[0m \u001b[0mlipids\u001b[0m \u001b[0;34m=\u001b[0m \u001b[0;34m{\u001b[0m\u001b[0;34m'POPE'\u001b[0m\u001b[0;34m,\u001b[0m\u001b[0;34m'POPG'\u001b[0m\u001b[0;34m,\u001b[0m\u001b[0;34m'POPS'\u001b[0m\u001b[0;34m,\u001b[0m\u001b[0;34m'POPC'\u001b[0m\u001b[0;34m}\u001b[0m\u001b[0;34m\u001b[0m\u001b[0;34m\u001b[0m\u001b[0m\n\u001b[1;32m      5\u001b[0m \u001b[0;34m\u001b[0m\u001b[0m\n\u001b[0;32m----> 6\u001b[0;31m \u001b[0mfig\u001b[0m\u001b[0;34m=\u001b[0m \u001b[0mplt\u001b[0m\u001b[0;34m.\u001b[0m\u001b[0mfigure\u001b[0m\u001b[0;34m(\u001b[0m\u001b[0mfigsize\u001b[0m\u001b[0;34m=\u001b[0m\u001b[0;34m(\u001b[0m\u001b[0;36m8\u001b[0m\u001b[0;34m,\u001b[0m\u001b[0;36m5\u001b[0m\u001b[0;34m)\u001b[0m\u001b[0;34m)\u001b[0m\u001b[0;34m\u001b[0m\u001b[0;34m\u001b[0m\u001b[0m\n\u001b[0m\u001b[1;32m      7\u001b[0m \u001b[0;32mfor\u001b[0m \u001b[0msubdir\u001b[0m\u001b[0;34m,\u001b[0m \u001b[0mdirs\u001b[0m\u001b[0;34m,\u001b[0m \u001b[0mfiles\u001b[0m \u001b[0;32min\u001b[0m \u001b[0mos\u001b[0m\u001b[0;34m.\u001b[0m\u001b[0mwalk\u001b[0m\u001b[0;34m(\u001b[0m\u001b[0;34mr'/media/akiirikk/DATADRIVE1/tietokanta/NMRlipidsIVPEandPG/Data/Simulations/'\u001b[0m\u001b[0;34m)\u001b[0m\u001b[0;34m:\u001b[0m\u001b[0;34m\u001b[0m\u001b[0;34m\u001b[0m\u001b[0m\n\u001b[1;32m      8\u001b[0m     \u001b[0;32mfor\u001b[0m \u001b[0mfilename\u001b[0m \u001b[0;32min\u001b[0m \u001b[0mfiles\u001b[0m\u001b[0;34m:\u001b[0m\u001b[0;34m\u001b[0m\u001b[0;34m\u001b[0m\u001b[0m\n",
      "\u001b[0;31mNameError\u001b[0m: name 'plt' is not defined"
     ]
    }
   ],
   "source": [
    "import seaborn as snscolors \n",
    "colors = {'POPC' :'black','POPS':'red','POPE':'blue','POPG':'green'}\n",
    "#lipids = {'POPC','POPS','POPE','POPG'}\n",
    "lipids = {'POPE','POPG','POPS','POPC'}\n",
    "\n",
    "fig= plt.figure(figsize=(8,5))\n",
    "for subdir, dirs, files in os.walk(r'/media/akiirikk/DATADRIVE1/tietokanta/NMRlipidsIVPEandPG/Data/Simulations/'):\n",
    "    for filename in files:\n",
    "        filepath = subdir + os.sep + filename\n",
    "        if filepath.endswith(\".md\"):\n",
    "            dict = eval(open(filepath).read())\n",
    "            for lipid in lipids:\n",
    "                if lipid in dict.get('SYSTEM'):\n",
    "                    OPfilepath = subdir + '/OrderParameters.json'\n",
    "                    print (dict.get('SYSTEM'))\n",
    "                    with open(OPfilepath) as json_file:\n",
    "                        data = json.load(json_file)\n",
    "                    for key,value in data.items():\n",
    "                        #print (key,value[0][0],value[0][2])\n",
    "                        plt.gca().invert_yaxis()\n",
    "                        plt.ylabel('S_CH')\n",
    "                        if 'gamma' in key:\n",
    "                            plt.plot(0,value[0][0],\"s\",color=colors[lipid])\n",
    "                            plt.errorbar(0,value[0][0],yerr=value[0][2],color=colors[lipid])\n",
    "                        if 'beta' in key:\n",
    "                            plt.plot(1,value[0][0],\"s\",color=colors[lipid],label=dict.get('SYSTEM'))\n",
    "                            plt.errorbar(1,value[0][0],yerr=value[0][2],color=colors[lipid])\n",
    "                        if 'alpha' in key:\n",
    "                            plt.plot(2,value[0][0],\"s\",color=colors[lipid])\n",
    "                            plt.errorbar(2,value[0][0],yerr=value[0][2],color=colors[lipid])\n",
    "                        if 'g3' in key:\n",
    "                            plt.plot(3,value[0][0],\"s\",color=colors[lipid])\n",
    "                            plt.errorbar(3,value[0][0],yerr=value[0][2],color=colors[lipid])\n",
    "                        if 'g2' in key:\n",
    "                            plt.plot(4,value[0][0],\"s\",color=colors[lipid])\n",
    "                            plt.errorbar(4,value[0][0],yerr=value[0][2],color=colors[lipid])\n",
    "                        if 'g1' in key:\n",
    "                            plt.plot(5,value[0][0],\"s\",color=colors[lipid])\n",
    "                            plt.errorbar(5,value[0][0],yerr=value[0][2],color=colors[lipid])\n",
    "plt.legend(loc='best',ncol=2)\n",
    "plt.savefig('/media/akiirikk/DATADRIVE1/tietokanta/NMRlipidsIVPEandPG/Figs/CHARMMfromLIPIDS.eps')\n",
    "                    "
   ]
  },
  {
   "cell_type": "code",
   "execution_count": null,
   "metadata": {},
   "outputs": [],
   "source": [
    "colors = {'POPC' :'black','POPS':'red','POPE':'blue','POPG':'green'}\n",
    "#lipids = {'POPC','POPS','POPE','POPG'}\n",
    "#lipids = {'POPE','POPG','POPS','POPC'}\n",
    "lipids ={'POPE'}\n",
    "\n",
    "fig= plt.figure(figsize=(8,5))\n",
    "for subdir, dirs, files in os.walk(r'/home/samuli/work/NMRlipids/NMRlipidsIVPEandPG/Data/Simulations/'):\n",
    "    for filename in files:\n",
    "        filepath = subdir + os.sep + filename\n",
    "        if filepath.endswith(\".md\"):\n",
    "            dict = eval(open(filepath).read())\n",
    "            for lipid in lipids:\n",
    "                if lipid in dict.get('SYSTEM'):\n",
    "                    doi = dict.get('DOI')\n",
    "                    trj = dict.get('TRJ')\n",
    "                    tpr = dict.get('TPR')\n",
    "                    trj_url = download_link(doi, trj[0][0])\n",
    "                    tpr_url = download_link(doi, tpr[0][0])\n",
    "                    trj_name = '/media/samuli/TOSHIBA/DataBank/TST/NMRlipidsIVbTST/'+dict.get('TRJ')[0][0]\n",
    "                    tpr_name = '/media/samuli/TOSHIBA/DataBank/TST/NMRlipidsIVbTST/'+dict.get('TPR')[0][0]\n",
    "                    gro_name = '/media/samuli/TOSHIBA/DataBank/TST/NMRlipidsIVbTST/conf.gro'\n",
    "                    #response = urllib.request.urlretrieve(trj_url, trj_name)\n",
    "                    #response = urllib.request.urlretrieve(tpr_url, tpr_name)\n",
    "                    !echo System | gmx trjconv -f {trj_name} -s {tpr_name} -dump 0 -o {gro_name}\n",
    "                    traj = mdtraj.load(trj_name, top = gro_name)\n",
    "                    dihs = traj.topology.select(\"name == P or name == C11 or name == C12 or name == N\")\n",
    "                    index = [ [] for i in range(traj.topology.n_residues)]\n",
    "                    #dihRESULT = [ [] for i in range(traj.topology.n_residues)]\n",
    "                    dihRESULT = []\n",
    "                    for residue in traj.topology.residues:\n",
    "                        for i in dihs:\n",
    "                            if(traj.topology.atom(i).residue == residue): \n",
    "                                index[residue.index].append(traj.topology.atom(i).index)\n",
    "                        if(len(index[residue.index]) > 0):\n",
    "                            #dihRESULT[residue.index].append(mdtraj.compute_dihedrals(traj,[index[residue.index]]))\n",
    "                            dihRESULT.append(mdtraj.compute_dihedrals(traj,[index[residue.index]]))\n",
    "                    print(dihRESULT)"
   ]
  },
  {
   "cell_type": "code",
   "execution_count": null,
   "metadata": {},
   "outputs": [],
   "source": [
    "dihRESULTall = []\n",
    "#dihRESULTsum=np.add(dihRESULT[5],dihRESULT[5]*-1)\n",
    "#sum=0ihRESULTsum=np.add(dihRESULTsum,dihRESULT[i])\n",
    "#print(dihRESULTsum)\n",
    "#dihRESULTsum=np.add(dihRESULTsum,dihRESULT[9])\n",
    "#print(dihRESULTsum)\n",
    "#dihRESULTsum=np.add(dihRESULTsum,dihRESULT[10])\n",
    "for i in range(traj.topology.n_residues):\n",
    "    if(len(dihRESULT[i]) > 0):\n",
    "        dihRESULTall=dihRESULT[0] + dihRESULT[i]\n",
    "print(dihRESULTall)\n",
    "\n"
   ]
  },
  {
   "cell_type": "code",
   "execution_count": null,
   "metadata": {},
   "outputs": [],
   "source": [
    "print(len(dihRESULT))\n",
    "#print(dihRESULT[1])"
   ]
  },
  {
   "cell_type": "code",
   "execution_count": null,
   "metadata": {},
   "outputs": [],
   "source": []
  },
  {
   "cell_type": "code",
   "execution_count": null,
   "metadata": {
    "scrolled": false
   },
   "outputs": [],
   "source": [
    "dist = [ 0 for i in range(len(dihRESULT))]\n",
    "distSUM = [ 0 for i in range(50)]\n",
    "for i in range(len(dihRESULT)):\n",
    "    dist[i] =  plt.hist(dihRESULT[i], bins=50)\n",
    "    distSUM = np.add(distSUM,dist[i][0])\n",
    "    #print(dist[i][0])\n",
    "    #print(distSUM)"
   ]
  },
  {
   "cell_type": "code",
   "execution_count": null,
   "metadata": {},
   "outputs": [],
   "source": [
    "#totDIST=[distSUM,dist[0][1]]\n",
    "#print(totDIST)\n",
    "#print(dihRESULT[0])\n",
    "#print(dist[0])\n",
    "print(distSUM)\n",
    "xaxis = [ 0 for i in range(len(dist[0][1])-1)]\n",
    "for i in range(len(dist[0][1])-1):\n",
    "    xaxis[i]=(dist[0][1][i])\n",
    "    print(xaxis)\n",
    "plt.plot(xaxis,distSUM)"
   ]
  },
  {
   "cell_type": "code",
   "execution_count": null,
   "metadata": {},
   "outputs": [],
   "source": [
    "dihs = top.select(\"name == P or name == C11 or name == C12 or name == N\")\n",
    "index = [ [] for i in range(traj.topology.n_residues)]\n",
    "dihRESULT = [ [] for i in range(traj.topology.n_residues)]\n",
    "for residue in traj.topology.residues:\n",
    "    for i in dihs:\n",
    "        if(traj.topology.atom(i).residue == residue): \n",
    "            index[residue.index].append(traj.topology.atom(i).index)\n",
    "    dihRESULT[residue.index] = mdtraj.compute_dihedrals(traj,[index[residue.index]])\n",
    "    print(dihRESULT[residue.index])"
   ]
  },
  {
   "cell_type": "code",
   "execution_count": null,
   "metadata": {},
   "outputs": [],
   "source": [
    "mdtraj.compute_dihedrals(traj,[dihs])"
   ]
  },
  {
   "cell_type": "code",
   "execution_count": null,
   "metadata": {},
   "outputs": [],
   "source": [
    "top"
   ]
  },
  {
   "cell_type": "code",
   "execution_count": 2,
   "metadata": {
    "scrolled": true
   },
   "outputs": [
    {
     "ename": "TypeError",
     "evalue": "int() argument must be a string, a bytes-like object or a number, not 'NoneType'",
     "output_type": "error",
     "traceback": [
      "\u001b[0;31m---------------------------------------------------------------------------\u001b[0m",
      "\u001b[0;31mTypeError\u001b[0m                                 Traceback (most recent call last)",
      "\u001b[0;32m<ipython-input-2-1fe982dd10fc>\u001b[0m in \u001b[0;36m<module>\u001b[0;34m\u001b[0m\n\u001b[1;32m     26\u001b[0m \u001b[0;34m\u001b[0m\u001b[0m\n\u001b[1;32m     27\u001b[0m                     \u001b[0;32mif\u001b[0m \u001b[0mreadme\u001b[0m\u001b[0;34m[\u001b[0m\u001b[0;34m'N'\u001b[0m \u001b[0;34m+\u001b[0m \u001b[0mmolname\u001b[0m\u001b[0;34m]\u001b[0m \u001b[0;34m!=\u001b[0m \u001b[0;36m0\u001b[0m\u001b[0;34m:\u001b[0m\u001b[0;34m\u001b[0m\u001b[0;34m\u001b[0m\u001b[0m\n\u001b[0;32m---> 28\u001b[0;31m                         \u001b[0mprint\u001b[0m\u001b[0;34m(\u001b[0m\u001b[0mread_trj_PN_angles\u001b[0m\u001b[0;34m(\u001b[0m\u001b[0mmolname\u001b[0m\u001b[0;34m,\u001b[0m \u001b[0mtpr_name\u001b[0m\u001b[0;34m,\u001b[0m \u001b[0mtrj_name\u001b[0m\u001b[0;34m)\u001b[0m\u001b[0;34m)\u001b[0m\u001b[0;34m\u001b[0m\u001b[0;34m\u001b[0m\u001b[0m\n\u001b[0m\u001b[1;32m     29\u001b[0m \u001b[0;34m\u001b[0m\u001b[0m\n\u001b[1;32m     30\u001b[0m \u001b[0;34m\u001b[0m\u001b[0m\n",
      "\u001b[0;32m/media/akiirikk/DATADRIVE1/tietokanta/NMRlipidsIVPEandPG/scripts/OrderParameter.py\u001b[0m in \u001b[0;36mread_trj_PN_angles\u001b[0;34m(molname, top_fname, traj_fname)\u001b[0m\n\u001b[1;32m    244\u001b[0m     \u001b[0mmol\u001b[0m \u001b[0;34m=\u001b[0m \u001b[0mmda\u001b[0m\u001b[0;34m.\u001b[0m\u001b[0mUniverse\u001b[0m\u001b[0;34m(\u001b[0m\u001b[0mtop_fname\u001b[0m\u001b[0;34m,\u001b[0m \u001b[0mtraj_fname\u001b[0m\u001b[0;34m)\u001b[0m\u001b[0;34m\u001b[0m\u001b[0;34m\u001b[0m\u001b[0m\n\u001b[1;32m    245\u001b[0m \u001b[0;34m\u001b[0m\u001b[0m\n\u001b[0;32m--> 246\u001b[0;31m     \u001b[0mselection\u001b[0m \u001b[0;34m=\u001b[0m \u001b[0mmol\u001b[0m\u001b[0;34m.\u001b[0m\u001b[0mselect_atoms\u001b[0m\u001b[0;34m(\u001b[0m\u001b[0;34m\"resname \"\u001b[0m \u001b[0;34m+\u001b[0m \u001b[0mmolname\u001b[0m \u001b[0;34m+\u001b[0m \u001b[0;34m\" and atom P\"\u001b[0m\u001b[0;34m)\u001b[0m\u001b[0;34m\u001b[0m\u001b[0;34m\u001b[0m\u001b[0m\n\u001b[0m\u001b[1;32m    247\u001b[0m     \u001b[0mnRes\u001b[0m \u001b[0;34m=\u001b[0m \u001b[0mlen\u001b[0m\u001b[0;34m(\u001b[0m\u001b[0mselection\u001b[0m\u001b[0;34m)\u001b[0m\u001b[0;34m\u001b[0m\u001b[0;34m\u001b[0m\u001b[0m\n\u001b[1;32m    248\u001b[0m     \u001b[0;32mreturn\u001b[0m \u001b[0mnRes\u001b[0m\u001b[0;34m\u001b[0m\u001b[0;34m\u001b[0m\u001b[0m\n",
      "\u001b[0;32m~/.local/lib/python3.7/site-packages/MDAnalysis/core/universe.py\u001b[0m in \u001b[0;36mselect_atoms\u001b[0;34m(self, *args, **kwargs)\u001b[0m\n\u001b[1;32m    697\u001b[0m         \u001b[0;34m:\u001b[0m\u001b[0mmeth\u001b[0m\u001b[0;34m:\u001b[0m\u001b[0;31m`\u001b[0m\u001b[0mMDAnalysis\u001b[0m\u001b[0;34m.\u001b[0m\u001b[0mcore\u001b[0m\u001b[0;34m.\u001b[0m\u001b[0mgroups\u001b[0m\u001b[0;34m.\u001b[0m\u001b[0mAtomGroup\u001b[0m\u001b[0;34m.\u001b[0m\u001b[0mselect_atoms\u001b[0m\u001b[0;31m`\u001b[0m\u001b[0;34m\u001b[0m\u001b[0;34m\u001b[0m\u001b[0m\n\u001b[1;32m    698\u001b[0m         \"\"\"\n\u001b[0;32m--> 699\u001b[0;31m         \u001b[0;32mreturn\u001b[0m \u001b[0mself\u001b[0m\u001b[0;34m.\u001b[0m\u001b[0matoms\u001b[0m\u001b[0;34m.\u001b[0m\u001b[0mselect_atoms\u001b[0m\u001b[0;34m(\u001b[0m\u001b[0;34m*\u001b[0m\u001b[0margs\u001b[0m\u001b[0;34m,\u001b[0m \u001b[0;34m**\u001b[0m\u001b[0mkwargs\u001b[0m\u001b[0;34m)\u001b[0m\u001b[0;34m\u001b[0m\u001b[0;34m\u001b[0m\u001b[0m\n\u001b[0m\u001b[1;32m    700\u001b[0m \u001b[0;34m\u001b[0m\u001b[0m\n\u001b[1;32m    701\u001b[0m     \u001b[0;34m@\u001b[0m\u001b[0mproperty\u001b[0m\u001b[0;34m\u001b[0m\u001b[0;34m\u001b[0m\u001b[0m\n",
      "\u001b[0;32m~/.local/lib/python3.7/site-packages/MDAnalysis/core/groups.py\u001b[0m in \u001b[0;36mselect_atoms\u001b[0;34m(self, sel, *othersel, **selgroups)\u001b[0m\n\u001b[1;32m   2852\u001b[0m \u001b[0;34m\u001b[0m\u001b[0m\n\u001b[1;32m   2853\u001b[0m         selections = tuple((selection.Parser.parse(s, selgroups, periodic=periodic)\n\u001b[0;32m-> 2854\u001b[0;31m                             for s in sel_strs))\n\u001b[0m\u001b[1;32m   2855\u001b[0m         \u001b[0;32mif\u001b[0m \u001b[0mupdating\u001b[0m\u001b[0;34m:\u001b[0m\u001b[0;34m\u001b[0m\u001b[0;34m\u001b[0m\u001b[0m\n\u001b[1;32m   2856\u001b[0m             \u001b[0matomgrp\u001b[0m \u001b[0;34m=\u001b[0m \u001b[0mUpdatingAtomGroup\u001b[0m\u001b[0;34m(\u001b[0m\u001b[0mself\u001b[0m\u001b[0;34m,\u001b[0m \u001b[0mselections\u001b[0m\u001b[0;34m,\u001b[0m \u001b[0msel_strs\u001b[0m\u001b[0;34m)\u001b[0m\u001b[0;34m\u001b[0m\u001b[0;34m\u001b[0m\u001b[0m\n",
      "\u001b[0;32m~/.local/lib/python3.7/site-packages/MDAnalysis/core/groups.py\u001b[0m in \u001b[0;36m<genexpr>\u001b[0;34m(.0)\u001b[0m\n\u001b[1;32m   2852\u001b[0m \u001b[0;34m\u001b[0m\u001b[0m\n\u001b[1;32m   2853\u001b[0m         selections = tuple((selection.Parser.parse(s, selgroups, periodic=periodic)\n\u001b[0;32m-> 2854\u001b[0;31m                             for s in sel_strs))\n\u001b[0m\u001b[1;32m   2855\u001b[0m         \u001b[0;32mif\u001b[0m \u001b[0mupdating\u001b[0m\u001b[0;34m:\u001b[0m\u001b[0;34m\u001b[0m\u001b[0;34m\u001b[0m\u001b[0m\n\u001b[1;32m   2856\u001b[0m             \u001b[0matomgrp\u001b[0m \u001b[0;34m=\u001b[0m \u001b[0mUpdatingAtomGroup\u001b[0m\u001b[0;34m(\u001b[0m\u001b[0mself\u001b[0m\u001b[0;34m,\u001b[0m \u001b[0mselections\u001b[0m\u001b[0;34m,\u001b[0m \u001b[0msel_strs\u001b[0m\u001b[0;34m)\u001b[0m\u001b[0;34m\u001b[0m\u001b[0;34m\u001b[0m\u001b[0m\n",
      "\u001b[0;32m~/.local/lib/python3.7/site-packages/MDAnalysis/core/selection.py\u001b[0m in \u001b[0;36mparse\u001b[0;34m(self, selectstr, selgroups, periodic)\u001b[0m\n\u001b[1;32m   1159\u001b[0m         \u001b[0mtokens\u001b[0m \u001b[0;34m=\u001b[0m \u001b[0mselectstr\u001b[0m\u001b[0;34m.\u001b[0m\u001b[0mreplace\u001b[0m\u001b[0;34m(\u001b[0m\u001b[0;34m'('\u001b[0m\u001b[0;34m,\u001b[0m \u001b[0;34m' ( '\u001b[0m\u001b[0;34m)\u001b[0m\u001b[0;34m.\u001b[0m\u001b[0mreplace\u001b[0m\u001b[0;34m(\u001b[0m\u001b[0;34m')'\u001b[0m\u001b[0;34m,\u001b[0m \u001b[0;34m' ) '\u001b[0m\u001b[0;34m)\u001b[0m\u001b[0;34m\u001b[0m\u001b[0;34m\u001b[0m\u001b[0m\n\u001b[1;32m   1160\u001b[0m         \u001b[0mself\u001b[0m\u001b[0;34m.\u001b[0m\u001b[0mtokens\u001b[0m \u001b[0;34m=\u001b[0m \u001b[0mcollections\u001b[0m\u001b[0;34m.\u001b[0m\u001b[0mdeque\u001b[0m\u001b[0;34m(\u001b[0m\u001b[0mtokens\u001b[0m\u001b[0;34m.\u001b[0m\u001b[0msplit\u001b[0m\u001b[0;34m(\u001b[0m\u001b[0;34m)\u001b[0m \u001b[0;34m+\u001b[0m \u001b[0;34m[\u001b[0m\u001b[0;32mNone\u001b[0m\u001b[0;34m]\u001b[0m\u001b[0;34m)\u001b[0m\u001b[0;34m\u001b[0m\u001b[0;34m\u001b[0m\u001b[0m\n\u001b[0;32m-> 1161\u001b[0;31m         \u001b[0mparsetree\u001b[0m \u001b[0;34m=\u001b[0m \u001b[0mself\u001b[0m\u001b[0;34m.\u001b[0m\u001b[0mparse_expression\u001b[0m\u001b[0;34m(\u001b[0m\u001b[0;36m0\u001b[0m\u001b[0;34m)\u001b[0m\u001b[0;34m\u001b[0m\u001b[0;34m\u001b[0m\u001b[0m\n\u001b[0m\u001b[1;32m   1162\u001b[0m         \u001b[0;32mif\u001b[0m \u001b[0mself\u001b[0m\u001b[0;34m.\u001b[0m\u001b[0mtokens\u001b[0m\u001b[0;34m[\u001b[0m\u001b[0;36m0\u001b[0m\u001b[0;34m]\u001b[0m \u001b[0;32mis\u001b[0m \u001b[0;32mnot\u001b[0m \u001b[0;32mNone\u001b[0m\u001b[0;34m:\u001b[0m\u001b[0;34m\u001b[0m\u001b[0;34m\u001b[0m\u001b[0m\n\u001b[1;32m   1163\u001b[0m             raise SelectionError(\n",
      "\u001b[0;32m~/.local/lib/python3.7/site-packages/MDAnalysis/core/selection.py\u001b[0m in \u001b[0;36mparse_expression\u001b[0;34m(self, p)\u001b[0m\n\u001b[1;32m   1172\u001b[0m             \u001b[0mop\u001b[0m \u001b[0;34m=\u001b[0m \u001b[0m_OPERATIONS\u001b[0m\u001b[0;34m[\u001b[0m\u001b[0mself\u001b[0m\u001b[0;34m.\u001b[0m\u001b[0mtokens\u001b[0m\u001b[0;34m.\u001b[0m\u001b[0mpopleft\u001b[0m\u001b[0;34m(\u001b[0m\u001b[0;34m)\u001b[0m\u001b[0;34m]\u001b[0m\u001b[0;34m\u001b[0m\u001b[0;34m\u001b[0m\u001b[0m\n\u001b[1;32m   1173\u001b[0m             \u001b[0mq\u001b[0m \u001b[0;34m=\u001b[0m \u001b[0;36m1\u001b[0m \u001b[0;34m+\u001b[0m \u001b[0mop\u001b[0m\u001b[0;34m.\u001b[0m\u001b[0mprecedence\u001b[0m\u001b[0;34m\u001b[0m\u001b[0;34m\u001b[0m\u001b[0m\n\u001b[0;32m-> 1174\u001b[0;31m             \u001b[0mexp2\u001b[0m \u001b[0;34m=\u001b[0m \u001b[0mself\u001b[0m\u001b[0;34m.\u001b[0m\u001b[0mparse_expression\u001b[0m\u001b[0;34m(\u001b[0m\u001b[0mq\u001b[0m\u001b[0;34m)\u001b[0m\u001b[0;34m\u001b[0m\u001b[0;34m\u001b[0m\u001b[0m\n\u001b[0m\u001b[1;32m   1175\u001b[0m             \u001b[0mexp1\u001b[0m \u001b[0;34m=\u001b[0m \u001b[0mop\u001b[0m\u001b[0;34m(\u001b[0m\u001b[0mexp1\u001b[0m\u001b[0;34m,\u001b[0m \u001b[0mexp2\u001b[0m\u001b[0;34m)\u001b[0m\u001b[0;34m\u001b[0m\u001b[0;34m\u001b[0m\u001b[0m\n\u001b[1;32m   1176\u001b[0m         \u001b[0;32mreturn\u001b[0m \u001b[0mexp1\u001b[0m\u001b[0;34m\u001b[0m\u001b[0;34m\u001b[0m\u001b[0m\n",
      "\u001b[0;32m~/.local/lib/python3.7/site-packages/MDAnalysis/core/selection.py\u001b[0m in \u001b[0;36mparse_expression\u001b[0;34m(self, p)\u001b[0m\n\u001b[1;32m   1167\u001b[0m \u001b[0;34m\u001b[0m\u001b[0m\n\u001b[1;32m   1168\u001b[0m     \u001b[0;32mdef\u001b[0m \u001b[0mparse_expression\u001b[0m\u001b[0;34m(\u001b[0m\u001b[0mself\u001b[0m\u001b[0;34m,\u001b[0m \u001b[0mp\u001b[0m\u001b[0;34m)\u001b[0m\u001b[0;34m:\u001b[0m\u001b[0;34m\u001b[0m\u001b[0;34m\u001b[0m\u001b[0m\n\u001b[0;32m-> 1169\u001b[0;31m         \u001b[0mexp1\u001b[0m \u001b[0;34m=\u001b[0m \u001b[0mself\u001b[0m\u001b[0;34m.\u001b[0m\u001b[0m_parse_subexp\u001b[0m\u001b[0;34m(\u001b[0m\u001b[0;34m)\u001b[0m\u001b[0;34m\u001b[0m\u001b[0;34m\u001b[0m\u001b[0m\n\u001b[0m\u001b[1;32m   1170\u001b[0m         while (self.tokens[0] in _OPERATIONS and\n\u001b[1;32m   1171\u001b[0m                _OPERATIONS[self.tokens[0]].precedence >= p):\n",
      "\u001b[0;32m~/.local/lib/python3.7/site-packages/MDAnalysis/core/selection.py\u001b[0m in \u001b[0;36m_parse_subexp\u001b[0;34m(self)\u001b[0m\n\u001b[1;32m   1185\u001b[0m \u001b[0;34m\u001b[0m\u001b[0m\n\u001b[1;32m   1186\u001b[0m         \u001b[0;32mtry\u001b[0m\u001b[0;34m:\u001b[0m\u001b[0;34m\u001b[0m\u001b[0;34m\u001b[0m\u001b[0m\n\u001b[0;32m-> 1187\u001b[0;31m             \u001b[0;32mreturn\u001b[0m \u001b[0m_SELECTIONDICT\u001b[0m\u001b[0;34m[\u001b[0m\u001b[0mop\u001b[0m\u001b[0;34m]\u001b[0m\u001b[0;34m(\u001b[0m\u001b[0mself\u001b[0m\u001b[0;34m,\u001b[0m \u001b[0mself\u001b[0m\u001b[0;34m.\u001b[0m\u001b[0mtokens\u001b[0m\u001b[0;34m)\u001b[0m\u001b[0;34m\u001b[0m\u001b[0;34m\u001b[0m\u001b[0m\n\u001b[0m\u001b[1;32m   1188\u001b[0m         \u001b[0;32mexcept\u001b[0m \u001b[0mKeyError\u001b[0m\u001b[0;34m:\u001b[0m\u001b[0;34m\u001b[0m\u001b[0;34m\u001b[0m\u001b[0m\n\u001b[1;32m   1189\u001b[0m             \u001b[0;32mraise\u001b[0m \u001b[0mSelectionError\u001b[0m\u001b[0;34m(\u001b[0m\u001b[0;34m\"Unknown selection token: '{0}'\"\u001b[0m\u001b[0;34m.\u001b[0m\u001b[0mformat\u001b[0m\u001b[0;34m(\u001b[0m\u001b[0mop\u001b[0m\u001b[0;34m)\u001b[0m\u001b[0;34m)\u001b[0m\u001b[0;34m\u001b[0m\u001b[0;34m\u001b[0m\u001b[0m\n",
      "\u001b[0;32m~/.local/lib/python3.7/site-packages/MDAnalysis/core/selection.py\u001b[0m in \u001b[0;36m__init__\u001b[0;34m(self, parser, tokens)\u001b[0m\n\u001b[1;32m    436\u001b[0m     \u001b[0;32mdef\u001b[0m \u001b[0m__init__\u001b[0m\u001b[0;34m(\u001b[0m\u001b[0mself\u001b[0m\u001b[0;34m,\u001b[0m \u001b[0mparser\u001b[0m\u001b[0;34m,\u001b[0m \u001b[0mtokens\u001b[0m\u001b[0;34m)\u001b[0m\u001b[0;34m:\u001b[0m\u001b[0;34m\u001b[0m\u001b[0;34m\u001b[0m\u001b[0m\n\u001b[1;32m    437\u001b[0m         \u001b[0mself\u001b[0m\u001b[0;34m.\u001b[0m\u001b[0msegid\u001b[0m \u001b[0;34m=\u001b[0m \u001b[0mtokens\u001b[0m\u001b[0;34m.\u001b[0m\u001b[0mpopleft\u001b[0m\u001b[0;34m(\u001b[0m\u001b[0;34m)\u001b[0m\u001b[0;34m\u001b[0m\u001b[0;34m\u001b[0m\u001b[0m\n\u001b[0;32m--> 438\u001b[0;31m         \u001b[0mself\u001b[0m\u001b[0;34m.\u001b[0m\u001b[0mresid\u001b[0m \u001b[0;34m=\u001b[0m \u001b[0mint\u001b[0m\u001b[0;34m(\u001b[0m\u001b[0mtokens\u001b[0m\u001b[0;34m.\u001b[0m\u001b[0mpopleft\u001b[0m\u001b[0;34m(\u001b[0m\u001b[0;34m)\u001b[0m\u001b[0;34m)\u001b[0m\u001b[0;34m\u001b[0m\u001b[0;34m\u001b[0m\u001b[0m\n\u001b[0m\u001b[1;32m    439\u001b[0m         \u001b[0mself\u001b[0m\u001b[0;34m.\u001b[0m\u001b[0mname\u001b[0m \u001b[0;34m=\u001b[0m \u001b[0mtokens\u001b[0m\u001b[0;34m.\u001b[0m\u001b[0mpopleft\u001b[0m\u001b[0;34m(\u001b[0m\u001b[0;34m)\u001b[0m\u001b[0;34m\u001b[0m\u001b[0;34m\u001b[0m\u001b[0m\n\u001b[1;32m    440\u001b[0m \u001b[0;34m\u001b[0m\u001b[0m\n",
      "\u001b[0;31mTypeError\u001b[0m: int() argument must be a string, a bytes-like object or a number, not 'NoneType'"
     ]
    }
   ],
   "source": [
    "\n",
    "                        \n",
    "                        \n",
    "                "
   ]
  },
  {
   "cell_type": "code",
   "execution_count": null,
   "metadata": {},
   "outputs": [],
   "source": []
  },
  {
   "cell_type": "code",
   "execution_count": null,
   "metadata": {},
   "outputs": [],
   "source": []
  },
  {
   "cell_type": "code",
   "execution_count": null,
   "metadata": {},
   "outputs": [],
   "source": []
  }
 ],
 "metadata": {
  "kernelspec": {
   "display_name": "Python 3",
   "language": "python",
   "name": "python3"
  },
  "language_info": {
   "codemirror_mode": {
    "name": "ipython",
    "version": 3
   },
   "file_extension": ".py",
   "mimetype": "text/x-python",
   "name": "python",
   "nbconvert_exporter": "python",
   "pygments_lexer": "ipython3",
   "version": "3.7.6"
  }
 },
 "nbformat": 4,
 "nbformat_minor": 4
}

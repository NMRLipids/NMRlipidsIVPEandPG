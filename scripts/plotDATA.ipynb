{
 "cells": [
  {
   "cell_type": "code",
   "execution_count": 1,
   "metadata": {},
   "outputs": [],
   "source": [
    "import os\n",
    "import numpy as np\n",
    "\n",
    "import yaml\n",
    "import json\n",
    "import matplotlib.pyplot as plt\n",
    "import mdtraj\n",
    "import urllib.request\n",
    "import seaborn as sns\n",
    "\n",
    "from OrderParameter import *\n",
    "\n",
    "# Download link\n",
    "def download_link(doi, file):\n",
    "    if \"zenodo\" in doi.lower():\n",
    "        zenodo_entry_number = doi.split(\".\")[2]\n",
    "        return 'https://zenodo.org/record/' + zenodo_entry_number + '/files/' + file\n",
    "    else:\n",
    "        print (\"DOI provided: {0}\".format(doi))\n",
    "        print (\"Repository not validated. Please upload the data for example to zenodo.org\")\n",
    "        return \"\""
   ]
  },
  {
   "cell_type": "code",
   "execution_count": null,
   "metadata": {},
   "outputs": [],
   "source": [
    "def read_mapping_file(mapping_file, atom1, atom2):\n",
    "    with open(mapping_file, 'rt') as mapping_file:\n",
    "            for line in mapping_file:\n",
    "                if atom1 in line:\n",
    "                    m_atom1 = line.split()[1]\n",
    "#                    print(m_atom1)\n",
    "                if atom2 in line: \n",
    "                    m_atom2 = line.split()[1]\n",
    "#                    print(m_atom2)\n",
    "    return m_atom1, m_atom2"
   ]
  },
  {
   "cell_type": "markdown",
   "metadata": {},
   "source": [
    "## Calculate the the angle between PN vector and z-axis  and plot the distribution of angles for each simulation"
   ]
  },
  {
   "cell_type": "code",
   "execution_count": null,
   "metadata": {},
   "outputs": [],
   "source": [
    "def findPNangle(lipid, atom1, atom2, tpr_name, trj_name, mapping):\n",
    "    \n",
    "    return "
   ]
  },
  {
   "cell_type": "code",
   "execution_count": null,
   "metadata": {
    "scrolled": true
   },
   "outputs": [],
   "source": [
    "#Calculate the angle between PN vector and z-axis for each lipid residues\n",
    "\n",
    "lipids = {'POPC','POPS','POPE','POPG'}\n",
    "atom1 = 'M_G3P2_M'\n",
    "atom2 = 'M_G3N6_M'\n",
    "atom2_POPG = 'M_G3C6_M'\n",
    "\n",
    "colors = {'POPC' :'black','POPS':'red','POPE':'blue','POPG':'green'}\n",
    "\n",
    "\n",
    "fig= plt.figure(figsize=(12,9))\n",
    "\n",
    "h = []\n",
    "\n",
    "for subdir, dirs, files in os.walk(r'/media/akiirikk/DATADRIVE1/tietokanta/NMRlipidsIVPEandPG/Data/Simulations/'):\n",
    "    for filename in files:\n",
    "        filepath = subdir + os.sep + filename\n",
    "        if filepath.endswith(\"README.yaml\"):\n",
    "            READMEfilepath = subdir + '/README.yaml'\n",
    "            with open(READMEfilepath) as yaml_file:\n",
    "                readme = yaml.load(yaml_file, Loader=yaml.FullLoader)\n",
    "                for molname in lipids:\n",
    "                    doi = readme.get('DOI')\n",
    "                    trj = readme.get('TRJ')\n",
    "                    tpr = readme.get('TPR')\n",
    " #                   trj_url = download_link(doi, trj[0][0])\n",
    " #                   tpr_url = download_link(doi, tpr[0][0])\n",
    "                    trj_name = '/media/akiirikk/DATADRIVE1/tietokanta/temp/DATAbankTST/' + molname + 'charmm/tmp/0/'+readme.get('TRJ')[0][0]\n",
    "                    tpr_name = '/media/akiirikk/DATADRIVE1/tietokanta/temp/DATAbankTST/' + molname + 'charmm/tmp/0/'+readme.get('TPR')[0][0]\n",
    "                    \n",
    "                    if sum(readme['N' + molname]) > 0:\n",
    "                        print(molname)\n",
    "                        mapping_file = readme.get('MAPPING')[0][0]\n",
    "                        print(mapping_file)\n",
    "                        if molname == 'POPG':\n",
    "                            atoms = read_mapping_file(mapping_file, atom1 , atom2_POPG)\n",
    "                        else:\n",
    "                            atoms = read_mapping_file(mapping_file, atom1, atom2)\n",
    "                        try:\n",
    "                            anglesMeanError = read_trj_PN_angles(molname, atoms, tpr_name, trj_name)\n",
    "                        except OSError:\n",
    "                            print(\"Could not calculate angles for \" + molname + \" from files \" + tpr_name + \" and \" + trj_name)\n",
    "                            continue\n",
    "                        angles = anglesMeanError[0]\n",
    "                        totalAverage = anglesMeanError[1]\n",
    "                        totalAverageError = anglesMeanError[2]\n",
    "                    \n",
    "                        \n",
    "                        dist = [ 0 for i in range(len(angles))]\n",
    "                        distSUM = [ 0 for i in range(100)]\n",
    "                        for i in range(len(angles)):\n",
    "                            dist[i] =  plt.hist(angles[i], bins=100)\n",
    "                            #dist[i] = plt.hist(dihAVG[i], bins=50)\n",
    "                            distSUM = np.add(distSUM,dist[i][0])\n",
    "                            \n",
    "                        #print(distSUM)\n",
    "                       \n",
    "                        #print(len(dist))\n",
    "                        xaxis = [ 0 for i in range(len(dist[0][1])-1)]\n",
    "                        for i in range(len(dist[0][1])-1):\n",
    "                            xaxis[i]=(dist[0][1][i])\n",
    "                            \n",
    "                        h.append(plt.plot(xaxis,distSUM,color=colors[molname], label = readme.get('SYSTEM'))[0])\n",
    "                        print(molname)\n",
    "                        print(colors[molname])\n",
    "            \n",
    "labels = [l.get_label() for l in h]\n",
    "plt.legend(h, labels, loc='best',ncol=2)\n"
   ]
  },
  {
   "cell_type": "markdown",
   "metadata": {},
   "source": [
    "## Plot order parameters for each simulation"
   ]
  },
  {
   "cell_type": "code",
   "execution_count": 3,
   "metadata": {},
   "outputs": [
    {
     "name": "stdout",
     "output_type": "stream",
     "text": [
      "/media/akiirikk/DATADRIVE1/tietokanta/NMRlipidsIVPEandPG/Data/Simulations/0d5/d1d/0d5d1dcb43e775faf4e53c4f9ff255a67481bd38/9b487701b24d3fad83991e311188b08d3d5ea768/OrderParameters.json\n",
      "POPG_298K\n",
      "/media/akiirikk/DATADRIVE1/tietokanta/NMRlipidsIVPEandPG/Data/Simulations/1b2/6e6/1b26e6c750b4f39c37770422cd4d3c40240cf111/995bc873b811ca09c916b47784fa33bb9d793732/OrderParameters.json\n",
      "POPS_298K\n",
      "/media/akiirikk/DATADRIVE1/tietokanta/NMRlipidsIVPEandPG/Data/Simulations/2d4/61b/2d461bc9d828af155146162ef42438974e4cbeaf/c8ce4cc36ef6ec7a085cf011176a92d9d746a792/OrderParameters.json\n",
      "POPE_310K\n",
      "/media/akiirikk/DATADRIVE1/tietokanta/NMRlipidsIVPEandPG/Data/Simulations/b4f/866/b4f866c0dabffa6cd891e91841591d46590f34aa/a231c358dd8c0b7bb4cf558ccdbf022373354a9a/OrderParameters.json\n",
      "POPC_303K\n",
      "/media/akiirikk/DATADRIVE1/tietokanta/NMRlipidsIVPEandPG/Data/Simulations/f40/bb6/f40bb6ab5d44402be07059e8df74b5a8200f031e/6774168dfec0a5a7377c8a46341eba603f320cf7/OrderParameters.json\n",
      "POPS_298K\n"
     ]
    },
    {
     "name": "stderr",
     "output_type": "stream",
     "text": [
      "The PostScript backend does not support transparency; partially transparent artists will be rendered opaque.\n",
      "The PostScript backend does not support transparency; partially transparent artists will be rendered opaque.\n"
     ]
    },
    {
     "data": {
      "image/png": "[encoded data removed]",
      "text/plain": [
       "<Figure size 576x360 with 1 Axes>"
      ]
     },
     "metadata": {
      "needs_background": "light"
     },
     "output_type": "display_data"
    }
   ],
   "source": [
    "\n",
    "colors = {'POPC' :'black','POPS':'red','POPE':'blue','POPG':'green'}\n",
    "lipids = {'POPC','POPS','POPE','POPG'}\n",
    "\n",
    "\n",
    "fig= plt.figure(figsize=(8,5))\n",
    "for subdir, dirs, files in os.walk(r'/media/akiirikk/DATADRIVE1/tietokanta/NMRlipidsIVPEandPG/Data/Simulations/'):\n",
    "    for filename in files:\n",
    "        filepath = subdir + os.sep + filename\n",
    "        if filepath.endswith(\"README.yaml\"):\n",
    "            READMEfilepath = subdir + '/README.yaml'\n",
    "            with open(READMEfilepath) as yaml_file:\n",
    "                readme = yaml.load(yaml_file, Loader=yaml.FullLoader)\n",
    "               # print(readme)\n",
    "            for lipid in lipids:\n",
    "                if lipid in readme.get('SYSTEM') and sum(readme['N' + lipid]) > 0:\n",
    "                    OPfilepath = subdir + '/OrderParameters.json'\n",
    "                    print(OPfilepath)\n",
    "                    print(readme.get('SYSTEM'))\n",
    "                    with open(OPfilepath) as json_file:\n",
    "                        data = json.load(json_file)\n",
    "                    for key,value in data.items():\n",
    "                       #print (key,value[0][0],value[0][2])\n",
    "                        plt.gca().invert_yaxis()\n",
    "                        plt.ylabel('S_CH')\n",
    "                        \n",
    "                        if lipid == 'POPG' and 'M_G3C6_M' in key:\n",
    "                            plt.plot(0,value[0][0],\"s\",color=colors[lipid])\n",
    "                            plt.errorbar(0,value[0][0],yerr=value[0][2],color=colors[lipid])\n",
    "                        if 'M_G3N6' in key:\n",
    "                            plt.plot(0,value[0][0],\"s\",color=colors[lipid])\n",
    "                            plt.errorbar(0,value[0][0],yerr=value[0][2],color=colors[lipid])\n",
    "                        if 'M_G3C5_M' in key:\n",
    "                            plt.plot(1,value[0][0],\"s\",color=colors[lipid],label=readme.get('SYSTEM'))\n",
    "                            plt.errorbar(1,value[0][0],yerr=value[0][2],color=colors[lipid])\n",
    "                        if 'M_G3C4_M' in key:\n",
    "                            plt.plot(2,value[0][0],\"s\",color=colors[lipid])\n",
    "                            plt.errorbar(2,value[0][0],yerr=value[0][2],color=colors[lipid])\n",
    "                        if 'M_G3_M' in key:\n",
    "                            plt.plot(3,value[0][0],\"s\",color=colors[lipid])\n",
    "                            plt.errorbar(3,value[0][0],yerr=value[0][2],color=colors[lipid])\n",
    "                        if 'M_G2_M' in key:\n",
    "                            plt.plot(4,value[0][0],\"s\",color=colors[lipid])\n",
    "                            plt.errorbar(4,value[0][0],yerr=value[0][2],color=colors[lipid])\n",
    "                        if 'M_G1_M' in key:\n",
    "                            plt.plot(5,value[0][0],\"s\",color=colors[lipid])\n",
    "                            plt.errorbar(5,value[0][0],yerr=value[0][2],color=colors[lipid])\n",
    "            \n",
    "plt.legend(loc='best',ncol=2)\n",
    "plt.savefig('/media/akiirikk/DATADRIVE1/tietokanta/NMRlipidsIVPEandPG/Figs/CHARMMfromLIPIDS.eps')\n",
    "                    "
   ]
  },
  {
   "cell_type": "markdown",
   "metadata": {},
   "source": [
    "## Calculate and plot dihedral angles for each simulation"
   ]
  },
  {
   "cell_type": "code",
   "execution_count": null,
   "metadata": {},
   "outputs": [],
   "source": [
    "colors = {'POPC' :'black','POPS':'red','POPE':'blue','POPG':'green'}\n",
    "#lipids = {'POPC','POPS','POPE','POPG'}\n",
    "lipids = {'POPE','POPG','POPS','POPC'}\n",
    "h = []\n",
    "\n",
    "fig= plt.figure(figsize=(8,5))\n",
    "for subdir, dirs, files in os.walk(r'/media/akiirikk/DATADRIVE1/tietokanta/NMRlipidsIVPEandPG/Data/Simulations/'):\n",
    "    for filename in files:\n",
    "        filepath = subdir + os.sep + filename\n",
    "        if filepath.endswith(\"README.yaml\"):\n",
    "            READMEfilepath = subdir + '/README.yaml'\n",
    "            with open(READMEfilepath) as yaml_file:\n",
    "                readme = yaml.load(yaml_file, Loader=yaml.FullLoader)\n",
    "            for lipid in lipids:\n",
    "                \n",
    "                if lipid in readme.get('SYSTEM'):\n",
    "                    doi = readme.get('DOI')\n",
    "                    trj = readme.get('TRJ')\n",
    "                    tpr = readme.get('TPR')\n",
    "              #      trj_url = download_link(doi, trj[0][0])\n",
    "              #      tpr_url = download_link(doi, tpr[0][0])\n",
    "                    trj_name = '/media/akiirikk/DATADRIVE1/tietokanta/temp/DATAbankTST/' + lipid + 'charmm/tmp/0/'+readme.get('TRJ')[0][0]\n",
    "                    tpr_name = '/media/akiirikk/DATADRIVE1/tietokanta/temp/DATAbankTST/' + lipid + 'charmm/tmp/0/'+readme.get('TPR')[0][0]\n",
    "                    gro_name = '/media/akiirikk/DATADRIVE1/tietokanta/temp/DATAbankTST/' + lipid + 'charmm/tmp/0/'+readme.get('INI')[0][0]\n",
    "                    #response = urllib.request.urlretrieve(trj_url, trj_name)\n",
    "                    #response = urllib.request.urlretrieve(tpr_url, tpr_name)\n",
    "                    \n",
    "                    #!echo System | gmx trjconv -f {trj_name} -s {tpr_name} -dump 0 -o {gro_name}\n",
    "                \n",
    "                    if sum(readme['N' + lipid]) > 0:\n",
    "                        \n",
    "                        try:\n",
    "                            traj = mdtraj.load(trj_name, top = gro_name)\n",
    "                            print(lipid)\n",
    "                        except FileNotFoundError or OSError:\n",
    "                            continue\n",
    "                        if lipid == 'POPG':\n",
    "                            dihs = traj.topology.select(\"name == P or name == C11 or name == C12 or name == C13\")\n",
    "                        else:\n",
    "                            dihs = traj.topology.select(\"name == P or name == C11 or name == C12 or name == N\")\n",
    "                        #print(dihs)\n",
    "                        #print(range(traj.topology.n_residues))\n",
    "                        #print(traj.n_frames)\n",
    "                        index = [ [] for i in range(traj.topology.n_residues)]\n",
    "                    #dihRESULT = [ [] for i in range(traj.topology.n_residues)]\n",
    "                        dihRESULT = []\n",
    "                        for residue in traj.topology.residues:\n",
    "                            for i in dihs:\n",
    "                                if(traj.topology.atom(i).residue == residue): \n",
    "                                    index[residue.index].append(traj.topology.atom(i).index)\n",
    "                            if(len(index[residue.index]) > 0):\n",
    "                            #dihRESULT[residue.index].append(mdtraj.compute_dihedrals(traj,[index[residue.index]]))\n",
    "                                #print(index[residue.index])\n",
    "                                dihRESULT.append(mdtraj.compute_dihedrals(traj,[index[residue.index]]))\n",
    "                       # nFrames = traj.n_frames\n",
    "                       # dihAVG = [x / nFrames for x in dihRESULT]\n",
    "                        \n",
    "                        #print(dihRESULT)\n",
    "                        dist = [ 0 for i in range(len(dihRESULT))]\n",
    "                        distSUM = [ 0 for i in range(100)]\n",
    "                        for i in range(len(dihRESULT)):\n",
    "                            dist[i] =  plt.hist(dihRESULT[i], bins=100)\n",
    "                            #dist[i] = plt.hist(dihAVG[i], bins=50)\n",
    "                            distSUM = np.add(distSUM,dist[i][0])\n",
    "                            \n",
    "                        #print(distSUM)\n",
    "                       \n",
    "                        #print(len(dist))\n",
    "                        xaxis = [ 0 for i in range(len(dist[0][1])-1)]\n",
    "                        for i in range(len(dist[0][1])-1):\n",
    "                            xaxis[i]=(dist[0][1][i])\n",
    "                            \n",
    "                        h.append(plt.plot(xaxis,distSUM,color=colors[lipid], label = readme.get('SYSTEM'))[0])\n",
    "                                 \n",
    "labels = [l.get_label() for l in h]                                \n",
    "plt.legend(h,labels,loc='best',ncol=2)\n"
   ]
  },
  {
   "cell_type": "code",
   "execution_count": null,
   "metadata": {},
   "outputs": [],
   "source": [
    "dihRESULTall = []\n",
    "#dihRESULTsum=np.add(dihRESULT[5],dihRESULT[5]*-1)\n",
    "#sum=0ihRESULTsum=np.add(dihRESULTsum,dihRESULT[i])\n",
    "#print(dihRESULTsum)\n",
    "#dihRESULTsum=np.add(dihRESULTsum,dihRESULT[9])\n",
    "#print(dihRESULTsum)\n",
    "#dihRESULTsum=np.add(dihRESULTsum,dihRESULT[10])\n",
    "for i in range(traj.topology.n_residues):\n",
    "    if(len(dihRESULT[i]) > 0):\n",
    "        dihRESULTall=dihRESULT[0] + dihRESULT[i]\n",
    "print(dihRESULTall)\n",
    "\n"
   ]
  },
  {
   "cell_type": "code",
   "execution_count": null,
   "metadata": {},
   "outputs": [],
   "source": [
    "print(len(dihRESULT))\n",
    "#print(dihRESULT[1])"
   ]
  },
  {
   "cell_type": "code",
   "execution_count": null,
   "metadata": {},
   "outputs": [],
   "source": []
  },
  {
   "cell_type": "code",
   "execution_count": null,
   "metadata": {
    "scrolled": false
   },
   "outputs": [],
   "source": [
    "dist = [ 0 for i in range(len(dihRESULT))]\n",
    "distSUM = [ 0 for i in range(50)]\n",
    "for i in range(len(dihRESULT)):\n",
    "    dist[i] =  plt.hist(dihRESULT[i], bins=50)\n",
    "    distSUM = np.add(distSUM,dist[i][0])\n",
    "    #print(dist[i][0])\n",
    "    #print(distSUM)"
   ]
  },
  {
   "cell_type": "code",
   "execution_count": null,
   "metadata": {},
   "outputs": [],
   "source": [
    "#totDIST=[distSUM,dist[0][1]]\n",
    "#print(totDIST)\n",
    "#print(dihRESULT[0])\n",
    "#print(dist[0])\n",
    "print(distSUM)\n",
    "xaxis = [ 0 for i in range(len(dist[0][1])-1)]\n",
    "for i in range(len(dist[0][1])-1):\n",
    "    xaxis[i]=(dist[0][1][i])\n",
    "    print(xaxis)\n",
    "plt.plot(xaxis,distSUM)"
   ]
  },
  {
   "cell_type": "code",
   "execution_count": null,
   "metadata": {},
   "outputs": [],
   "source": [
    "dihs = top.select(\"name == P or name == C11 or name == C12 or name == N\")\n",
    "index = [ [] for i in range(traj.topology.n_residues)]\n",
    "dihRESULT = [ [] for i in range(traj.topology.n_residues)]\n",
    "for residue in traj.topology.residues:\n",
    "    for i in dihs:\n",
    "        if(traj.topology.atom(i).residue == residue): \n",
    "            index[residue.index].append(traj.topology.atom(i).index)\n",
    "    dihRESULT[residue.index] = mdtraj.compute_dihedrals(traj,[index[residue.index]])\n",
    "    print(dihRESULT[residue.index])"
   ]
  },
  {
   "cell_type": "code",
   "execution_count": null,
   "metadata": {},
   "outputs": [],
   "source": [
    "mdtraj.compute_dihedrals(traj,[dihs])"
   ]
  },
  {
   "cell_type": "code",
   "execution_count": null,
   "metadata": {},
   "outputs": [],
   "source": [
    "top"
   ]
  },
  {
   "cell_type": "code",
   "execution_count": null,
   "metadata": {
    "scrolled": true
   },
   "outputs": [],
   "source": []
  },
  {
   "cell_type": "code",
   "execution_count": null,
   "metadata": {},
   "outputs": [],
   "source": []
  },
  {
   "cell_type": "code",
   "execution_count": null,
   "metadata": {},
   "outputs": [],
   "source": []
  },
  {
   "cell_type": "code",
   "execution_count": null,
   "metadata": {},
   "outputs": [],
   "source": []
  }
 ],
 "metadata": {
  "kernelspec": {
   "display_name": "Python 3",
   "language": "python",
   "name": "python3"
  },
  "language_info": {
   "codemirror_mode": {
    "name": "ipython",
    "version": 3
   },
   "file_extension": ".py",
   "mimetype": "text/x-python",
   "name": "python",
   "nbconvert_exporter": "python",
   "pygments_lexer": "ipython3",
   "version": "3.7.6"
  }
 },
 "nbformat": 4,
 "nbformat_minor": 4
}

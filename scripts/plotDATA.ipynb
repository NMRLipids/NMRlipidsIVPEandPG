{
 "cells": [
  {
   "cell_type": "code",
   "execution_count": 18,
   "metadata": {},
   "outputs": [
    {
     "name": "stdout",
     "output_type": "stream",
     "text": [
      "POPS_T298K\n",
      "POPE_310K\n",
      "POPC_T303K\n",
      "POPS_T298K\n",
      "POPG_T298K\n"
     ]
    },
    {
     "data": {
      "image/png": "[encoded data removed]",
      "text/plain": [
       "<Figure size 576x360 with 1 Axes>"
      ]
     },
     "metadata": {
      "needs_background": "light"
     },
     "output_type": "display_data"
    }
   ],
   "source": [
    "import os\n",
    "import numpy as np\n",
    "import json\n",
    "import matplotlib.pyplot as plt\n",
    "\n",
    "colors = {'POPC' :'black','POPS':'red','POPE':'blue','POPG':'green'}\n",
    "#lipids = {'POPC','POPS','POPE','POPG'}\n",
    "lipids = {'POPE','POPG','POPS','POPC'}\n",
    "\n",
    "fig= plt.figure(figsize=(8,5))\n",
    "for subdir, dirs, files in os.walk(r'/home/samuli/work/NMRlipids/NMRlipidsIVPEandPG/Data/Simulations/'):\n",
    "    for filename in files:\n",
    "        filepath = subdir + os.sep + filename\n",
    "        if filepath.endswith(\".md\"):\n",
    "            dict = eval(open(filepath).read())\n",
    "            for lipid in lipids:\n",
    "                if lipid in dict.get('SYSTEM'):\n",
    "                    OPfilepath = subdir + '/OrderParameters.json'\n",
    "                    print (dict.get('SYSTEM'))\n",
    "                    with open(OPfilepath) as json_file:\n",
    "                        data = json.load(json_file)\n",
    "                    for key,value in data.items():\n",
    "                        #print (key,value[0][0],value[0][2])\n",
    "                        plt.gca().invert_yaxis()\n",
    "                        plt.ylabel('S_CH')\n",
    "                        if 'gamma' in key:\n",
    "                            plt.plot(0,value[0][0],\"s\",color=colors[lipid])\n",
    "                            plt.errorbar(0,value[0][0],yerr=value[0][2],color=colors[lipid])\n",
    "                        if 'beta' in key:\n",
    "                            plt.plot(1,value[0][0],\"s\",color=colors[lipid],label=dict.get('SYSTEM'))\n",
    "                            plt.errorbar(1,value[0][0],yerr=value[0][2],color=colors[lipid])\n",
    "                        if 'alpha' in key:\n",
    "                            plt.plot(2,value[0][0],\"s\",color=colors[lipid])\n",
    "                            plt.errorbar(2,value[0][0],yerr=value[0][2],color=colors[lipid])\n",
    "                        if 'g3' in key:\n",
    "                            plt.plot(3,value[0][0],\"s\",color=colors[lipid])\n",
    "                            plt.errorbar(3,value[0][0],yerr=value[0][2],color=colors[lipid])\n",
    "                        if 'g2' in key:\n",
    "                            plt.plot(4,value[0][0],\"s\",color=colors[lipid])\n",
    "                            plt.errorbar(4,value[0][0],yerr=value[0][2],color=colors[lipid])\n",
    "                        if 'g1' in key:\n",
    "                            plt.plot(5,value[0][0],\"s\",color=colors[lipid])\n",
    "                            plt.errorbar(5,value[0][0],yerr=value[0][2],color=colors[lipid])\n",
    "plt.legend(loc='best',ncol=2)\n",
    "plt.savefig('/home/samuli/work/NMRlipids/NMRlipidsIVPEandPG/Figs/CHARMMfromLIPIDS.eps')\n",
    "                    "
   ]
  },
  {
   "cell_type": "code",
   "execution_count": null,
   "metadata": {},
   "outputs": [],
   "source": []
  }
 ],
 "metadata": {
  "kernelspec": {
   "display_name": "Python 3",
   "language": "python",
   "name": "python3"
  },
  "language_info": {
   "codemirror_mode": {
    "name": "ipython",
    "version": 3
   },
   "file_extension": ".py",
   "mimetype": "text/x-python",
   "name": "python",
   "nbconvert_exporter": "python",
   "pygments_lexer": "ipython3",
   "version": "3.5.2"
  }
 },
 "nbformat": 4,
 "nbformat_minor": 4
}

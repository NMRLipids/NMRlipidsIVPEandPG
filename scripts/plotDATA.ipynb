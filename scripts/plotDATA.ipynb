{
 "cells": [
  {
   "cell_type": "code",
   "execution_count": 2,
   "metadata": {},
   "outputs": [],
   "source": [
    "import os\n",
    "import numpy as np\n",
    "\n",
    "import yaml\n",
    "import json\n",
    "import matplotlib.pyplot as plt\n",
    "import mdtraj\n",
    "import urllib.request\n",
    "import seaborn as sns\n",
    "\n",
    "from OrderParameter import *\n",
    "\n",
    "# Download link\n",
    "def download_link(doi, file):\n",
    "    if \"zenodo\" in doi.lower():\n",
    "        zenodo_entry_number = doi.split(\".\")[2]\n",
    "        return 'https://zenodo.org/record/' + zenodo_entry_number + '/files/' + file\n",
    "    else:\n",
    "        print (\"DOI provided: {0}\".format(doi))\n",
    "        print (\"Repository not validated. Please upload the data for example to zenodo.org\")\n",
    "        return \"\"\n",
    "    \n",
    "# read mapping file\n",
    "def read_mapping_file(mapping_file, atom1):\n",
    "    with open(mapping_file, 'rt') as mapping_file:\n",
    "            for line in mapping_file:\n",
    "                if atom1 in line:\n",
    "                    m_atom1 = line.split()[1]\n",
    "    return m_atom1\n",
    "\n",
    "def read_mapping_filePAIR(mapping_file, atom1, atom2):\n",
    "    with open(mapping_file, 'rt') as mapping_file:\n",
    "            print(mapping_file)\n",
    "            for line in mapping_file:\n",
    "                if atom1 in line:\n",
    "                    m_atom1 = line.split()[1]\n",
    "#                    print(m_atom1)\n",
    "                if atom2 in line: \n",
    "                    m_atom2 = line.split()[1]\n",
    "#                    print(m_atom2)\n",
    "    return m_atom1, m_atom2\n",
    "\n",
    "def make_positive_angles(x):\n",
    "    for i in range(len(x)):\n",
    "        if x[i] < 0:\n",
    "            x[i] = np.degrees(x[i]) + 360\n",
    "        else:\n",
    "            x[i] = np.degrees(x[i])\n",
    "    return x"
   ]
  },
  {
   "cell_type": "markdown",
   "metadata": {},
   "source": [
    "## Calculate the the angle between PN vector and z-axis  and plot the distribution of angles for each simulation"
   ]
  },
  {
   "cell_type": "code",
   "execution_count": 47,
   "metadata": {
    "scrolled": false
   },
   "outputs": [
    {
     "name": "stdout",
     "output_type": "stream",
     "text": [
      "Analyzing POPG in ../Data/Simulations/0c2/1a9/0c21a9be136ea0eb9df9e5c6cdc19f723a0af245/9ac73b6a98acb54a7a67a5d690794ad7f1e4a1d1/README.yaml\n",
      "<_io.TextIOWrapper name='./mapping_files/mappingPOPGcharmm.txt' mode='rt' encoding='UTF-8'>\n",
      "Cosine is too large = 1.0000000078928089 --> truncating it to +/-1.0\n",
      "150\n"
     ]
    },
    {
     "name": "stderr",
     "output_type": "stream",
     "text": [
      "No handles with labels found to put in legend.\n"
     ]
    },
    {
     "name": "stdout",
     "output_type": "stream",
     "text": [
      "0.49999999999999994\n",
      "Analyzing POPC in ../Data/Simulations/0c2/1a9/0c21a9be136ea0eb9df9e5c6cdc19f723a0af245/9ac73b6a98acb54a7a67a5d690794ad7f1e4a1d1/README.yaml\n",
      "<_io.TextIOWrapper name='./mapping_files/mappingPOPCcharmm.txt' mode='rt' encoding='UTF-8'>\n",
      "M_G3P2_M and M_G3C5O1_M not found in the mapping file.\n",
      "Analyzing POPG in ../Data/Simulations/0d5/d1d/0d5d1dcb43e775faf4e53c4f9ff255a67481bd38/9b487701b24d3fad83991e311188b08d3d5ea768/README.yaml\n",
      "<_io.TextIOWrapper name='./mapping_files/mappingPOPGcharmm.txt' mode='rt' encoding='UTF-8'>\n",
      "118\n"
     ]
    },
    {
     "name": "stderr",
     "output_type": "stream",
     "text": [
      "No handles with labels found to put in legend.\n"
     ]
    },
    {
     "name": "stdout",
     "output_type": "stream",
     "text": [
      "0.49999999999999994\n",
      "Analyzing POPG in ../Data/Simulations/1af/8f6/1af8f6529627bed6a08027160f933a8ac5c5b86b/986ca46503349f7466c65e0dc3e2471376de1a28/README.yaml\n",
      "<_io.TextIOWrapper name='./mapping_files/mappingPOPGcharmm.txt' mode='rt' encoding='UTF-8'>\n",
      "Cosine is too large = 1.0000000144223142 --> truncating it to +/-1.0\n",
      "88\n"
     ]
    },
    {
     "name": "stderr",
     "output_type": "stream",
     "text": [
      "No handles with labels found to put in legend.\n"
     ]
    },
    {
     "name": "stdout",
     "output_type": "stream",
     "text": [
      "0.49999999999999994\n",
      "Analyzing POPC in ../Data/Simulations/1af/8f6/1af8f6529627bed6a08027160f933a8ac5c5b86b/986ca46503349f7466c65e0dc3e2471376de1a28/README.yaml\n",
      "<_io.TextIOWrapper name='./mapping_files/mappingPOPCcharmm.txt' mode='rt' encoding='UTF-8'>\n",
      "M_G3P2_M and M_G3C5O1_M not found in the mapping file.\n",
      "Analyzing POPS in ../Data/Simulations/1b2/6e6/1b26e6c750b4f39c37770422cd4d3c40240cf111/995bc873b811ca09c916b47784fa33bb9d793732/README.yaml\n",
      "<_io.TextIOWrapper name='./mapping_files/mappingPOPScharmm.txt' mode='rt' encoding='UTF-8'>\n",
      "M_G3P2_M and M_G3C5O1_M not found in the mapping file.\n",
      "Analyzing POPG in ../Data/Simulations/207/4f9/2074f96d71ae32a42267bd5407a30ca9b26aca3e/e439d10af0c5ea60c8569780e32b416ea05f24b5/README.yaml\n",
      "<_io.TextIOWrapper name='./mapping_files/mappingPOPGcharmm.txt' mode='rt' encoding='UTF-8'>\n",
      "150\n"
     ]
    },
    {
     "name": "stderr",
     "output_type": "stream",
     "text": [
      "No handles with labels found to put in legend.\n"
     ]
    },
    {
     "name": "stdout",
     "output_type": "stream",
     "text": [
      "0.4999999999999999\n",
      "Analyzing POPC in ../Data/Simulations/207/4f9/2074f96d71ae32a42267bd5407a30ca9b26aca3e/e439d10af0c5ea60c8569780e32b416ea05f24b5/README.yaml\n",
      "<_io.TextIOWrapper name='./mapping_files/mappingPOPCcharmm.txt' mode='rt' encoding='UTF-8'>\n",
      "M_G3P2_M and M_G3C5O1_M not found in the mapping file.\n",
      "Analyzing POPC in ../Data/Simulations/2b9/b0d/2b9b0d32b79cea2fe66a283bf52e9c1f648393e4/b9251450aa7886b4109908c1ada3d666a77ba77b/README.yaml\n",
      "<_io.TextIOWrapper name='./mapping_files/mappingPOPClipid17ecc.txt' mode='rt' encoding='UTF-8'>\n",
      "M_G3P2_M and M_G3C5O1_M not found in the mapping file.\n",
      "Analyzing POPE in ../Data/Simulations/2d4/61b/2d461bc9d828af155146162ef42438974e4cbeaf/c8ce4cc36ef6ec7a085cf011176a92d9d746a792/README.yaml\n",
      "<_io.TextIOWrapper name='./mapping_files/mappingPOPEcharmm.txt' mode='rt' encoding='UTF-8'>\n",
      "M_G3P2_M and M_G3C5O1_M not found in the mapping file.\n",
      "Analyzing POPC in ../Data/Simulations/b4f/866/b4f866c0dabffa6cd891e91841591d46590f34aa/a231c358dd8c0b7bb4cf558ccdbf022373354a9a/README.yaml\n",
      "<_io.TextIOWrapper name='./mapping_files/mappingPOPCcharmm.txt' mode='rt' encoding='UTF-8'>\n",
      "M_G3P2_M and M_G3C5O1_M not found in the mapping file.\n",
      "Analyzing POPG in ../Data/Simulations/be6/5d5/be65d56aa0b9732c1f75b8e2de40133ac6c5f706/fe08222fa3d4cc603161b05233be0af37dd3cc8b/README.yaml\n",
      "<_io.TextIOWrapper name='./mapping_files/mappingPOPGcharmm.txt' mode='rt' encoding='UTF-8'>\n",
      "Cosine is too large = -1.000000018291935 --> truncating it to +/-1.0\n",
      "88\n"
     ]
    },
    {
     "name": "stderr",
     "output_type": "stream",
     "text": [
      "No handles with labels found to put in legend.\n"
     ]
    },
    {
     "name": "stdout",
     "output_type": "stream",
     "text": [
      "0.4999999999999999\n",
      "Analyzing POPC in ../Data/Simulations/be6/5d5/be65d56aa0b9732c1f75b8e2de40133ac6c5f706/fe08222fa3d4cc603161b05233be0af37dd3cc8b/README.yaml\n",
      "<_io.TextIOWrapper name='./mapping_files/mappingPOPCcharmm.txt' mode='rt' encoding='UTF-8'>\n",
      "M_G3P2_M and M_G3C5O1_M not found in the mapping file.\n",
      "Analyzing POPS in ../Data/Simulations/f40/bb6/f40bb6ab5d44402be07059e8df74b5a8200f031e/6774168dfec0a5a7377c8a46341eba603f320cf7/README.yaml\n",
      "<_io.TextIOWrapper name='./mapping_files/mappingPOPScharmm.txt' mode='rt' encoding='UTF-8'>\n",
      "M_G3P2_M and M_G3C5O1_M not found in the mapping file.\n",
      "Analyzing POPG in ../Data/Simulations/fa3/458/fa34583fd2a80ef3717ab05ae626fb4abdcbad44/2be9688985eb0b9fa11cec7b6ba8a674181aa21a/README.yaml\n",
      "<_io.TextIOWrapper name='./mapping_files/mappingPOPGcharmm.txt' mode='rt' encoding='UTF-8'>\n",
      "88\n"
     ]
    },
    {
     "name": "stderr",
     "output_type": "stream",
     "text": [
      "No handles with labels found to put in legend.\n"
     ]
    },
    {
     "name": "stdout",
     "output_type": "stream",
     "text": [
      "0.5\n",
      "Analyzing POPC in ../Data/Simulations/fa3/458/fa34583fd2a80ef3717ab05ae626fb4abdcbad44/2be9688985eb0b9fa11cec7b6ba8a674181aa21a/README.yaml\n",
      "<_io.TextIOWrapper name='./mapping_files/mappingPOPCcharmm.txt' mode='rt' encoding='UTF-8'>\n",
      "M_G3P2_M and M_G3C5O1_M not found in the mapping file.\n"
     ]
    },
    {
     "data": {
      "image/png": "[encoded data removed]",
      "text/plain": [
       "<Figure size 864x648 with 1 Axes>"
      ]
     },
     "metadata": {},
     "output_type": "display_data"
    },
    {
     "data": {
      "text/plain": [
       "<Figure size 864x648 with 0 Axes>"
      ]
     },
     "metadata": {},
     "output_type": "display_data"
    },
    {
     "data": {
      "image/png": "[encoded data removed]",
      "text/plain": [
       "<Figure size 864x648 with 1 Axes>"
      ]
     },
     "metadata": {},
     "output_type": "display_data"
    },
    {
     "data": {
      "image/png": "[encoded data removed]",
      "text/plain": [
       "<Figure size 864x648 with 1 Axes>"
      ]
     },
     "metadata": {},
     "output_type": "display_data"
    },
    {
     "data": {
      "text/plain": [
       "<Figure size 864x648 with 0 Axes>"
      ]
     },
     "metadata": {},
     "output_type": "display_data"
    },
    {
     "data": {
      "text/plain": [
       "<Figure size 864x648 with 0 Axes>"
      ]
     },
     "metadata": {},
     "output_type": "display_data"
    },
    {
     "data": {
      "image/png": "[encoded data removed]",
      "text/plain": [
       "<Figure size 864x648 with 1 Axes>"
      ]
     },
     "metadata": {},
     "output_type": "display_data"
    },
    {
     "data": {
      "text/plain": [
       "<Figure size 864x648 with 0 Axes>"
      ]
     },
     "metadata": {},
     "output_type": "display_data"
    },
    {
     "data": {
      "text/plain": [
       "<Figure size 864x648 with 0 Axes>"
      ]
     },
     "metadata": {},
     "output_type": "display_data"
    },
    {
     "data": {
      "text/plain": [
       "<Figure size 864x648 with 0 Axes>"
      ]
     },
     "metadata": {},
     "output_type": "display_data"
    },
    {
     "data": {
      "text/plain": [
       "<Figure size 864x648 with 0 Axes>"
      ]
     },
     "metadata": {},
     "output_type": "display_data"
    },
    {
     "data": {
      "image/png": "[encoded data removed]",
      "text/plain": [
       "<Figure size 864x648 with 1 Axes>"
      ]
     },
     "metadata": {},
     "output_type": "display_data"
    },
    {
     "data": {
      "text/plain": [
       "<Figure size 864x648 with 0 Axes>"
      ]
     },
     "metadata": {},
     "output_type": "display_data"
    },
    {
     "data": {
      "text/plain": [
       "<Figure size 864x648 with 0 Axes>"
      ]
     },
     "metadata": {},
     "output_type": "display_data"
    },
    {
     "data": {
      "image/png": "[encoded data removed]",
      "text/plain": [
       "<Figure size 864x648 with 1 Axes>"
      ]
     },
     "metadata": {},
     "output_type": "display_data"
    },
    {
     "data": {
      "text/plain": [
       "<Figure size 864x648 with 0 Axes>"
      ]
     },
     "metadata": {},
     "output_type": "display_data"
    }
   ],
   "source": [
    "#Calculate the angle between PN vector and z-axis for each lipid residues\n",
    "\n",
    "lipids = {'POPS','POPE','POPG','POPC'}\n",
    "#lipids = {'POPE'}\n",
    "atom1 = 'M_G3P2_M'\n",
    "atom2 = 'M_G3C5O1_M'   #for POPG\n",
    "#atom2 = 'M_G3N6_M'\n",
    "\n",
    "colors = {'POPC' :'black','POPS':'red','POPE':'blue','POPG':'green'}\n",
    "\n",
    "h = []\n",
    "\n",
    "\n",
    "for subdir, dirs, files in os.walk(r'../Data/Simulations/'):\n",
    "    for filename in files:\n",
    "        filepath = subdir + os.sep + filename\n",
    "        if filepath.endswith(\"README.yaml\"):\n",
    "            READMEfilepath = subdir + '/README.yaml'\n",
    "            with open(READMEfilepath) as yaml_file:\n",
    "                readme = yaml.load(yaml_file, Loader=yaml.FullLoader)\n",
    "                for molname in lipids:\n",
    "                    doi = readme.get('DOI')\n",
    "                    trj = readme.get('TRJ')\n",
    "                    tpr = readme.get('TPR')\n",
    "                    trj_name = subdir + '/' + readme.get('TRJ')[0][0]\n",
    "                    tpr_name = subdir + '/' + readme.get('TPR')[0][0]\n",
    "                    gro_name = subdir + '/conf.gro'\n",
    "                    trj_url = download_link(doi, trj[0][0])\n",
    "                    tpr_url = download_link(doi, tpr[0][0])\n",
    "                    EQtime=float(readme.get('TIMELEFTOUT'))*1000\n",
    "\n",
    "                    #Download tpr and xtc files to same directory where dictionary and data are located\n",
    "                    if (not os.path.isfile(tpr_name)):\n",
    "                        response = urllib.request.urlretrieve(tpr_url, tpr_name)\n",
    "                        \n",
    "                    if (not os.path.isfile(trj_name)):\n",
    "                        response = urllib.request.urlretrieve(trj_url, trj_name)\n",
    "                        \n",
    "                    \n",
    "                \n",
    "                    if sum(readme['N' + molname]) > 0:\n",
    "                        print('Analyzing '+molname+' in '+filepath)\n",
    "                        fig= plt.figure(figsize=(12,9))\n",
    "                        if (not os.path.isfile(gro_name)):\n",
    "                            !echo System | gmx trjconv -f {trj_name} -s {tpr_name}  -dump 0 -o {gro_name}\n",
    "                        \n",
    "                        xtcwhole=subdir + '/whole.xtc'\n",
    "                        if (not os.path.isfile(xtcwhole)):\n",
    "                            !echo System | gmx trjconv -f {trj_name} -s {tpr_name} -o {xtcwhole} -pbc mol -b {EQtime}\n",
    "                        \n",
    "                        #for key in readme['MAPPING_DICT']:    \n",
    "                        #    mapping_file = readme['MAPPING_DICT'][key]\n",
    "                        #    print(mapping_file)\n",
    "                        \n",
    "                        #print(readme)\n",
    "                        #print(readme['MAPPING_DICT'])\n",
    "                        #print(readme['MAPPING_DICT'][molname])\n",
    "                        #mapping_file='../../../../../../scripts/mapping_files/'+mapping_file\n",
    "                        mapping_file = './mapping_files/'+readme['MAPPING_DICT'][molname] # readme.get('MAPPING')[0][0]\n",
    "                                                \n",
    "                        try:\n",
    "                            atoms = read_mapping_filePAIR(mapping_file, atom1 , atom2)\n",
    "                        except:\n",
    "                            print(atom1 + \" and \" + atom2 + \" not found in the mapping file.\")\n",
    "                            continue\n",
    "                        try:\n",
    "                            anglesMeanError = read_trj_PN_angles(molname, atoms, tpr_name, xtcwhole, gro_name)\n",
    "                        except OSError:\n",
    "                            print(\"Could not calculate angles for \" + molname + \" from files \" + tpr_name + \" and \" + trj_name)\n",
    "                            continue\n",
    "                        angles = anglesMeanError[0]\n",
    "                        resAverageAngles = anglesMeanError[1]\n",
    "                        totalAverage = anglesMeanError[2]\n",
    "                        totalAverageError = anglesMeanError[3]\n",
    "                        \n",
    "                        #print(resAverageAngles)\n",
    "                        \n",
    "                        #fig= plt.figure(figsize=(12,9))\n",
    "                        print(len(angles))\n",
    "                        dist = [ 0 for i in range(len(angles))]\n",
    "                        distSUM = [ 0 for i in range(0,178,2)]\n",
    "                        # print(distSUM)\n",
    "                        for i in range(len(angles)):\n",
    "                            dist[i] = plt.hist(angles[i], bins=range(0,180,2), density=True)\n",
    "                            distSUM = np.add(distSUM,dist[i][0])\n",
    "                            #print(np.sum(dist[i][0]))\n",
    "                            #print(np.sum(distSUM))\n",
    "                            \n",
    "                        # print(distSUM)\n",
    "                        distSUM = [x / len(angles) for x in distSUM]\n",
    "                        print(np.sum(distSUM))\n",
    "                        \n",
    "                        #print(len(dist))\n",
    "                        xaxis = [ 0 for i in range(len(dist[0][1])-1)]\n",
    "                        for i in range(len(dist[0][1])-1):\n",
    "                            xaxis[i]=(dist[0][1][i])\n",
    "                        #  xaxis = [0:1:180]\n",
    "                            \n",
    "                        #h.append(plt.plot(xaxis,distSUM,color=colors[molname], label = readme.get('SYSTEM'))[0])\n",
    "                        #plt.hist(resAverageAngles,bins=180,color=colors[molname], label = readme.get('SYSTEM'),density = True)[0]\n",
    "                        \n",
    "                        # sns.distplot(xaxis,distSUM, hist=False,color=colors[molname], label = readme.get('SYSTEM'))\n",
    "                        plt.legend()\n",
    "                        plt.xlabel(\"Angle (°)\")\n",
    "                        #print(molname)\n",
    "                        #print(colors[molname])\n",
    "                        \n",
    "                        HGorientationFOLDERS = subdir.replace(\"Simulations\",\"HGorientation\")\n",
    "                        !mkdir -p {HGorientationFOLDERS}\n",
    "                        !cp {READMEfilepath} {HGorientationFOLDERS}\n",
    "                        outfile=open(str(HGorientationFOLDERS) + '/' + molname + 'PNvectorDIST.dat','w')\n",
    "                        for i in range(len(xaxis)):\n",
    "                            #print(xaxis[i],distSUM[i])\n",
    "                            outfile.write(str(xaxis[i]) + \" \" + str(distSUM[i])+'\\n')\n",
    "                        outfile.close()\n",
    "                        outfile=open(str(HGorientationFOLDERS) + '/' + molname + 'PNvectorAVERAGE.dat','w')\n",
    "                        outfile.write(str(totalAverage) + \" \" + str(totalAverageError)+'\\n')\n",
    "                        outfile.close()\n",
    "            \n",
    "#labels = [l.get_label() for l in h]\n",
    "#plt.legend(h, labels, loc='best',ncol=2)\n",
    "#plt.xlabel(\"Angle (°)\")"
   ]
  },
  {
   "cell_type": "code",
   "execution_count": 45,
   "metadata": {},
   "outputs": [
    {
     "name": "stdout",
     "output_type": "stream",
     "text": [
      "62.26868159127615 6.532079654694839\n"
     ]
    }
   ],
   "source": [
    "print(totalAverage,totalAverageError)"
   ]
  },
  {
   "cell_type": "code",
   "execution_count": 15,
   "metadata": {},
   "outputs": [],
   "source": [
    "## Plot order parameter for selected DOIs"
   ]
  },
  {
   "cell_type": "code",
   "execution_count": 32,
   "metadata": {},
   "outputs": [
    {
     "data": {
      "image/png": "[encoded data removed]",
      "text/plain": [
       "<Figure size 720x504 with 1 Axes>"
      ]
     },
     "metadata": {
      "needs_background": "light"
     },
     "output_type": "display_data"
    }
   ],
   "source": [
    "colors = {'POPC' :'black','POPS':'red','POPE':'blue','POPG':'green'}\n",
    "markers = {'POPC' :'s','POPS':'o','POPE':'o','POPG':'s'}\n",
    "lipids = {'POPC','POPS','POPE','POPG'}\n",
    "DOIs = {'POPC' :'10.5281/zenodo.3474862','POPG' :'10.5281/zenodo.1011096','POPS' :'10.5281/zenodo.1129415','POPE' :'10.5281/zenodo.2641987'}\n",
    "\n",
    "\n",
    "fig= plt.figure(figsize=(10,7))\n",
    "for subdir, dirs, files in os.walk(r'../Data/Simulations/'):\n",
    "    for filename in files:\n",
    "        filepath = subdir + os.sep + filename\n",
    "        if filepath.endswith(\"README.yaml\"):\n",
    "            READMEfilepath = subdir + '/README.yaml'\n",
    "            with open(READMEfilepath) as yaml_file:\n",
    "                readme = yaml.load(yaml_file, Loader=yaml.FullLoader)\n",
    "               # print(readme)\n",
    "            for lipid in lipids:\n",
    "                if DOIs[lipid] in readme.get('DOI'):\n",
    "                    OPfilepath = subdir + '/OrderParameters.json'\n",
    "                    #print(OPfilepath)\n",
    "                    #print(readme.get('SYSTEM'))\n",
    "                    with open(OPfilepath) as json_file:\n",
    "                        data = json.load(json_file)\n",
    "                    for key,value in data.items():\n",
    "                       #print (key,value[0][0],value[0][2])\n",
    "                        plt.gca().invert_yaxis()\n",
    "                        \n",
    "                        \n",
    "                        if lipid == 'POPG' and 'M_G3C6_M' in key:\n",
    "                            plt.plot(0,value[0][0],\"s\",color=colors[lipid], marker=markers[lipid], markersize=10)\n",
    "                            plt.errorbar(0,value[0][0],yerr=value[0][2],color=colors[lipid])\n",
    "                        if 'M_G3N6' in key:\n",
    "                            plt.plot(0,value[0][0],\"s\",color=colors[lipid], marker=markers[lipid], markersize=10)\n",
    "                            plt.errorbar(0,value[0][0],yerr=value[0][2],color=colors[lipid])\n",
    "                        if 'M_G3C5_M' in key:\n",
    "                            plt.plot(1,value[0][0],\"s\",color=colors[lipid], marker=markers[lipid], markersize=10)\n",
    "                            plt.errorbar(1,value[0][0],yerr=value[0][2],color=colors[lipid])\n",
    "                        if 'M_G3C4_M' in key:\n",
    "                            plt.plot(2,value[0][0],\"s\",color=colors[lipid], marker=markers[lipid], markersize=10)\n",
    "                            plt.errorbar(2,value[0][0],yerr=value[0][2],color=colors[lipid])\n",
    "                        if 'M_G3_M' in key:\n",
    "                            plt.plot(3,value[0][0],\"s\",color=colors[lipid], marker=markers[lipid], markersize=10)\n",
    "                            plt.errorbar(3,value[0][0],yerr=value[0][2],color=colors[lipid])\n",
    "                        if 'M_G2_M' in key:\n",
    "                            plt.plot(4,value[0][0],\"s\",color=colors[lipid],label=readme.get('SYSTEM'), marker=markers[lipid], markersize=10)\n",
    "                            plt.errorbar(4,value[0][0],yerr=value[0][2],color=colors[lipid])\n",
    "                        if 'M_G1_M' in key:\n",
    "                            plt.plot(5,value[0][0],\"s\",color=colors[lipid], marker=markers[lipid], markersize=10)\n",
    "                            plt.errorbar(5,value[0][0],yerr=value[0][2],color=colors[lipid])\n",
    "            \n",
    "plt.legend(loc='best',ncol=2, fontsize=15)\n",
    "plt.ylabel('S_CH', fontsize=20)\n",
    "plt.xticks(fontsize=20)\n",
    "plt.yticks(fontsize=20)\n",
    "plt.savefig('../Figs/CHARMMfromLIPIDS.eps', bbox_inches='tight')\n",
    "                    "
   ]
  },
  {
   "cell_type": "markdown",
   "metadata": {},
   "source": [
    "## Plot order parameters for each simulation"
   ]
  },
  {
   "cell_type": "code",
   "execution_count": 22,
   "metadata": {},
   "outputs": [
    {
     "name": "stderr",
     "output_type": "stream",
     "text": [
      "The PostScript backend does not support transparency; partially transparent artists will be rendered opaque.\n",
      "The PostScript backend does not support transparency; partially transparent artists will be rendered opaque.\n"
     ]
    },
    {
     "data": {
      "image/png": "[encoded data removed]",
      "text/plain": [
       "<Figure size 576x360 with 1 Axes>"
      ]
     },
     "metadata": {
      "needs_background": "light"
     },
     "output_type": "display_data"
    }
   ],
   "source": [
    "mapping_file = './mapping_files/'+readme['MAPPING_DICT'][molname] # readme.get('MAPPING')[0][0]\n",
    "                                                \n",
    "                        try:\n",
    "                            atoms = read_mapping_filePAIR(mapping_file, atom1 , atom2)\n",
    "                        except:\n",
    "                            print(atom1 + \" and \" + atom2 + \" not found in the mapping file.\")\n",
    "                            continue\n",
    "\n",
    "colors = {'POPC' :'black','POPS':'red','POPE':'blue','POPG':'green'}\n",
    "lipids = {'POPC','POPS','POPE','POPG'}\n",
    "\n",
    "\n",
    "fig= plt.figure(figsize=(8,5))\n",
    "for subdir, dirs, files in os.walk(r'/media/akiirikk/DATADRIVE1/tietokanta/NMRlipidsIVPEandPG/Data/Simulations/'):\n",
    "    for filename in files:\n",
    "        filepath = subdir + os.sep + filename\n",
    "        if filepath.endswith(\"README.yaml\"):\n",
    "            READMEfilepath = subdir + '/README.yaml'\n",
    "            with open(READMEfilepath) as yaml_file:\n",
    "                readme = yaml.load(yaml_file, Loader=yaml.FullLoader)\n",
    "               # print(readme)\n",
    "            for lipid in lipids:\n",
    "                if lipid in readme.get('SYSTEM') and sum(readme['N' + lipid]) > 0:\n",
    "                    OPfilepath = subdir + '/OrderParameters.json'\n",
    "                    #print(OPfilepath)\n",
    "                    #print(readme.get('SYSTEM'))\n",
    "                    with open(OPfilepath) as json_file:\n",
    "                        data = json.load(json_file)\n",
    "                    for key,value in data.items():\n",
    "                       #print (key,value[0][0],value[0][2])\n",
    "                        plt.gca().invert_yaxis()\n",
    "                        plt.ylabel('S_CH')\n",
    "                        \n",
    "                        if lipid == 'POPG' and 'M_G3C6_M' in key:\n",
    "                            plt.plot(0,value[0][0],\"s\",color=colors[lipid])\n",
    "                            plt.errorbar(0,value[0][0],yerr=value[0][2],color=colors[lipid])\n",
    "                        if 'M_G3N6' in key:\n",
    "                            plt.plot(0,value[0][0],\"s\",color=colors[lipid])\n",
    "                            plt.errorbar(0,value[0][0],yerr=value[0][2],color=colors[lipid])\n",
    "                        if 'M_G3C5_M' in key:\n",
    "                            plt.plot(1,value[0][0],\"s\",color=colors[lipid],label=readme.get('SYSTEM'))\n",
    "                            plt.errorbar(1,value[0][0],yerr=value[0][2],color=colors[lipid])\n",
    "                        if 'M_G3C4_M' in key:\n",
    "                            plt.plot(2,value[0][0],\"s\",color=colors[lipid])\n",
    "                            plt.errorbar(2,value[0][0],yerr=value[0][2],color=colors[lipid])\n",
    "                        if 'M_G3_M' in key:\n",
    "                            plt.plot(3,value[0][0],\"s\",color=colors[lipid])\n",
    "                            plt.errorbar(3,value[0][0],yerr=value[0][2],color=colors[lipid])\n",
    "                        if 'M_G2_M' in key:\n",
    "                            plt.plot(4,value[0][0],\"s\",color=colors[lipid])\n",
    "                            plt.errorbar(4,value[0][0],yerr=value[0][2],color=colors[lipid])\n",
    "                        if 'M_G1_M' in key:\n",
    "                            plt.plot(5,value[0][0],\"s\",color=colors[lipid])\n",
    "                            plt.errorbar(5,value[0][0],yerr=value[0][2],color=colors[lipid])\n",
    "            \n",
    "plt.legend(loc='best',ncol=2)\n",
    "plt.savefig('/media/akiirikk/DATADRIVE1/tietokanta/NMRlipidsIVPEandPG/Figs/CHARMMfromLIPIDS.eps')\n",
    "                    "
   ]
  },
  {
   "cell_type": "markdown",
   "metadata": {},
   "source": [
    "## Calculate and plot dihedral angles for each simulation"
   ]
  },
  {
   "cell_type": "code",
   "execution_count": 38,
   "metadata": {},
   "outputs": [],
   "source": [
    "def calcDihedrals(lipids,DIHatoms):\n",
    "    colors = {'POPC' :'black','POPS':'red','POPE':'blue','POPG':'green'}\n",
    "    for subdir, dirs, files in os.walk(r'../Data/Simulations/'):\n",
    "        for filename in files:\n",
    "            filepath = subdir + os.sep + filename\n",
    "            if filepath.endswith(\"README.yaml\"):\n",
    "                READMEfilepath = subdir + '/README.yaml'\n",
    "                with open(READMEfilepath) as yaml_file:\n",
    "                    readme = yaml.load(yaml_file, Loader=yaml.FullLoader)\n",
    "                    for molname in lipids:\n",
    "                        doi = readme.get('DOI')\n",
    "                        trj = readme.get('TRJ')\n",
    "                        tpr = readme.get('TPR')\n",
    "                        trj_name = subdir + '/' + readme.get('TRJ')[0][0]\n",
    "                        tpr_name = subdir + '/' + readme.get('TPR')[0][0]\n",
    "                        gro_name = subdir + '/conf.gro'\n",
    "                        trj_url = download_link(doi, trj[0][0])\n",
    "                        tpr_url = download_link(doi, tpr[0][0])\n",
    "    \n",
    "                        #Download tpr and xtc files to same directory where dictionary and data are located\n",
    "                        if (not os.path.isfile(tpr_name)):\n",
    "                            response = urllib.request.urlretrieve(tpr_url, tpr_name)\n",
    "                        \n",
    "                        if (not os.path.isfile(trj_name)):\n",
    "                            response = urllib.request.urlretrieve(trj_url, trj_name)\n",
    "                \n",
    "                        if sum(readme['N' + molname]) > 0:\n",
    "                            print('Analyzing '+molname+' in '+filepath)\n",
    "                            #fig= plt.figure(figsize=(12,9))\n",
    "                            if (not os.path.isfile(gro_name)):\n",
    "                                !echo System | gmx trjconv -f {trj_name} -s {tpr_name}  -dump 0 -o {gro_name}\n",
    "                        \n",
    "                            xtcwhole=subdir + '/whole.xtc'\n",
    "                            if (not os.path.isfile(xtcwhole)):\n",
    "                                !echo System | gmx trjconv -f {trj_name} -s {tpr_name} -o {xtcwhole} -pbc mol \n",
    "                        \n",
    "                            try:\n",
    "                                traj = mdtraj.load(xtcwhole, top = gro_name)\n",
    "                                #print(lipid)\n",
    "                            except FileNotFoundError or OSError:\n",
    "                                continue\n",
    "                       \n",
    "                            mapping_file = './mapping_files/'+readme['MAPPING_DICT'][molname] # readme.get('MAPPING')[0][0]\n",
    "                            try:\n",
    "                                atom1 = read_mapping_file(mapping_file, DIHatoms[0])\n",
    "                                atom2 = read_mapping_file(mapping_file, DIHatoms[1])\n",
    "                                atom3 = read_mapping_file(mapping_file, DIHatoms[2])\n",
    "                                atom4 = read_mapping_file(mapping_file, DIHatoms[3])\n",
    "                                print(atom1,atom2,atom3,atom4)\n",
    "                            except:\n",
    "                                #print(atom1 + \" and \" + atom2 + \" not found in the mapping file.\")\n",
    "                                print(\"Some atom not found in the mapping file.\")\n",
    "                                continue\n",
    "                            index = [ [] for i in range(traj.topology.n_residues)]\n",
    "                            dihRESULT = []\n",
    "                            for residue in traj.topology.residues:\n",
    "                                atom1ind=traj.topology.select(\"name == \" + atom1 + \" and resid == \" + str(residue.index))\n",
    "                                atom2ind=traj.topology.select(\"name == \" + atom2 + \" and resid == \" + str(residue.index))\n",
    "                                atom3ind=traj.topology.select(\"name == \" + atom3 + \" and resid == \" + str(residue.index))\n",
    "                                atom4ind=traj.topology.select(\"name == \" + atom4 + \" and resid == \" + str(residue.index))\n",
    "                                if(len(atom1ind) > 0):\n",
    "                                    index[residue.index].append(atom1ind[0])\n",
    "                                    index[residue.index].append(atom2ind[0])\n",
    "                                    index[residue.index].append(atom3ind[0])\n",
    "                                    index[residue.index].append(atom4ind[0])\n",
    "                                    dihRESULT.append(mdtraj.compute_dihedrals(traj,[index[residue.index]]))\n",
    "                                \n",
    "                            dihRESULT = [make_positive_angles(x) for x in dihRESULT ]\n",
    "                            dist = [ 0 for i in range(len(dihRESULT))]\n",
    "                            distSUM = [ 0 for i in range(359)]\n",
    "                            for i in range(len(dihRESULT)):\n",
    "                                dist[i] =  plt.hist(dihRESULT[i], range(360),density=True);\n",
    "                                distSUM = np.add(distSUM,dist[i][0])\n",
    "                            \n",
    "                        \n",
    "                            distSUM = [x / len(dihRESULT) for x in distSUM]\n",
    "                            xaxis = [ 0 for i in range(len(dist[0][1])-1)]\n",
    "                            for i in range(len(dist[0][1])-1):\n",
    "                                xaxis[i]=(dist[0][1][i])\n",
    "                            \n",
    "                            plt.plot(xaxis,distSUM,color=colors[molname], label = readme.get('SYSTEM'))[0] \n",
    "                            plt.legend()\n",
    "                            plt.xlabel(\"Angle (°)\")\n",
    "                        \n",
    "                            dihedralFOLDERS = subdir.replace(\"Simulations\",\"dihedral\")\n",
    "                            !mkdir -p {dihedralFOLDERS}\n",
    "                            !cp {READMEfilepath} {dihedralFOLDERS}\n",
    "                            outfile=open(str(dihedralFOLDERS) + '/' + DIHatoms[0] + DIHatoms[1] + DIHatoms[2] + DIHatoms[3] +'.dat','w')\n",
    "                            for i in range(len(xaxis)):\n",
    "                                outfile.write(str(xaxis[i]) + \" \" + str(distSUM[i])+'\\n')\n",
    "                            outfile.close()\n",
    "                        "
   ]
  },
  {
   "cell_type": "code",
   "execution_count": null,
   "metadata": {},
   "outputs": [
    {
     "name": "stdout",
     "output_type": "stream",
     "text": [
      "Analyzing POPG in ../Data/Simulations/0d5/d1d/0d5d1dcb43e775faf4e53c4f9ff255a67481bd38/9b487701b24d3fad83991e311188b08d3d5ea768/README.yaml\n",
      "C316 C315 C314 C313\n",
      "Analyzing POPS in ../Data/Simulations/1b2/6e6/1b26e6c750b4f39c37770422cd4d3c40240cf111/995bc873b811ca09c916b47784fa33bb9d793732/README.yaml\n",
      "C316 C315 C314 C313\n",
      "Analyzing POPE in ../Data/Simulations/2d4/61b/2d461bc9d828af155146162ef42438974e4cbeaf/c8ce4cc36ef6ec7a085cf011176a92d9d746a792/README.yaml\n",
      "C316 C315 C314 C313\n",
      "Analyzing POPC in ../Data/Simulations/b4f/866/b4f866c0dabffa6cd891e91841591d46590f34aa/a231c358dd8c0b7bb4cf558ccdbf022373354a9a/README.yaml\n",
      "C316 C315 C314 C313\n",
      "Analyzing POPS in ../Data/Simulations/f40/bb6/f40bb6ab5d44402be07059e8df74b5a8200f031e/6774168dfec0a5a7377c8a46341eba603f320cf7/README.yaml\n",
      "C316 C315 C314 C313\n",
      "Analyzing POPG in ../Data/Simulations/0d5/d1d/0d5d1dcb43e775faf4e53c4f9ff255a67481bd38/9b487701b24d3fad83991e311188b08d3d5ea768/README.yaml\n",
      "C315 C314 C313 C312\n",
      "Analyzing POPS in ../Data/Simulations/1b2/6e6/1b26e6c750b4f39c37770422cd4d3c40240cf111/995bc873b811ca09c916b47784fa33bb9d793732/README.yaml\n",
      "C315 C314 C313 C312\n",
      "Analyzing POPE in ../Data/Simulations/2d4/61b/2d461bc9d828af155146162ef42438974e4cbeaf/c8ce4cc36ef6ec7a085cf011176a92d9d746a792/README.yaml\n",
      "C315 C314 C313 C312\n",
      "Analyzing POPC in ../Data/Simulations/b4f/866/b4f866c0dabffa6cd891e91841591d46590f34aa/a231c358dd8c0b7bb4cf558ccdbf022373354a9a/README.yaml\n",
      "C315 C314 C313 C312\n",
      "Analyzing POPS in ../Data/Simulations/f40/bb6/f40bb6ab5d44402be07059e8df74b5a8200f031e/6774168dfec0a5a7377c8a46341eba603f320cf7/README.yaml\n",
      "C315 C314 C313 C312\n",
      "Analyzing POPG in ../Data/Simulations/0d5/d1d/0d5d1dcb43e775faf4e53c4f9ff255a67481bd38/9b487701b24d3fad83991e311188b08d3d5ea768/README.yaml\n",
      "C314 C313 C312 C311\n",
      "Analyzing POPS in ../Data/Simulations/1b2/6e6/1b26e6c750b4f39c37770422cd4d3c40240cf111/995bc873b811ca09c916b47784fa33bb9d793732/README.yaml\n",
      "C314 C313 C312 C311\n",
      "Analyzing POPE in ../Data/Simulations/2d4/61b/2d461bc9d828af155146162ef42438974e4cbeaf/c8ce4cc36ef6ec7a085cf011176a92d9d746a792/README.yaml\n",
      "C314 C313 C312 C311\n",
      "Analyzing POPC in ../Data/Simulations/b4f/866/b4f866c0dabffa6cd891e91841591d46590f34aa/a231c358dd8c0b7bb4cf558ccdbf022373354a9a/README.yaml\n",
      "C314 C313 C312 C311\n",
      "Analyzing POPS in ../Data/Simulations/f40/bb6/f40bb6ab5d44402be07059e8df74b5a8200f031e/6774168dfec0a5a7377c8a46341eba603f320cf7/README.yaml\n",
      "C314 C313 C312 C311\n",
      "Analyzing POPG in ../Data/Simulations/0d5/d1d/0d5d1dcb43e775faf4e53c4f9ff255a67481bd38/9b487701b24d3fad83991e311188b08d3d5ea768/README.yaml\n",
      "C313 C312 C311 C310\n",
      "Analyzing POPS in ../Data/Simulations/1b2/6e6/1b26e6c750b4f39c37770422cd4d3c40240cf111/995bc873b811ca09c916b47784fa33bb9d793732/README.yaml\n",
      "C313 C312 C311 C310\n",
      "Analyzing POPE in ../Data/Simulations/2d4/61b/2d461bc9d828af155146162ef42438974e4cbeaf/c8ce4cc36ef6ec7a085cf011176a92d9d746a792/README.yaml\n",
      "C313 C312 C311 C310\n",
      "Analyzing POPC in ../Data/Simulations/b4f/866/b4f866c0dabffa6cd891e91841591d46590f34aa/a231c358dd8c0b7bb4cf558ccdbf022373354a9a/README.yaml\n",
      "C313 C312 C311 C310\n",
      "Analyzing POPS in ../Data/Simulations/f40/bb6/f40bb6ab5d44402be07059e8df74b5a8200f031e/6774168dfec0a5a7377c8a46341eba603f320cf7/README.yaml\n",
      "C313 C312 C311 C310\n",
      "Analyzing POPG in ../Data/Simulations/0d5/d1d/0d5d1dcb43e775faf4e53c4f9ff255a67481bd38/9b487701b24d3fad83991e311188b08d3d5ea768/README.yaml\n",
      "C312 C311 C310 C39\n",
      "Analyzing POPS in ../Data/Simulations/1b2/6e6/1b26e6c750b4f39c37770422cd4d3c40240cf111/995bc873b811ca09c916b47784fa33bb9d793732/README.yaml\n",
      "C312 C311 C310 C39\n",
      "Analyzing POPE in ../Data/Simulations/2d4/61b/2d461bc9d828af155146162ef42438974e4cbeaf/c8ce4cc36ef6ec7a085cf011176a92d9d746a792/README.yaml\n",
      "C312 C311 C310 C39\n",
      "Analyzing POPC in ../Data/Simulations/b4f/866/b4f866c0dabffa6cd891e91841591d46590f34aa/a231c358dd8c0b7bb4cf558ccdbf022373354a9a/README.yaml\n",
      "C312 C311 C310 C39\n",
      "Analyzing POPS in ../Data/Simulations/f40/bb6/f40bb6ab5d44402be07059e8df74b5a8200f031e/6774168dfec0a5a7377c8a46341eba603f320cf7/README.yaml\n",
      "C312 C311 C310 C39\n",
      "Analyzing POPG in ../Data/Simulations/0d5/d1d/0d5d1dcb43e775faf4e53c4f9ff255a67481bd38/9b487701b24d3fad83991e311188b08d3d5ea768/README.yaml\n",
      "C311 C310 C39 C38\n",
      "Analyzing POPS in ../Data/Simulations/1b2/6e6/1b26e6c750b4f39c37770422cd4d3c40240cf111/995bc873b811ca09c916b47784fa33bb9d793732/README.yaml\n",
      "C311 C310 C39 C38\n",
      "Analyzing POPE in ../Data/Simulations/2d4/61b/2d461bc9d828af155146162ef42438974e4cbeaf/c8ce4cc36ef6ec7a085cf011176a92d9d746a792/README.yaml\n",
      "C311 C310 C39 C38\n",
      "Analyzing POPC in ../Data/Simulations/b4f/866/b4f866c0dabffa6cd891e91841591d46590f34aa/a231c358dd8c0b7bb4cf558ccdbf022373354a9a/README.yaml\n"
     ]
    }
   ],
   "source": [
    "lipids = {'POPC','POPS','POPE','POPG'}\n",
    "#lipids = {'POPS'}\n",
    "#lipids = {'POPG','POPE','POPC'}\n",
    "#DIHatoms = ['M_G3O3_M', 'M_G3C4_M', 'M_G3C5_M','M_G3N6_M']\n",
    "#DIHatoms = ['M_G3C5_M', 'M_G3C4_M', 'M_G3O3_M','M_G3P2_M' ]\n",
    "for i in dihedrals:\n",
    "    DIHatoms = i\n",
    "    calcDihedrals(lipids,i)\n",
    "\n"
   ]
  },
  {
   "cell_type": "code",
   "execution_count": null,
   "metadata": {},
   "outputs": [],
   "source": [
    "dihRESULTall = []\n",
    "#dihRESULTsum=np.add(dihRESULT[5],dihRESULT[5]*-1)\n",
    "#sum=0ihRESULTsum=np.add(dihRESULTsum,dihRESULT[i])\n",
    "#print(dihRESULTsum)\n",
    "#dihRESULTsum=np.add(dihRESULTsum,dihRESULT[9])\n",
    "#print(dihRESULTsum)\n",
    "#dihRESULTsum=np.add(dihRESULTsum,dihRESULT[10])\n",
    "for i in range(traj.topology.n_residues):\n",
    "    if(len(dihRESULT[i]) > 0):\n",
    "        dihRESULTall=dihRESULT[0] + dihRESULT[i]\n",
    "print(dihRESULTall)\n",
    "\n"
   ]
  },
  {
   "cell_type": "code",
   "execution_count": 5,
   "metadata": {},
   "outputs": [],
   "source": [
    "dihedralFOLDERS = subdir.replace(\"Simulations\",\"dihedral\")\n",
    "!mkdir -p {dihedralFOLDERS}\n",
    "!cp {READMEfilepath} {dihedralFOLDERS}\n",
    "outfile=open(str(dihedralFOLDERS) + '/' + DIHatoms[0] + DIHatoms[1] + DIHatoms[2] + DIHatoms[3] +'.dat','w')\n",
    "for i in range(len(xaxis)):\n",
    "    outfile.write(str(xaxis[i]) + \" \" + str(distSUM[i])+'\\n')\n",
    "outfile.close()\n",
    "                        "
   ]
  },
  {
   "cell_type": "code",
   "execution_count": null,
   "metadata": {
    "scrolled": false
   },
   "outputs": [],
   "source": [
    "dist = [ 0 for i in range(len(dihRESULT))]\n",
    "distSUM = [ 0 for i in range(50)]\n",
    "for i in range(len(dihRESULT)):\n",
    "    dist[i] =  plt.hist(dihRESULT[i], bins=50)\n",
    "    distSUM = np.add(distSUM,dist[i][0])\n",
    "    #print(dist[i][0])\n",
    "    #print(distSUM)"
   ]
  },
  {
   "cell_type": "code",
   "execution_count": null,
   "metadata": {},
   "outputs": [],
   "source": [
    "#totDIST=[distSUM,dist[0][1]]\n",
    "#print(totDIST)\n",
    "#print(dihRESULT[0])\n",
    "#print(dist[0])\n",
    "print(distSUM)\n",
    "xaxis = [ 0 for i in range(len(dist[0][1])-1)]\n",
    "for i in range(len(dist[0][1])-1):\n",
    "    xaxis[i]=(dist[0][1][i])\n",
    "    print(xaxis)\n",
    "plt.plot(xaxis,distSUM)"
   ]
  },
  {
   "cell_type": "code",
   "execution_count": null,
   "metadata": {},
   "outputs": [],
   "source": [
    "dihs = top.select(\"name == P or name == C11 or name == C12 or name == N\")\n",
    "index = [ [] for i in range(traj.topology.n_residues)]\n",
    "dihRESULT = [ [] for i in range(traj.topology.n_residues)]\n",
    "for residue in traj.topology.residues:\n",
    "    for i in dihs:\n",
    "        if(traj.topology.atom(i).residue == residue): \n",
    "            index[residue.index].append(traj.topology.atom(i).index)\n",
    "    dihRESULT[residue.index] = mdtraj.compute_dihedrals(traj,[index[residue.index]])\n",
    "    print(dihRESULT[residue.index])"
   ]
  },
  {
   "cell_type": "code",
   "execution_count": null,
   "metadata": {},
   "outputs": [],
   "source": [
    "mdtraj.compute_dihedrals(traj,[dihs])"
   ]
  },
  {
   "cell_type": "code",
   "execution_count": null,
   "metadata": {},
   "outputs": [],
   "source": [
    "top"
   ]
  },
  {
   "cell_type": "code",
   "execution_count": 48,
   "metadata": {
    "scrolled": true
   },
   "outputs": [
    {
     "name": "stdout",
     "output_type": "stream",
     "text": [
      "['M_G1C17_M', 'M_G1C16_M', 'M_G1C15_M', 'M_G1C14_M', 'M_G1C13_M', 'M_G1C12_M', 'M_G1C11_M', 'M_G1C10_M', 'M_G1C9_M', 'M_G1C8_M', 'M_G1C7_M', 'M_G1C6_M', 'M_G1C5_M', 'M_G1C4_M', 'M_G1C3_M', 'M_G1C2O1_M', 'M_G1C2_M', 'M_G1O1_M', 'M_G1_M']\n",
      "['M_G2C19_M', 'M_G2C18_M', 'M_G2C17_M', 'M_G2C16_M', 'M_G2C15_M', 'M_G2C14_M', 'M_G2C13_M', 'M_G2C12_M', 'M_G2C11_M', 'M_G2C10_M', 'M_G2C9_M', 'M_G2C8_M', 'M_G2C7_M', 'M_G2C6_M', 'M_G2C5_M', 'M_G2C4_M', 'M_G2C3_M', 'M_G2C2O1_M', 'M_G2C2_M', 'M_G2O1_M', 'M_G2_M']\n",
      "['M_G3_M', 'M_G3O1_M', 'M_G3P2_M', 'M_G3P2O1_M', 'M_G3P2O2_M', 'M_G3O3_M', 'M_G3C4_M', 'M_G3C5_M', 'M_G3N6_M']\n",
      "['M_G1C17_M', 'M_G1C16_M', 'M_G1C15_M', 'M_G1C14_M']\n",
      "['M_G1C16_M', 'M_G1C15_M', 'M_G1C14_M', 'M_G1C13_M']\n",
      "['M_G1C15_M', 'M_G1C14_M', 'M_G1C13_M', 'M_G1C12_M']\n",
      "['M_G1C14_M', 'M_G1C13_M', 'M_G1C12_M', 'M_G1C11_M']\n",
      "['M_G1C13_M', 'M_G1C12_M', 'M_G1C11_M', 'M_G1C10_M']\n",
      "['M_G1C12_M', 'M_G1C11_M', 'M_G1C10_M', 'M_G1C9_M']\n",
      "['M_G1C11_M', 'M_G1C10_M', 'M_G1C9_M', 'M_G1C8_M']\n",
      "['M_G1C10_M', 'M_G1C9_M', 'M_G1C8_M', 'M_G1C7_M']\n",
      "['M_G1C9_M', 'M_G1C8_M', 'M_G1C7_M', 'M_G1C6_M']\n",
      "['M_G1C8_M', 'M_G1C7_M', 'M_G1C6_M', 'M_G1C5_M']\n",
      "['M_G1C7_M', 'M_G1C6_M', 'M_G1C5_M', 'M_G1C4_M']\n",
      "['M_G1C6_M', 'M_G1C5_M', 'M_G1C4_M', 'M_G1C3_M']\n",
      "['M_G1C5_M', 'M_G1C4_M', 'M_G1C3_M', 'M_G1C2O1_M']\n",
      "['M_G1C5_M', 'M_G1C4_M', 'M_G1C3_M', 'M_G1C2_M']\n",
      "['M_G1C4_M', 'M_G1C3_M', 'M_G1C2_M', 'M_G1O1_M']\n",
      "['M_G1C3_M', 'M_G1C2_M', 'M_G1O1_M', 'M_G1_M']\n",
      "['M_G1C3_M', 'M_G1C2_M', 'M_G1O1_M', 'M_G3_M']\n",
      "['M_G1C3_M', 'M_G1C2_M', 'M_G1O1_M', 'M_G3O1_M']\n",
      "['M_G1C2_M', 'M_G1O1_M', 'M_G3O1_M', 'M_G3P2_M']\n",
      "['M_G1O1_M', 'M_G3O1_M', 'M_G3P2_M', 'M_G3P2O1_M']\n",
      "['M_G1O1_M', 'M_G3O1_M', 'M_G3P2_M', 'M_G3P2O2_M']\n",
      "['M_G1O1_M', 'M_G3O1_M', 'M_G3P2_M', 'M_G3O3_M']\n",
      "['M_G3O1_M', 'M_G3P2_M', 'M_G3O3_M', 'M_G3C4_M']\n",
      "['M_G3P2_M', 'M_G3O3_M', 'M_G3C4_M', 'M_G3C5_M']\n",
      "['M_G3O3_M', 'M_G3C4_M', 'M_G3C5_M', 'M_G3N6_M']\n",
      "['M_G2C19_M', 'M_G2C18_M', 'M_G2C17_M', 'M_G2C16_M']\n",
      "['M_G2C18_M', 'M_G2C17_M', 'M_G2C16_M', 'M_G2C15_M']\n",
      "['M_G2C17_M', 'M_G2C16_M', 'M_G2C15_M', 'M_G2C14_M']\n",
      "['M_G2C16_M', 'M_G2C15_M', 'M_G2C14_M', 'M_G2C13_M']\n",
      "['M_G2C15_M', 'M_G2C14_M', 'M_G2C13_M', 'M_G2C12_M']\n",
      "['M_G2C14_M', 'M_G2C13_M', 'M_G2C12_M', 'M_G2C11_M']\n",
      "['M_G2C13_M', 'M_G2C12_M', 'M_G2C11_M', 'M_G2C10_M']\n",
      "['M_G2C12_M', 'M_G2C11_M', 'M_G2C10_M', 'M_G2C9_M']\n",
      "['M_G2C11_M', 'M_G2C10_M', 'M_G2C9_M', 'M_G2C8_M']\n",
      "['M_G2C10_M', 'M_G2C9_M', 'M_G2C8_M', 'M_G2C7_M']\n",
      "['M_G2C9_M', 'M_G2C8_M', 'M_G2C7_M', 'M_G2C6_M']\n",
      "['M_G2C8_M', 'M_G2C7_M', 'M_G2C6_M', 'M_G2C5_M']\n",
      "['M_G2C7_M', 'M_G2C6_M', 'M_G2C5_M', 'M_G2C4_M']\n",
      "['M_G2C6_M', 'M_G2C5_M', 'M_G2C4_M', 'M_G2C3_M']\n",
      "['M_G2C5_M', 'M_G2C4_M', 'M_G2C3_M', 'M_G2C2O1_M']\n",
      "['M_G2C5_M', 'M_G2C4_M', 'M_G2C3_M', 'M_G2C2_M']\n",
      "['M_G2C4_M', 'M_G2C3_M', 'M_G2C2_M', 'M_G2O1_M']\n",
      "['M_G2C3_M', 'M_G2C2_M', 'M_G2O1_M', 'M_G2_M']\n",
      "['M_G2C3_M', 'M_G2C2_M', 'M_G2O1_M', 'M_G3_M']\n",
      "['M_G2C3_M', 'M_G2C2_M', 'M_G2O1_M', 'M_G3O1_M']\n",
      "['M_G2C2_M', 'M_G2O1_M', 'M_G3O1_M', 'M_G3P2_M']\n",
      "['M_G2O1_M', 'M_G3O1_M', 'M_G3P2_M', 'M_G3P2O1_M']\n",
      "['M_G2O1_M', 'M_G3O1_M', 'M_G3P2_M', 'M_G3P2O2_M']\n",
      "['M_G2O1_M', 'M_G3O1_M', 'M_G3P2_M', 'M_G3O3_M']\n",
      "['M_G3O1_M', 'M_G3P2_M', 'M_G3O3_M', 'M_G3C4_M']\n",
      "['M_G3P2_M', 'M_G3O3_M', 'M_G3C4_M', 'M_G3C5_M']\n",
      "['M_G3O3_M', 'M_G3C4_M', 'M_G3C5_M', 'M_G3N6_M']\n"
     ]
    },
    {
     "data": {
      "text/plain": [
       "[]"
      ]
     },
     "execution_count": 48,
     "metadata": {},
     "output_type": "execute_result"
    }
   ],
   "source": [
    "mapping_file = \"./mapping_files/mappingPOPEcharmm.txt\"\n",
    "#dihedrals = parseDihedralInput(mapping_file)\n",
    "parseDihedralInput(mapping_file)\n"
   ]
  },
  {
   "cell_type": "code",
   "execution_count": 52,
   "metadata": {},
   "outputs": [],
   "source": [
    "dihedrals=[['M_G1C17_M', 'M_G1C16_M', 'M_G1C15_M', 'M_G1C14_M'],\n",
    "['M_G1C16_M', 'M_G1C15_M', 'M_G1C14_M', 'M_G1C13_M'],\n",
    "['M_G1C15_M', 'M_G1C14_M', 'M_G1C13_M', 'M_G1C12_M'],\n",
    "['M_G1C14_M', 'M_G1C13_M', 'M_G1C12_M', 'M_G1C11_M'],\n",
    "['M_G1C13_M', 'M_G1C12_M', 'M_G1C11_M', 'M_G1C10_M'],\n",
    "['M_G1C12_M', 'M_G1C11_M', 'M_G1C10_M', 'M_G1C9_M'],\n",
    "['M_G1C11_M', 'M_G1C10_M', 'M_G1C9_M', 'M_G1C8_M'],\n",
    "['M_G1C10_M', 'M_G1C9_M', 'M_G1C8_M', 'M_G1C7_M'],\n",
    "['M_G1C9_M', 'M_G1C8_M', 'M_G1C7_M', 'M_G1C6_M'],\n",
    "['M_G1C8_M', 'M_G1C7_M', 'M_G1C6_M', 'M_G1C5_M'],\n",
    "['M_G1C7_M', 'M_G1C6_M', 'M_G1C5_M', 'M_G1C4_M'],\n",
    "['M_G1C6_M', 'M_G1C5_M', 'M_G1C4_M', 'M_G1C3_M'],\n",
    "['M_G1C5_M', 'M_G1C4_M', 'M_G1C3_M', 'M_G1C2O1_M'],\n",
    "['M_G1C5_M', 'M_G1C4_M', 'M_G1C3_M', 'M_G1C2_M'],\n",
    "['M_G1C4_M', 'M_G1C3_M', 'M_G1C2_M', 'M_G1O1_M'],\n",
    "['M_G1C3_M', 'M_G1C2_M', 'M_G1O1_M', 'M_G1_M'],\n",
    "['M_G1C3_M', 'M_G1C2_M', 'M_G1O1_M', 'M_G3_M'],\n",
    "['M_G1C3_M', 'M_G1C2_M', 'M_G1O1_M', 'M_G3O1_M'],\n",
    "['M_G1C2_M', 'M_G1O1_M', 'M_G3O1_M', 'M_G3P2_M'],\n",
    "['M_G1O1_M', 'M_G3O1_M', 'M_G3P2_M', 'M_G3P2O1_M'],\n",
    "['M_G1O1_M', 'M_G3O1_M', 'M_G3P2_M', 'M_G3P2O2_M'],\n",
    "['M_G1O1_M', 'M_G3O1_M', 'M_G3P2_M', 'M_G3O3_M'],\n",
    "['M_G3O1_M', 'M_G3P2_M', 'M_G3O3_M', 'M_G3C4_M'],\n",
    "['M_G3P2_M', 'M_G3O3_M', 'M_G3C4_M', 'M_G3C5_M'],\n",
    "['M_G3O3_M', 'M_G3C4_M', 'M_G3C5_M', 'M_G3N6_M'],\n",
    "['M_G2C19_M', 'M_G2C18_M', 'M_G2C17_M', 'M_G2C16_M'],\n",
    "['M_G2C18_M', 'M_G2C17_M', 'M_G2C16_M', 'M_G2C15_M'],\n",
    "['M_G2C17_M', 'M_G2C16_M', 'M_G2C15_M', 'M_G2C14_M'],\n",
    "['M_G2C16_M', 'M_G2C15_M', 'M_G2C14_M', 'M_G2C13_M'],\n",
    "['M_G2C15_M', 'M_G2C14_M', 'M_G2C13_M', 'M_G2C12_M'],\n",
    "['M_G2C14_M', 'M_G2C13_M', 'M_G2C12_M', 'M_G2C11_M'],\n",
    "['M_G2C13_M', 'M_G2C12_M', 'M_G2C11_M', 'M_G2C10_M'],\n",
    "['M_G2C12_M', 'M_G2C11_M', 'M_G2C10_M', 'M_G2C9_M'],\n",
    "['M_G2C11_M', 'M_G2C10_M', 'M_G2C9_M', 'M_G2C8_M'],\n",
    "['M_G2C10_M', 'M_G2C9_M', 'M_G2C8_M', 'M_G2C7_M'],\n",
    "['M_G2C9_M', 'M_G2C8_M', 'M_G2C7_M', 'M_G2C6_M'],\n",
    "['M_G2C8_M', 'M_G2C7_M', 'M_G2C6_M', 'M_G2C5_M'],\n",
    "['M_G2C7_M', 'M_G2C6_M', 'M_G2C5_M', 'M_G2C4_M'],\n",
    "['M_G2C6_M', 'M_G2C5_M', 'M_G2C4_M', 'M_G2C3_M'],\n",
    "['M_G2C5_M', 'M_G2C4_M', 'M_G2C3_M', 'M_G2C2O1_M'],\n",
    "['M_G2C5_M', 'M_G2C4_M', 'M_G2C3_M', 'M_G2C2_M'],\n",
    "['M_G2C4_M', 'M_G2C3_M', 'M_G2C2_M', 'M_G2O1_M'],\n",
    "['M_G2C3_M', 'M_G2C2_M', 'M_G2O1_M', 'M_G2_M'],\n",
    "['M_G2C3_M', 'M_G2C2_M', 'M_G2O1_M', 'M_G3_M'],\n",
    "['M_G2C3_M', 'M_G2C2_M', 'M_G2O1_M', 'M_G3O1_M'],\n",
    "['M_G2C2_M', 'M_G2O1_M', 'M_G3O1_M', 'M_G3P2_M'],\n",
    "['M_G2O1_M', 'M_G3O1_M', 'M_G3P2_M', 'M_G3P2O1_M'],\n",
    "['M_G2O1_M', 'M_G3O1_M', 'M_G3P2_M', 'M_G3P2O2_M'],\n",
    "['M_G2O1_M', 'M_G3O1_M', 'M_G3P2_M', 'M_G3O3_M'],\n",
    "['M_G3O1_M', 'M_G3P2_M', 'M_G3O3_M', 'M_G3C4_M'],\n",
    "['M_G3P2_M', 'M_G3O3_M', 'M_G3C4_M', 'M_G3C5_M'],\n",
    "['M_G3O3_M', 'M_G3C4_M', 'M_G3C5_M', 'M_G3N6_M'],\n",
    "]\n"
   ]
  },
  {
   "cell_type": "code",
   "execution_count": 53,
   "metadata": {},
   "outputs": [
    {
     "data": {
      "text/plain": [
       "[['M_G1C17_M', 'M_G1C16_M', 'M_G1C15_M', 'M_G1C14_M'],\n",
       " ['M_G1C16_M', 'M_G1C15_M', 'M_G1C14_M', 'M_G1C13_M'],\n",
       " ['M_G1C15_M', 'M_G1C14_M', 'M_G1C13_M', 'M_G1C12_M'],\n",
       " ['M_G1C14_M', 'M_G1C13_M', 'M_G1C12_M', 'M_G1C11_M'],\n",
       " ['M_G1C13_M', 'M_G1C12_M', 'M_G1C11_M', 'M_G1C10_M'],\n",
       " ['M_G1C12_M', 'M_G1C11_M', 'M_G1C10_M', 'M_G1C9_M'],\n",
       " ['M_G1C11_M', 'M_G1C10_M', 'M_G1C9_M', 'M_G1C8_M'],\n",
       " ['M_G1C10_M', 'M_G1C9_M', 'M_G1C8_M', 'M_G1C7_M'],\n",
       " ['M_G1C9_M', 'M_G1C8_M', 'M_G1C7_M', 'M_G1C6_M'],\n",
       " ['M_G1C8_M', 'M_G1C7_M', 'M_G1C6_M', 'M_G1C5_M'],\n",
       " ['M_G1C7_M', 'M_G1C6_M', 'M_G1C5_M', 'M_G1C4_M'],\n",
       " ['M_G1C6_M', 'M_G1C5_M', 'M_G1C4_M', 'M_G1C3_M'],\n",
       " ['M_G1C5_M', 'M_G1C4_M', 'M_G1C3_M', 'M_G1C2O1_M'],\n",
       " ['M_G1C5_M', 'M_G1C4_M', 'M_G1C3_M', 'M_G1C2_M'],\n",
       " ['M_G1C4_M', 'M_G1C3_M', 'M_G1C2_M', 'M_G1O1_M'],\n",
       " ['M_G1C3_M', 'M_G1C2_M', 'M_G1O1_M', 'M_G1_M'],\n",
       " ['M_G1C3_M', 'M_G1C2_M', 'M_G1O1_M', 'M_G3_M'],\n",
       " ['M_G1C3_M', 'M_G1C2_M', 'M_G1O1_M', 'M_G3O1_M'],\n",
       " ['M_G1C2_M', 'M_G1O1_M', 'M_G3O1_M', 'M_G3P2_M'],\n",
       " ['M_G1O1_M', 'M_G3O1_M', 'M_G3P2_M', 'M_G3P2O1_M'],\n",
       " ['M_G1O1_M', 'M_G3O1_M', 'M_G3P2_M', 'M_G3P2O2_M'],\n",
       " ['M_G1O1_M', 'M_G3O1_M', 'M_G3P2_M', 'M_G3O3_M'],\n",
       " ['M_G3O1_M', 'M_G3P2_M', 'M_G3O3_M', 'M_G3C4_M'],\n",
       " ['M_G3P2_M', 'M_G3O3_M', 'M_G3C4_M', 'M_G3C5_M'],\n",
       " ['M_G3O3_M', 'M_G3C4_M', 'M_G3C5_M', 'M_G3N6_M'],\n",
       " ['M_G2C19_M', 'M_G2C18_M', 'M_G2C17_M', 'M_G2C16_M'],\n",
       " ['M_G2C18_M', 'M_G2C17_M', 'M_G2C16_M', 'M_G2C15_M'],\n",
       " ['M_G2C17_M', 'M_G2C16_M', 'M_G2C15_M', 'M_G2C14_M'],\n",
       " ['M_G2C16_M', 'M_G2C15_M', 'M_G2C14_M', 'M_G2C13_M'],\n",
       " ['M_G2C15_M', 'M_G2C14_M', 'M_G2C13_M', 'M_G2C12_M'],\n",
       " ['M_G2C14_M', 'M_G2C13_M', 'M_G2C12_M', 'M_G2C11_M'],\n",
       " ['M_G2C13_M', 'M_G2C12_M', 'M_G2C11_M', 'M_G2C10_M'],\n",
       " ['M_G2C12_M', 'M_G2C11_M', 'M_G2C10_M', 'M_G2C9_M'],\n",
       " ['M_G2C11_M', 'M_G2C10_M', 'M_G2C9_M', 'M_G2C8_M'],\n",
       " ['M_G2C10_M', 'M_G2C9_M', 'M_G2C8_M', 'M_G2C7_M'],\n",
       " ['M_G2C9_M', 'M_G2C8_M', 'M_G2C7_M', 'M_G2C6_M'],\n",
       " ['M_G2C8_M', 'M_G2C7_M', 'M_G2C6_M', 'M_G2C5_M'],\n",
       " ['M_G2C7_M', 'M_G2C6_M', 'M_G2C5_M', 'M_G2C4_M'],\n",
       " ['M_G2C6_M', 'M_G2C5_M', 'M_G2C4_M', 'M_G2C3_M'],\n",
       " ['M_G2C5_M', 'M_G2C4_M', 'M_G2C3_M', 'M_G2C2O1_M'],\n",
       " ['M_G2C5_M', 'M_G2C4_M', 'M_G2C3_M', 'M_G2C2_M'],\n",
       " ['M_G2C4_M', 'M_G2C3_M', 'M_G2C2_M', 'M_G2O1_M'],\n",
       " ['M_G2C3_M', 'M_G2C2_M', 'M_G2O1_M', 'M_G2_M'],\n",
       " ['M_G2C3_M', 'M_G2C2_M', 'M_G2O1_M', 'M_G3_M'],\n",
       " ['M_G2C3_M', 'M_G2C2_M', 'M_G2O1_M', 'M_G3O1_M'],\n",
       " ['M_G2C2_M', 'M_G2O1_M', 'M_G3O1_M', 'M_G3P2_M'],\n",
       " ['M_G2O1_M', 'M_G3O1_M', 'M_G3P2_M', 'M_G3P2O1_M'],\n",
       " ['M_G2O1_M', 'M_G3O1_M', 'M_G3P2_M', 'M_G3P2O2_M'],\n",
       " ['M_G2O1_M', 'M_G3O1_M', 'M_G3P2_M', 'M_G3O3_M'],\n",
       " ['M_G3O1_M', 'M_G3P2_M', 'M_G3O3_M', 'M_G3C4_M'],\n",
       " ['M_G3P2_M', 'M_G3O3_M', 'M_G3C4_M', 'M_G3C5_M'],\n",
       " ['M_G3O3_M', 'M_G3C4_M', 'M_G3C5_M', 'M_G3N6_M']]"
      ]
     },
     "execution_count": 53,
     "metadata": {},
     "output_type": "execute_result"
    }
   ],
   "source": [
    "dihedrals"
   ]
  },
  {
   "cell_type": "code",
   "execution_count": 54,
   "metadata": {},
   "outputs": [
    {
     "name": "stdout",
     "output_type": "stream",
     "text": [
      "['M_G1C17_M', 'M_G1C16_M', 'M_G1C15_M', 'M_G1C14_M']\n",
      "['M_G1C16_M', 'M_G1C15_M', 'M_G1C14_M', 'M_G1C13_M']\n",
      "['M_G1C15_M', 'M_G1C14_M', 'M_G1C13_M', 'M_G1C12_M']\n",
      "['M_G1C14_M', 'M_G1C13_M', 'M_G1C12_M', 'M_G1C11_M']\n",
      "['M_G1C13_M', 'M_G1C12_M', 'M_G1C11_M', 'M_G1C10_M']\n",
      "['M_G1C12_M', 'M_G1C11_M', 'M_G1C10_M', 'M_G1C9_M']\n",
      "['M_G1C11_M', 'M_G1C10_M', 'M_G1C9_M', 'M_G1C8_M']\n",
      "['M_G1C10_M', 'M_G1C9_M', 'M_G1C8_M', 'M_G1C7_M']\n",
      "['M_G1C9_M', 'M_G1C8_M', 'M_G1C7_M', 'M_G1C6_M']\n",
      "['M_G1C8_M', 'M_G1C7_M', 'M_G1C6_M', 'M_G1C5_M']\n",
      "['M_G1C7_M', 'M_G1C6_M', 'M_G1C5_M', 'M_G1C4_M']\n",
      "['M_G1C6_M', 'M_G1C5_M', 'M_G1C4_M', 'M_G1C3_M']\n",
      "['M_G1C5_M', 'M_G1C4_M', 'M_G1C3_M', 'M_G1C2O1_M']\n",
      "['M_G1C5_M', 'M_G1C4_M', 'M_G1C3_M', 'M_G1C2_M']\n",
      "['M_G1C4_M', 'M_G1C3_M', 'M_G1C2_M', 'M_G1O1_M']\n",
      "['M_G1C3_M', 'M_G1C2_M', 'M_G1O1_M', 'M_G1_M']\n",
      "['M_G1C3_M', 'M_G1C2_M', 'M_G1O1_M', 'M_G3_M']\n",
      "['M_G1C3_M', 'M_G1C2_M', 'M_G1O1_M', 'M_G3O1_M']\n",
      "['M_G1C2_M', 'M_G1O1_M', 'M_G3O1_M', 'M_G3P2_M']\n",
      "['M_G1O1_M', 'M_G3O1_M', 'M_G3P2_M', 'M_G3P2O1_M']\n",
      "['M_G1O1_M', 'M_G3O1_M', 'M_G3P2_M', 'M_G3P2O2_M']\n",
      "['M_G1O1_M', 'M_G3O1_M', 'M_G3P2_M', 'M_G3O3_M']\n",
      "['M_G3O1_M', 'M_G3P2_M', 'M_G3O3_M', 'M_G3C4_M']\n",
      "['M_G3P2_M', 'M_G3O3_M', 'M_G3C4_M', 'M_G3C5_M']\n",
      "['M_G3O3_M', 'M_G3C4_M', 'M_G3C5_M', 'M_G3N6_M']\n",
      "['M_G2C19_M', 'M_G2C18_M', 'M_G2C17_M', 'M_G2C16_M']\n",
      "['M_G2C18_M', 'M_G2C17_M', 'M_G2C16_M', 'M_G2C15_M']\n",
      "['M_G2C17_M', 'M_G2C16_M', 'M_G2C15_M', 'M_G2C14_M']\n",
      "['M_G2C16_M', 'M_G2C15_M', 'M_G2C14_M', 'M_G2C13_M']\n",
      "['M_G2C15_M', 'M_G2C14_M', 'M_G2C13_M', 'M_G2C12_M']\n",
      "['M_G2C14_M', 'M_G2C13_M', 'M_G2C12_M', 'M_G2C11_M']\n",
      "['M_G2C13_M', 'M_G2C12_M', 'M_G2C11_M', 'M_G2C10_M']\n",
      "['M_G2C12_M', 'M_G2C11_M', 'M_G2C10_M', 'M_G2C9_M']\n",
      "['M_G2C11_M', 'M_G2C10_M', 'M_G2C9_M', 'M_G2C8_M']\n",
      "['M_G2C10_M', 'M_G2C9_M', 'M_G2C8_M', 'M_G2C7_M']\n",
      "['M_G2C9_M', 'M_G2C8_M', 'M_G2C7_M', 'M_G2C6_M']\n",
      "['M_G2C8_M', 'M_G2C7_M', 'M_G2C6_M', 'M_G2C5_M']\n",
      "['M_G2C7_M', 'M_G2C6_M', 'M_G2C5_M', 'M_G2C4_M']\n",
      "['M_G2C6_M', 'M_G2C5_M', 'M_G2C4_M', 'M_G2C3_M']\n",
      "['M_G2C5_M', 'M_G2C4_M', 'M_G2C3_M', 'M_G2C2O1_M']\n",
      "['M_G2C5_M', 'M_G2C4_M', 'M_G2C3_M', 'M_G2C2_M']\n",
      "['M_G2C4_M', 'M_G2C3_M', 'M_G2C2_M', 'M_G2O1_M']\n",
      "['M_G2C3_M', 'M_G2C2_M', 'M_G2O1_M', 'M_G2_M']\n",
      "['M_G2C3_M', 'M_G2C2_M', 'M_G2O1_M', 'M_G3_M']\n",
      "['M_G2C3_M', 'M_G2C2_M', 'M_G2O1_M', 'M_G3O1_M']\n",
      "['M_G2C2_M', 'M_G2O1_M', 'M_G3O1_M', 'M_G3P2_M']\n",
      "['M_G2O1_M', 'M_G3O1_M', 'M_G3P2_M', 'M_G3P2O1_M']\n",
      "['M_G2O1_M', 'M_G3O1_M', 'M_G3P2_M', 'M_G3P2O2_M']\n",
      "['M_G2O1_M', 'M_G3O1_M', 'M_G3P2_M', 'M_G3O3_M']\n",
      "['M_G3O1_M', 'M_G3P2_M', 'M_G3O3_M', 'M_G3C4_M']\n",
      "['M_G3P2_M', 'M_G3O3_M', 'M_G3C4_M', 'M_G3C5_M']\n",
      "['M_G3O3_M', 'M_G3C4_M', 'M_G3C5_M', 'M_G3N6_M']\n"
     ]
    }
   ],
   "source": [
    "for i in dihedrals:\n",
    "    DIHatoms = i\n",
    "    print(i)"
   ]
  },
  {
   "cell_type": "code",
   "execution_count": null,
   "metadata": {},
   "outputs": [],
   "source": []
  }
 ],
 "metadata": {
  "kernelspec": {
   "display_name": "Python 3",
   "language": "python",
   "name": "python3"
  },
  "language_info": {
   "codemirror_mode": {
    "name": "ipython",
    "version": 3
   },
   "file_extension": ".py",
   "mimetype": "text/x-python",
   "name": "python",
   "nbconvert_exporter": "python",
   "pygments_lexer": "ipython3",
   "version": "3.6.9"
  }
 },
 "nbformat": 4,
 "nbformat_minor": 4
}

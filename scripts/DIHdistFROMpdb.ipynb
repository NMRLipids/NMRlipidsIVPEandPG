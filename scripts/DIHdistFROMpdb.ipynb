{
 "cells": [
  {
   "cell_type": "code",
   "execution_count": 15,
   "metadata": {},
   "outputs": [],
   "source": [
    "def make_positive_angles(x):\n",
    "    for i in range(len(x)):\n",
    "        if x[i] < 0:\n",
    "            x[i] = x[i] + 360\n",
    "        else:\n",
    "            x[i] = x[i]\n",
    "    return x"
   ]
  },
  {
   "cell_type": "code",
   "execution_count": 16,
   "metadata": {},
   "outputs": [],
   "source": [
    "dih1 = []\n",
    "with open(\"../Data/PDBdistributions/ps_parsed.csv\", \"r\") as file:\n",
    "    lines=file.readlines()[1:]\n",
    "    for line in lines:\n",
    "        dih1.append(float(line.split()[7]))\n",
    "        #print(file.split())"
   ]
  },
  {
   "cell_type": "code",
   "execution_count": 30,
   "metadata": {
    "scrolled": true
   },
   "outputs": [
    {
     "data": {
      "image/png": "[encoded data removed]",
      "text/plain": [
       "<matplotlib.figure.Figure at 0x7f574006ba58>"
      ]
     },
     "metadata": {
      "needs_background": "light"
     },
     "output_type": "display_data"
    }
   ],
   "source": [
    "import matplotlib.pyplot as plt\n",
    "import numpy as np\n",
    "dist = plt.hist(make_positive_angles(dih1), bins=range(0,400,20), density=True)\n",
    "outfile=open('../Data/' + \"PS\" + \"dih1\" + '.dat','w')\n",
    "for i in range(len(dist[0])):\n",
    "#print(str(dist[1][i]),str(dist[0][i]))\n",
    "    outfile.write(str(dist[1][i]) + \" \" + str(dist[0][i]) + \"\\n\")\n",
    "outfile.close()"
   ]
  },
  {
   "cell_type": "code",
   "execution_count": 31,
   "metadata": {},
   "outputs": [
    {
     "data": {
      "text/plain": [
       "(array([0.        , 0.00208333, 0.00520833, 0.003125  , 0.00208333,\n",
       "        0.        , 0.003125  , 0.00104167, 0.00104167, 0.00729167,\n",
       "        0.00416667, 0.00208333, 0.        , 0.00729167, 0.003125  ,\n",
       "        0.00416667, 0.00208333, 0.00208333, 0.        ]),\n",
       " array([  0,  20,  40,  60,  80, 100, 120, 140, 160, 180, 200, 220, 240,\n",
       "        260, 280, 300, 320, 340, 360, 380]),\n",
       " <a list of 19 Patch objects>)"
      ]
     },
     "execution_count": 31,
     "metadata": {},
     "output_type": "execute_result"
    }
   ],
   "source": [
    "dist"
   ]
  },
  {
   "cell_type": "code",
   "execution_count": null,
   "metadata": {},
   "outputs": [],
   "source": []
  }
 ],
 "metadata": {
  "kernelspec": {
   "display_name": "Python 3",
   "language": "python",
   "name": "python3"
  },
  "language_info": {
   "codemirror_mode": {
    "name": "ipython",
    "version": 3
   },
   "file_extension": ".py",
   "mimetype": "text/x-python",
   "name": "python",
   "nbconvert_exporter": "python",
   "pygments_lexer": "ipython3",
   "version": "3.5.2"
  }
 },
 "nbformat": 4,
 "nbformat_minor": 2
}

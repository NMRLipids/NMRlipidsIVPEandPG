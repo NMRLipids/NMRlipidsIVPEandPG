{
 "cells": [
  {
   "cell_type": "code",
   "execution_count": 2,
   "metadata": {},
   "outputs": [],
   "source": [
    "import os\n",
    "import numpy as np\n",
    "import json\n",
    "import matplotlib.pyplot as plt\n",
    "import mdtraj\n",
    "import urllib.request\n",
    "import yaml\n",
    "import pprint\n",
    "from OrderParameter import *\n",
    "\n",
    "# SAMULI: Also this should be maybe moved to the external code that will be imported\n",
    "# Download link\n",
    "def download_link(doi, file):\n",
    "    if \"zenodo\" in doi.lower():\n",
    "        zenodo_entry_number = doi.split(\".\")[2]\n",
    "        return 'https://zenodo.org/record/' + zenodo_entry_number + '/files/' + file\n",
    "    else:\n",
    "        print (\"DOI provided: {0}\".format(doi))\n",
    "        print (\"Repository not validated. Please upload the data for example to zenodo.org\")\n",
    "        return \"\""
   ]
  },
  {
   "cell_type": "code",
   "execution_count": 4,
   "metadata": {
    "scrolled": true
   },
   "outputs": [
    {
     "name": "stdout",
     "output_type": "stream",
     "text": [
      "../Data/Simulations/479/374/47937487ddd47f9f363eed8d048e153dec3b87bd/4404adfe3d70ba3582c6bfa0656563f8eaad7887\n"
     ]
    }
   ],
   "source": [
    "# Demonstration of reading the databank\n",
    "# Currently lists some information on the simulations in the databank\n",
    "\n",
    "# List of lipids that will be analyzed\n",
    "lipids = {'POPC', 'POPG','POPE','POPS'} \n",
    "angles = []\n",
    "\n",
    "# This walks through the files in the databank\n",
    "# Dictionaries saved as README.yaml are read into 'readme' dictionary\n",
    "\n",
    "for subdir, dirs, files in os.walk(r'../Data/Simulations/'):\n",
    "    for filename in files:\n",
    "        filepath = subdir + os.sep + filename\n",
    "        if filepath.endswith(\"README.yaml\"):\n",
    "            READMEfilepath = subdir + '/README.yaml'\n",
    "            with open(READMEfilepath) as yaml_file:\n",
    "                readme = yaml.load(yaml_file, Loader=yaml.FullLoader)\n",
    "                #for molname in lipids:\n",
    "                doi = readme.get('DOI')\n",
    "                trj = readme.get('TRJ')\n",
    "                tpr = readme.get('TPR')\n",
    "                trj_name = subdir + '/' + readme.get('TRJ')[0][0]\n",
    "                tpr_name = subdir + '/' + readme.get('TPR')[0][0]\n",
    "                gro_name = subdir + '/conf.gro'\n",
    "                trj_url = download_link(doi, trj[0][0])\n",
    "                tpr_url = download_link(doi, tpr[0][0])\n",
    "                EQtime=float(readme.get('TIMELEFTOUT'))*1000\n",
    "                \n",
    "                #if('CHARMM' in readme.get('FF')):\n",
    "                #print(lipids[0])\n",
    "                #if('10.5281/zenodo.3241243'  in readme.get('DOI') or '10.5281/zenodo.3832219' in readme.get('DOI')):\n",
    "                #    !grep \"M_G3C5_M M_G3C5H1_M\" {subdir}/POPGOrderParameters.dat \n",
    "                if('10.5281/zenodo.4005515'  in readme.get('DOI')):\n",
    "                    print(subdir)\n",
    "                #print(readme.get('SYSTEM'),readme.get('FF'),readme.get('NCAL'))"
   ]
  },
  {
   "cell_type": "code",
   "execution_count": null,
   "metadata": {},
   "outputs": [],
   "source": []
  }
 ],
 "metadata": {
  "kernelspec": {
   "display_name": "Python 3",
   "language": "python",
   "name": "python3"
  },
  "language_info": {
   "codemirror_mode": {
    "name": "ipython",
    "version": 3
   },
   "file_extension": ".py",
   "mimetype": "text/x-python",
   "name": "python",
   "nbconvert_exporter": "python",
   "pygments_lexer": "ipython3",
   "version": "3.6.9"
  }
 },
 "nbformat": 4,
 "nbformat_minor": 4
}

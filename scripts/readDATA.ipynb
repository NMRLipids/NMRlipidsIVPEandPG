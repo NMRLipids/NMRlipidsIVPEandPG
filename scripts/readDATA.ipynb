{
 "cells": [
  {
   "cell_type": "code",
   "execution_count": 1,
   "metadata": {},
   "outputs": [],
   "source": [
    "import os\n",
    "import numpy as np\n",
    "import json\n",
    "import matplotlib.pyplot as plt\n",
    "import mdtraj\n",
    "import urllib.request\n",
    "import yaml\n",
    "import pprint\n",
    "from OrderParameter import *\n",
    "\n",
    "# SAMULI: Also this should be maybe moved to the external code that will be imported\n",
    "# Download link\n",
    "def download_link(doi, file):\n",
    "    if \"zenodo\" in doi.lower():\n",
    "        zenodo_entry_number = doi.split(\".\")[2]\n",
    "        return 'https://zenodo.org/record/' + zenodo_entry_number + '/files/' + file\n",
    "    else:\n",
    "        print (\"DOI provided: {0}\".format(doi))\n",
    "        print (\"Repository not validated. Please upload the data for example to zenodo.org\")\n",
    "        return \"\""
   ]
  },
  {
   "cell_type": "code",
   "execution_count": 11,
   "metadata": {
    "scrolled": true
   },
   "outputs": [
    {
     "name": "stdout",
     "output_type": "stream",
     "text": [
      "POPC_T313K CHARMM36 0\n",
      "POPC:POPG(1:1)_T298K CHARMM36 0\n",
      "POPG_T298K CHARMM36 0\n",
      "POPC50%chol_T303K CHARMM36 0\n",
      "POPC:POPG(4:1)+0.1MCaCl_T298K CHARMM36 47\n",
      "POPS_298K CHARMM36 0\n",
      "POPC:POPG(1:1)+1MCaCl_T298K CHARMM36 578\n",
      "POPC:POPG(4:1)_T298K lipid17ecc 0\n",
      "POPE_310K CHARMM36 0\n",
      "POPC_T300K CHARMM36 0\n",
      "POPC:POPG(1:1)+100mMCaCl_T298K CHARMM36 57\n",
      "POPC_T298K Slipids 0\n",
      "POPC:POPG(1:1)_T298K_100mM_CaCl lipid17ecc 54\n",
      "POPC:POPG(1:1)_T298K_100mM_CaCl lipid17ecc 0\n",
      "POPC_T298K Slipids 0\n",
      "POPC:POPG(1:1)_T298K lipid17ecc 0\n",
      "POPC:POPE(1:1)_T300K MacRog 0\n",
      "POPC30%DHMDMAB_T313K CHARMM36 0\n",
      "POPC20%chol_T303K CHARMM36 0\n",
      "POPC10%DHMDMAB_T313K CHARMM36 0\n",
      "POPC_T298K Slipids 0\n",
      "POPC:POPE_1:1_T298K Slipids 0\n",
      "POPC_T310K Slipids 0\n",
      "POPG_T310K CHARMM36 0\n",
      "POPC_T310K ?? 0\n",
      "POPC:POPE(1:1)_T300K MacRog 0\n",
      "POPC_T298K Slipids 0\n",
      "POPC_T298K Slipids 0\n",
      "POPC_T300K CHARMM36 0\n",
      "POPC_T310K Slipids 0\n",
      "POPC_T303K CHARMM36 0\n",
      "POPC50%DHMDMAB_T313K CHARMM36 0\n",
      "POPC:POPG(4:1)_T298K CHARMM36 0\n",
      "POPC_POPG_7:3_T310K ?? 0\n",
      "POPC_T298K Slipids 0\n",
      "POPC:POPG(1:1)_T298K_1000mM_CaCl lipid17ecc 569\n",
      "POPC10%DHMDMAB_T313K CHARMM36 0\n",
      "POPC_T303K CHARMM36 0\n",
      "POPC:POPG(4:1)_T298K_0.1MCaCl lipid17ecc 47\n",
      "POPS_298K CHARMM36 0\n",
      "POPC:POPG(4:1)+1MCaCl_T298K CHARMM36 451\n"
     ]
    }
   ],
   "source": [
    "# Demonstration of reading the databank\n",
    "# Currently lists some information on the simulations in the databank\n",
    "\n",
    "# List of lipids that will be analyzed\n",
    "lipids = {'POPC', 'POPG','POPE','POPS'} \n",
    "angles = []\n",
    "\n",
    "# This walks through the files in the databank\n",
    "# Dictionaries saved as README.yaml are read into 'readme' dictionary\n",
    "\n",
    "for subdir, dirs, files in os.walk(r'../Data/Simulations/'):\n",
    "    for filename in files:\n",
    "        filepath = subdir + os.sep + filename\n",
    "        if filepath.endswith(\"README.yaml\"):\n",
    "            READMEfilepath = subdir + '/README.yaml'\n",
    "            with open(READMEfilepath) as yaml_file:\n",
    "                readme = yaml.load(yaml_file, Loader=yaml.FullLoader)\n",
    "                #for molname in lipids:\n",
    "                doi = readme.get('DOI')\n",
    "                trj = readme.get('TRJ')\n",
    "                tpr = readme.get('TPR')\n",
    "                trj_name = subdir + '/' + readme.get('TRJ')[0][0]\n",
    "                tpr_name = subdir + '/' + readme.get('TPR')[0][0]\n",
    "                gro_name = subdir + '/conf.gro'\n",
    "                trj_url = download_link(doi, trj[0][0])\n",
    "                tpr_url = download_link(doi, tpr[0][0])\n",
    "                EQtime=float(readme.get('TIMELEFTOUT'))*1000\n",
    "                \n",
    "                #if('CHARMM' in readme.get('FF')):\n",
    "                #print(lipids[0])\n",
    "                print(readme.get('SYSTEM'),readme.get('FF'),readme.get('NCAL'))"
   ]
  },
  {
   "cell_type": "code",
   "execution_count": null,
   "metadata": {},
   "outputs": [],
   "source": []
  }
 ],
 "metadata": {
  "kernelspec": {
   "display_name": "Python 3",
   "language": "python",
   "name": "python3"
  },
  "language_info": {
   "codemirror_mode": {
    "name": "ipython",
    "version": 3
   },
   "file_extension": ".py",
   "mimetype": "text/x-python",
   "name": "python",
   "nbconvert_exporter": "python",
   "pygments_lexer": "ipython3",
   "version": "3.6.9"
  }
 },
 "nbformat": 4,
 "nbformat_minor": 4
}

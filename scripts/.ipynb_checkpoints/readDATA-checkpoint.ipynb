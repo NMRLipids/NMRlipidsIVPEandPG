{
 "cells": [
  {
   "cell_type": "code",
   "execution_count": 1,
   "metadata": {},
   "outputs": [],
   "source": [
    "import os\n",
    "import numpy as np\n",
    "import json\n",
    "import matplotlib.pyplot as plt\n",
    "import mdtraj\n",
    "import urllib.request\n",
    "import json\n",
    "from OrderParameter import *\n",
    "\n",
    "# SAMULI: Also this should be maybe moved to the external code that will be imported\n",
    "# Download link\n",
    "def download_link(doi, file):\n",
    "    if \"zenodo\" in doi.lower():\n",
    "        zenodo_entry_number = doi.split(\".\")[2]\n",
    "        return 'https://zenodo.org/record/' + zenodo_entry_number + '/files/' + file\n",
    "    else:\n",
    "        print (\"DOI provided: {0}\".format(doi))\n",
    "        print (\"Repository not validated. Please upload the data for example to zenodo.org\")\n",
    "        return \"\""
   ]
  },
  {
   "cell_type": "code",
   "execution_count": 2,
   "metadata": {
    "scrolled": true
   },
   "outputs": [
    {
     "name": "stdout",
     "output_type": "stream",
     "text": [
      "POPS_298K gromacs CHARMM36\n",
      "POPS 115.78461196067981\n",
      "POPS_298K gromacs CHARMM36\n",
      "POPS 114.16585142109147\n",
      "POPE_310K gromacs CHARMM36\n",
      "POPE 103.06649836271816\n"
     ]
    }
   ],
   "source": [
    "# Demonstration of reading the databank\n",
    "# Calculates the P-N vector angle with respect to z-axis \n",
    "# for all lipids listed in the 'lipids' (currently POPE and POPG).\n",
    "#\n",
    "# The atoms are now selected assuming that they are named as P and N.\n",
    "# Generalization of the atom selection using mapping files is in progress \n",
    "\n",
    "# List of lipids that will be analyzed\n",
    "lipids = {'POPE','POPS'} \n",
    "angles = []\n",
    "\n",
    "# This walks through the files in the databank\n",
    "# Dictionaries saved as README.json (should we rename this?) are read into 'readme' dictionary\n",
    "for subdir, dirs, files in os.walk(r'../Data/Simulations/'):\n",
    "    for filename in files:\n",
    "        if filename == 'README.json':\n",
    "            READMEfilepath = subdir + '/README.json'\n",
    "            with open(READMEfilepath) as json_file:\n",
    "                readme = json.load(json_file)\n",
    "                for molname in lipids:                # Loop over lipids that are going to be analyzed\n",
    "                    if readme['N' + molname] > 0:     # Datasets containing lipids under interest will be analyzed\n",
    "                        print(readme.get('SYSTEM'),readme.get('SOFTWARE'),readme.get('FF'))  # Demonstration how to extract information from the datasets\n",
    "                        doi = readme.get('DOI')       # The file name and locations are read from the databank\n",
    "                        trj = readme.get('TRJ')\n",
    "                        tpr = readme.get('TPR')\n",
    "                        trj_url = download_link(doi, trj[0][0])\n",
    "                        tpr_url = download_link(doi, tpr[0][0])\n",
    "                        trj_name = subdir+'/'+readme.get('TRJ')[0][0]\n",
    "                        tpr_name = subdir+'/'+readme.get('TPR')[0][0]\n",
    "                        gro_name = subdir+'/'+readme.get('INI')[0][0]\n",
    "                        #response = urllib.request.urlretrieve(trj_url, trj_name)  # Files are downloaded\n",
    "                        #response = urllib.request.urlretrieve(tpr_url, tpr_name)\n",
    "                        print(molname,read_trj_PN_angles(molname, tpr_name, trj_name))  # Calculates P-N angle"
   ]
  }
 ],
 "metadata": {
  "kernelspec": {
   "display_name": "Python 3",
   "language": "python",
   "name": "python3"
  },
  "language_info": {
   "codemirror_mode": {
    "name": "ipython",
    "version": 3
   },
   "file_extension": ".py",
   "mimetype": "text/x-python",
   "name": "python",
   "nbconvert_exporter": "python",
   "pygments_lexer": "ipython3",
   "version": "3.7.6"
  }
 },
 "nbformat": 4,
 "nbformat_minor": 4
}

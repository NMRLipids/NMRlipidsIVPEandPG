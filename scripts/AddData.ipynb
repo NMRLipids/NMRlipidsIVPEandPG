{
 "cells": [
  {
   "cell_type": "markdown",
   "metadata": {},
   "source": [
    "# Database test"
   ]
  },
  {
   "cell_type": "markdown",
   "metadata": {},
   "source": [
    "## Simulation description file"
   ]
  },
  {
   "cell_type": "code",
   "execution_count": 1,
   "metadata": {},
   "outputs": [],
   "source": [
    "DOI=\"10.5281/zenodo.3474862\"\n",
    "def_file  = \"/media/akiirikk/DATADRIVE1/tietokanta/MATCH/scripts/orderParm_defs/order_parameter_definitions_MODEL_CHARMM36_POPC.def\"\n",
    "\n",
    "user_information = \"\"\"\n",
    "POPC \n",
    "#NMRLIPIDS BEGIN\n",
    "\n",
    "@SIM\n",
    "@SYSTEM=POPC_303K\n",
    "@SOFTWARE=gromacs\n",
    "@FF=CHARMM36\n",
    "@FF_SOURCE=CHARMM-GUI\n",
    "@FF_DATE=??\n",
    "@TRJ=traj_comp.xtc\n",
    "@TPR=mdrun.tpr\n",
    "@INI=md_in.gro\n",
    "\n",
    "@POPC=POPC\n",
    "@POPG=POPG\n",
    "@POPS=POPS\n",
    "@POPE=POPE\n",
    "@POT=POT\n",
    "@SOD=SOD\n",
    "@CLA=CLA\n",
    "@CAL=CAL\n",
    "@TIP3=TIP3\n",
    "\n",
    "@NPOPC=0\n",
    "@NPOPG=0\n",
    "@NPOPS=0\n",
    "@NPOPE=0\n",
    "@NPOT=0\n",
    "@NSOD=0\n",
    "@NCLA=0\n",
    "@NCAL=0\n",
    "@NTIP3=0\n",
    "\n",
    "@TEMPERATURE=0\n",
    "\n",
    "#NMRLIPIDS END\n",
    "\n",
    "\"\"\"\n",
    "\n",
    "\n",
    "# Working directory\n",
    "dir_wrk  = \"/media/akiirikk/DATADRIVE1/tietokanta/temp/DATAbankTST/POPCcharmm/\"\n"
   ]
  },
  {
   "cell_type": "markdown",
   "metadata": {},
   "source": [
    "## General Imports"
   ]
  },
  {
   "cell_type": "code",
   "execution_count": 44,
   "metadata": {},
   "outputs": [],
   "source": [
    "# Working with files and directories\n",
    "import os\n",
    "\n",
    "#For quering webs\n",
    "import urllib.request\n",
    "from urllib.error import URLError,HTTPError\n",
    "\n",
    "# From time monitoring\n",
    "from tqdm import tqdm\n",
    "\n",
    "# Python program to find SHA256 hash string of a file\n",
    "import hashlib\n",
    "\n",
    "# For dealing with excel and cvs \n",
    "import pandas as pd\n",
    "pd.set_option('display.max_rows', 500)\n",
    "pd.set_option('display.max_columns', 500)\n",
    "pd.set_option('display.width', 1000)\n",
    "pd.set_option('display.max_colwidth', 1000)\n",
    "\n",
    "#To make real independent copies of lists\n",
    "from copy import deepcopy"
   ]
  },
  {
   "cell_type": "markdown",
   "metadata": {},
   "source": [
    "## Directories"
   ]
  },
  {
   "cell_type": "code",
   "execution_count": 45,
   "metadata": {
    "scrolled": true
   },
   "outputs": [
    {
     "name": "stdout",
     "output_type": "stream",
     "text": [
      "/media/akiirikk/DATADRIVE1/tietokanta/temp/DATAbankTST/POPCcharmm\n",
      "/media/akiirikk/DATADRIVE1/tietokanta/MATCH/scripts/orderParm_defs/order_parameter_definitions_MODEL_CHARMM36_POPC.def\n"
     ]
    }
   ],
   "source": [
    "dir_wrk = os.path.normpath(dir_wrk)\n",
    "print(dir_wrk)\n",
    "def_file = os.path.normpath(def_file)\n",
    "print(def_file)"
   ]
  },
  {
   "cell_type": "markdown",
   "metadata": {},
   "source": [
    "## Check that the DOI link is valid"
   ]
  },
  {
   "cell_type": "code",
   "execution_count": 46,
   "metadata": {
    "scrolled": true
   },
   "outputs": [
    {
     "name": "stdout",
     "output_type": "stream",
     "text": [
      "https://doi.org/10.5281/zenodo.3474862\n",
      "Status of the DOI link: OK\n"
     ]
    }
   ],
   "source": [
    "DOI_url = 'https://doi.org/' + DOI\n",
    "print(DOI_url)\n",
    "\n",
    "try:\n",
    "    response = urllib.request.urlopen(DOI_url)\n",
    "    print(\"Status of the DOI link: {0}\".format(response.msg))\n",
    "except HTTPError as e:\n",
    "    print(DOI_url)\n",
    "    print('The server couldn\\'t fulfill the request.')\n",
    "    print('Error code: ', e.code)\n",
    "    user_information = \"\"\n",
    "    print('The code will not proceed, please fix DOI')\n",
    "except URLError as e:\n",
    "    print(DOI_url)\n",
    "    print('We failed to reach a server.')\n",
    "    print('Reason: ', e.reason)\n",
    "    user_information = \"\"\n",
    "    print('The code will not proceed, please fix DOI')\n",
    "else:\n",
    "    pass"
   ]
  },
  {
   "cell_type": "markdown",
   "metadata": {},
   "source": [
    "## Read input description"
   ]
  },
  {
   "cell_type": "code",
   "execution_count": 47,
   "metadata": {},
   "outputs": [
    {
     "name": "stdout",
     "output_type": "stream",
     "text": [
      "1\n",
      "[{'ID': 0, 'DOI': '10.5281/zenodo.3474862', 'SYSTEM': 'POPC_303K', 'SOFTWARE': 'gromacs', 'FF': 'CHARMM36', 'FF_SOURCE': 'CHARMM-GUI', 'FF_DATE': '??', 'TRJ': 'traj_comp.xtc', 'TPR': 'mdrun.tpr', 'INI': 'md_in.gro', 'POPC': 'POPC', 'POPG': 'POPG', 'POPS': 'POPS', 'POPE': 'POPE', 'POT': 'POT', 'SOD': 'SOD', 'CLA': 'CLA', 'CAL': 'CAL', 'TIP3': 'TIP3', 'NPOPC': '0', 'NPOPG': '0', 'NPOPS': '0', 'NPOPE': '0', 'NPOT': '0', 'NSOD': '0', 'NCLA': '0', 'NCAL': '0', 'NTIP3': '0', 'TEMPERATURE': '0'}]\n"
     ]
    }
   ],
   "source": [
    "bNMRLIPIDS = False #Check if the link contains NMRLIPIDS metadata\n",
    "nsims =0 # Counter number of simulations in a submission\n",
    "sims = [] #Array with the dictionary containing the information of a simulation\n",
    "\n",
    "for line in user_information.split(\"\\n\"):\n",
    "    if line.strip() == \"\":\n",
    "        continue\n",
    "    if \"#NMRLIPIDS BEGIN\" in line:\n",
    "        bNMRLIPIDS = True\n",
    "        continue\n",
    "    if \"#NMRLIPIDS END\" in line:\n",
    "        bNMRLIPIDS = False\n",
    "        continue\n",
    "    if \"@SIM\" in line:\n",
    "        #sims.append({\"ID\" : nsims, \"STATUS\" : 0})\n",
    "        sims.append({\"ID\" : nsims})\n",
    "        nsims += 1\n",
    "        sims[-1][\"DOI\"] = DOI\n",
    "        continue\n",
    "    if not bNMRLIPIDS:\n",
    "        continue\n",
    "    if line.strip()[0] == \"@\":\n",
    "        key, value = line.split(\"=\")\n",
    "        sims[-1][key.strip('@')] = value\n",
    "print(nsims)\n",
    "print(sims)      \n",
    "        "
   ]
  },
  {
   "cell_type": "markdown",
   "metadata": {},
   "source": [
    "### Dictionares"
   ]
  },
  {
   "cell_type": "code",
   "execution_count": 48,
   "metadata": {},
   "outputs": [
    {
     "name": "stdout",
     "output_type": "stream",
     "text": [
      "dict_keys(['GROMACS', 'AMBER', 'NAMD', 'CHARMM', 'OPENMM'])\n"
     ]
    }
   ],
   "source": [
    "#Molecules dictionary\n",
    "\n",
    "molecules_dict = {\n",
    "                'POPC' : {\"REQUIRED\": False,\n",
    "                             \"TYPE\": \"string\",\n",
    "                         },\n",
    "                'POPG' : {\"REQUIRED\": False,\n",
    "                            \"TYPE\" : \"string\",\n",
    "                        },\n",
    "                'POPS' : {\"REQUIRED\": False,\n",
    "                            \"TYPE\" : \"string\",\n",
    "                        },\n",
    "                'POPE' : {\"REQUIRED\": False,\n",
    "                            \"TYPE\" : \"string\",\n",
    "                        },\n",
    "                'POT' : {\"REQUIRED\": False,\n",
    "                            \"TYPE\" : \"string\",\n",
    "                        },\n",
    "                'SOD' : {\"REQUIRED\": False,\n",
    "                            \"TYPE\" : \"string\",\n",
    "                        },\n",
    "                'CLA' : {\"REQUIRED\": False,\n",
    "                            \"TYPE\" : \"string\",\n",
    "                        },\n",
    "                'CAL' : {\"REQUIRED\": False,\n",
    "                            \"TYPE\" : \"string\",\n",
    "                        },\n",
    "                'TIP3' : {\"REQUIRED\": False,\n",
    "                            \"TYPE\" : \"string\",\n",
    "                        },\n",
    "                }\n",
    "\n",
    "\n",
    "               \n",
    "molecule_numbers_dict = {\n",
    "                'NPOPC' : {\"REQUIRED\": False,\n",
    "                              \"TYPE\": \"integer\",\n",
    "                          },\n",
    "                'NPOPG' : {\"REQUIRED\": False,\n",
    "                            \"TYPE\" : \"integer\",\n",
    "                         },\n",
    "                'NPOPS' : {\"REQUIRED\": False,\n",
    "                            \"TYPE\" : \"integer\",\n",
    "                        },\n",
    "                'NPOPE' : {\"REQUIRED\": False,\n",
    "                            \"TYPE\" : \"integer\",\n",
    "                        },\n",
    "    \n",
    "               'NPOT' : {\"REQUIRED\": False,\n",
    "                            \"TYPE\" : \"integer\",\n",
    "                        },\n",
    "                'NSOD' : {\"REQUIRED\": False,\n",
    "                            \"TYPE\" : \"integer\",\n",
    "                        },\n",
    "                'NCLA' : {\"REQUIRED\": False,\n",
    "                            \"TYPE\" : \"integer\",\n",
    "                        },\n",
    "                'NCAL' : {\"REQUIRED\": False,\n",
    "                             \"TYPE\" : \"integer\",\n",
    "                         },\n",
    "                'NTIP3' : {\"REQIRED\": False,\n",
    "                            \"TYPE\" : \"integer\",\n",
    "                        },\n",
    "    \n",
    "                }\n",
    "               \n",
    "                \n",
    "                \n",
    "\n",
    "# Gromacs\n",
    "gromacs_dict = {\n",
    "               'INI' : {\"REQUIRED\": False,\n",
    "                        \"TYPE\" : \"files\",\n",
    "                        \"EXTENSION\" : (\"gro\", \"pdb\",),\n",
    "                       }, # Could be not needed in the future (tpr)\n",
    "               'MDP' : {\"REQUIRED\": False,\n",
    "                        \"TYPE\" : \"file\",\n",
    "                        \"EXTENSION\" : (\"mdp\",),\n",
    "                       }, # Could be not needed in the future (tpr)\n",
    "               'TRJ' : {\"REQUIRED\": True,\n",
    "                        \"TYPE\" : \"files\",\n",
    "                        \"EXTENSION\" : (\"xtc\",\"trr\",),\n",
    "                       },\n",
    "               'TPR' : {\"REQUIRED\": True,\n",
    "                        \"TYPE\" : \"file\",\n",
    "                        \"EXTENSION\" : (\"tpr\",),\n",
    "                       },\n",
    "               'CPT' : {\"REQUIRED\": False,\n",
    "                        \"TYPE\" : \"file\",\n",
    "                        \"EXTENSION\" : (\"cpt\",),\n",
    "                       },\n",
    "               'TOP' : {\"REQUIRED\": False,\n",
    "                        \"TYPE\" : \"file\",\n",
    "                        \"EXTENSION\" : (\"top\",),\n",
    "                       },\n",
    "               'ITP' : {\"REQUIRED\": False,\n",
    "                        \"TYPE\" : \"files\",\n",
    "                        \"EXTENSION\" : (\"itp\",),\n",
    "                       },\n",
    "               'FF'  : {\"REQUIRED\": False,\n",
    "                        \"TYPE\" : \"string\",\n",
    "                       },\n",
    "               'FF_SOURCE' : {\"REQUIRED\": False,\n",
    "                              \"TYPE\" : \"string\",\n",
    "                              },\n",
    "               'FF_DATE' : {\"REQUIRED\": False,\n",
    "                            \"TYPE\" : \"date\",\n",
    "                           },\n",
    "               'DOI' : {\"REQUIRED\": True,\n",
    "                            \"TYPE\" : \"string\",\n",
    "                           },\n",
    "    \n",
    "               'SYSTEM' : {\"REQUIRED\": True,\n",
    "                            \"TYPE\" : \"string\",\n",
    "                           },\n",
    "            'TEMPERATURE' : {\"REQUIRED\": False,\n",
    "                            \"TYPE\" : \"integer\",\n",
    "                            },\n",
    "              \n",
    "               }\n",
    "\n",
    "# Amber\n",
    "amber_dict = {}\n",
    "\n",
    "# NAMD\n",
    "namd_dict = {   \n",
    "            'TRJ' : { \"REQUIRED\": True,\n",
    "                      \"TYPE\": \"files\",\n",
    "                      \"EXTENSION\": (\"dcd\"),\n",
    "                    },\n",
    "            'INP' : { \"REQUIRED\": False,\n",
    "                      \"TYPE\": \"file\",\n",
    "                      \"EXTENSION\": (\".inp\"),\n",
    "                    },\n",
    "            'LOG' : { \"REQUIRED\": False,\n",
    "                      \"TYPE\": \"files\",\n",
    "                      \"EXTENSION\": (\"log\"),\n",
    "                      # can be parsed to get software version etc.\n",
    "                    },\n",
    "            'PSF' : { \"REQUIRED\": False,\n",
    "                      \"TYPE\": \"file\",\n",
    "                      \"EXTENSION\": (\"psf\"),\n",
    "                    },\n",
    "            'FF'  :  { \"REQUIRED\": False,\n",
    "                      \"TYPE\" : \"string\",\n",
    "                    },\n",
    "            'FF_SOURCE' : {\"REQUIRED\": False,\n",
    "                           \"TYPE\" : \"string\",\n",
    "                              },\n",
    "            'FF_DATE' : {\"REQUIRED\": False,\n",
    "                         \"TYPE\" : \"date\",\n",
    "                        },\n",
    "            'PDB'  : { \"REQUIRED\": True,\n",
    "                    \"TYPE\": \"file\",\n",
    "                    \"EXTENSION\": \"pdb\",}\n",
    "               }\n",
    "          \n",
    "# CHARMM\n",
    "charmm_dict = {}\n",
    "\n",
    "# OPENMM\n",
    "openmm_dict = {}\n",
    "\n",
    "# SOFTWARE\n",
    "software_dict = {\n",
    "                \"GROMACS\" : gromacs_dict, \n",
    "                \"AMBER\"   : amber_dict,\n",
    "                \"NAMD\"    : namd_dict,\n",
    "                \"CHARMM\"  : charmm_dict,\n",
    "                \"OPENMM\"  : openmm_dict,\n",
    "                }\n",
    "\n",
    "print(software_dict.keys())"
   ]
  },
  {
   "cell_type": "markdown",
   "metadata": {},
   "source": [
    "### Check software used by the simulation"
   ]
  },
  {
   "cell_type": "code",
   "execution_count": 49,
   "metadata": {},
   "outputs": [
    {
     "name": "stdout",
     "output_type": "stream",
     "text": [
      "Simulation 0 uses supported software GROMACS and will be further processed\n"
     ]
    }
   ],
   "source": [
    "sims_valid_software = []\n",
    "for sim in sims:\n",
    "    if sim['SOFTWARE'].upper() in software_dict.keys():\n",
    "        msg_info = \"Simulation {0} uses supported software {1} and will be further processed\"\n",
    "        print (msg_info.format(sim['ID'], sim['SOFTWARE'].upper()))\n",
    "        sims_valid_software.append(sim.copy())\n",
    "    else:\n",
    "        msg_err=\"Simulation {0} performed in an UNSUPPORTED software {1} and will NOT be further processed\"\n",
    "        print(msg_err.format(sim[\"ID\"], sim[\"SOFTWARE\"].upper()))\n",
    "#print(sims_valid_software) "
   ]
  },
  {
   "cell_type": "markdown",
   "metadata": {},
   "source": [
    "### Check that all entry keys provided for each simulation are valid:"
   ]
  },
  {
   "cell_type": "code",
   "execution_count": 50,
   "metadata": {},
   "outputs": [
    {
     "name": "stdout",
     "output_type": "stream",
     "text": [
      "dict_items([('ID', 0), ('DOI', '10.5281/zenodo.3474862'), ('SYSTEM', 'POPC_303K'), ('SOFTWARE', 'gromacs'), ('FF', 'CHARMM36'), ('FF_SOURCE', 'CHARMM-GUI'), ('FF_DATE', '??'), ('TRJ', 'traj_comp.xtc'), ('TPR', 'mdrun.tpr'), ('INI', 'md_in.gro'), ('POPC', 'POPC'), ('POPG', 'POPG'), ('POPS', 'POPS'), ('POPE', 'POPE'), ('POT', 'POT'), ('SOD', 'SOD'), ('CLA', 'CLA'), ('CAL', 'CAL'), ('TIP3', 'TIP3'), ('NPOPC', '0'), ('NPOPG', '0'), ('NPOPS', '0'), ('NPOPE', '0'), ('NPOT', '0'), ('NSOD', '0'), ('NCLA', '0'), ('NCAL', '0'), ('NTIP3', '0'), ('TEMPERATURE', '0')])\n",
      "All entries in simulation 0 are understood and will be further processed\n",
      "\n"
     ]
    }
   ],
   "source": [
    "sims_valid_entries = []\n",
    "for sim in sims_valid_software:\n",
    "    #print(\"ID {0}\".format(sim[\"ID\"]))\n",
    "    wrong_key_entries = 0\n",
    "    software_dict_name = \"{0}_dict\".format(sim['SOFTWARE'].lower())\n",
    "    print(sim.items())\n",
    "    for key_sim, value_sim in sim.items():\n",
    "        #print(key_sim, value_sim)\n",
    "        #print(key_sim.upper())\n",
    "        if key_sim.upper() in (\"ID\", \"SOFTWARE\"):\n",
    "            #print(\"NOT REQUIRED\")\n",
    "            continue\n",
    "    #Anne: check if key is in molecules_dict or molecule_numbers_dict too\n",
    "        if key_sim.upper() not in software_dict[sim['SOFTWARE'].upper()].keys() and key_sim.upper() not in molecules_dict.keys() and key_sim.upper() not in molecule_numbers_dict:\n",
    "            print (\"{0} NOT in {1}\".format(key_sim, software_dict_name))\n",
    "            wrong_key_entries += 1\n",
    "    if wrong_key_entries:\n",
    "        print(\"Simulation {0} has {1} unknown entry/ies and won't be longer considered, please correct.\\n\".format(sim['ID'],wrong_key_entries))\n",
    "    else:\n",
    "        msg_info = \"All entries in simulation {0} are understood and will be further processed\\n\"\n",
    "        print (msg_info.format(sim['ID']))\n",
    "        sims_valid_entries.append(sim.copy())\n",
    "#print(sims_valid_entries)"
   ]
  },
  {
   "cell_type": "markdown",
   "metadata": {},
   "source": [
    "### Process entries with files information to contain file names in arrays"
   ]
  },
  {
   "cell_type": "code",
   "execution_count": 51,
   "metadata": {},
   "outputs": [
    {
     "name": "stdout",
     "output_type": "stream",
     "text": [
      "ID 0\n",
      "traj_comp.xtc added to list\n",
      "mdrun.tpr added to list\n",
      "md_in.gro added to list\n"
     ]
    }
   ],
   "source": [
    "sims_files_to_array = deepcopy(sims_valid_entries)\n",
    "\n",
    "for sim in sims_files_to_array:\n",
    "    print(\"ID {0}\".format(sim[\"ID\"]), flush=True)\n",
    "    software_sim = software_dict[sim['SOFTWARE'].upper()]\n",
    "    for key_sim, value_sim in sim.items():\n",
    "        try:\n",
    "            entry_type = software_sim[key_sim]['TYPE']\n",
    "            if \"file\" in entry_type:\n",
    "                if isinstance(value_sim, list): continue  \n",
    "                files_list = []\n",
    "                print(\"{0} added to list\".format(value_sim))\n",
    "                # Place filenames into arrays\n",
    "                for file_provided in value_sim.split(\";\"):\n",
    "                    files_list.append([file_provided.strip()])\n",
    "                sim[key_sim] = files_list\n",
    "        except: #It is notmal that fails for \"ID\" and \"SOFTWARE\"\n",
    "            continue\n",
    "#print(sims_files_to_array)\n",
    "#print(sims_valid_entries)"
   ]
  },
  {
   "cell_type": "markdown",
   "metadata": {},
   "source": [
    "### Check for multiple files in entries that can only contain one"
   ]
  },
  {
   "cell_type": "code",
   "execution_count": 52,
   "metadata": {},
   "outputs": [
    {
     "name": "stdout",
     "output_type": "stream",
     "text": [
      "ID 0\n"
     ]
    }
   ],
   "source": [
    "sims_valid_file_entries = []\n",
    "for sim in sims_files_to_array:\n",
    "    print(\"ID {0}\".format(sim[\"ID\"]), flush=True)\n",
    "    files_issues = 0\n",
    "    software_sim = software_dict[sim['SOFTWARE'].upper()]\n",
    "    for key_sim, value_sim in sim.items():\n",
    "        try:\n",
    "            entry_type = software_sim[key_sim]['TYPE']\n",
    "            if entry_type == \"file\"  and len(value_sim) > 1:\n",
    "                print(\"Multiple values found in {0} and only one allowed (Please correct):\\n {1}\".format(key_sim,value_sim))\n",
    "                files_issues += 1\n",
    "        except: #It is notmal that fails for \"ID\" and \"SOFTWARE\"\n",
    "            continue\n",
    "    if files_issues:\n",
    "        print(\"Sim {0} will be no longer processed\".format(sim[\"ID\"]))\n",
    "    else:\n",
    "        sims_valid_file_entries.append(sim.copy())\n",
    "#print(sims_valid_file_entries)"
   ]
  },
  {
   "cell_type": "markdown",
   "metadata": {},
   "source": [
    "### Check if the submitted simulation has rssion has all required files and information"
   ]
  },
  {
   "cell_type": "code",
   "execution_count": 53,
   "metadata": {},
   "outputs": [
    {
     "name": "stdout",
     "output_type": "stream",
     "text": [
      "ID 0\n",
      "All required entries present.\n",
      "\n"
     ]
    }
   ],
   "source": [
    "sims_required_entries = []\n",
    "for sim in sims_valid_file_entries:\n",
    "    print(\"ID {0}\".format(sim[\"ID\"]))\n",
    "    missing_required_keys = 0\n",
    "    for key, value in software_dict[sim['SOFTWARE'].upper()].items():\n",
    "        if value[\"REQUIRED\"]:\n",
    "            try:\n",
    "                sim[key]\n",
    "            except:\n",
    "                print(\"Entry not found: {0} {1}\".format(key, value))\n",
    "                missing_required_keys += 1\n",
    "    if missing_required_keys:\n",
    "        print(\"{0} missing required entry/ies, please correct.\".format(missing_required_keys))\n",
    "        print(\"Entry with ID={0} will not be further processed.\\n\".format(sim[\"ID\"]))\n",
    "    else:\n",
    "        print(\"All required entries present.\\n\")\n",
    "        sims_required_entries.append(sim.copy())"
   ]
  },
  {
   "cell_type": "markdown",
   "metadata": {},
   "source": [
    "### Check status links"
   ]
  },
  {
   "cell_type": "code",
   "execution_count": 54,
   "metadata": {},
   "outputs": [],
   "source": [
    "# Download link\n",
    "def download_link(doi, file):\n",
    "    if \"zenodo\" in doi.lower():\n",
    "        zenodo_entry_number = doi.split(\".\")[2]\n",
    "        return 'https://zenodo.org/record/' + zenodo_entry_number + '/files/' + file\n",
    "    else:\n",
    "        print (\"DOI provided: {0}\".format(doi))\n",
    "        print (\"Repository not validated. Please upload the data for example to zenodo.org\")\n",
    "        return \"\""
   ]
  },
  {
   "cell_type": "code",
   "execution_count": 55,
   "metadata": {},
   "outputs": [
    {
     "name": "stdout",
     "output_type": "stream",
     "text": [
      "ID 0\n",
      "All links work.\n",
      "\n"
     ]
    }
   ],
   "source": [
    "#print(sims_required_entries)\n",
    "sims_working_links = []         \n",
    "for sim in sims_required_entries:\n",
    "    print(\"ID {0}\".format(sim[\"ID\"]))\n",
    "    wrong_links = 0\n",
    "    software_sim = software_dict[sim['SOFTWARE'].upper()]\n",
    "    for key_sim, value_sim in sim.items():\n",
    "        #print(\"key_sim = {0} => value_sim = {1}\".format(key_sim, value_sim))\n",
    "        try:\n",
    "            entry_type = software_sim[key_sim]['TYPE']\n",
    "            #print(\"entry_type = {0}\".format(entry_type))\n",
    "            if \"file\" in entry_type:\n",
    "                for file_provided in value_sim:\n",
    "                    #print(\"File={0}\".format(file_provided[0]))\n",
    "                    file_url = download_link(DOI, file_provided[0])\n",
    "                    if file_url == \"\":\n",
    "                        wrong_links += 1\n",
    "                        continue\n",
    "                    try:\n",
    "                        response = urllib.request.urlopen(file_url)\n",
    "                        #print(\"Status of the DOI link: {0}\".format(response.msg))\n",
    "                    except HTTPError as e:\n",
    "                        print(\"\\nkey={0} => file={1}\".format(key_sim, file_provided[0]))\n",
    "                        print(file_url)\n",
    "                        print('The server couldn\\'t fulfill the request.')\n",
    "                        print('Error code: ', e.code)\n",
    "                        wrong_links += 1\n",
    "                    except URLError as e:\n",
    "                        print(key_sim, file_provided[0])\n",
    "                        print(file_url)\n",
    "                        print('We failed to reach a server.')\n",
    "                        print('Reason: ', e.reason)\n",
    "                        wrong_links += 1\n",
    "                    else:\n",
    "                        pass\n",
    "        except: #It is notmal that fails for \"ID\" and \"SOFTWARE\"\n",
    "            continue\n",
    "    if wrong_links:\n",
    "        print(\"{0} link/s failed, please correct.\".format(wrong_links))\n",
    "        print(\"Sim={0} will not be further processed.\\n\".format(sim[\"ID\"]))\n",
    "    else:\n",
    "        print(\"All links work.\\n\")\n",
    "        sims_working_links.append(sim.copy())\n",
    "#print(sims_working_links)"
   ]
  },
  {
   "cell_type": "markdown",
   "metadata": {},
   "source": [
    "## Download files from links"
   ]
  },
  {
   "cell_type": "code",
   "execution_count": 56,
   "metadata": {},
   "outputs": [
    {
     "name": "stdout",
     "output_type": "stream",
     "text": [
      "ID 0\n"
     ]
    },
    {
     "name": "stderr",
     "output_type": "stream",
     "text": [
      "TRJ: 100%|██████████| 1/1 [00:00<00:00, 3379.78it/s]\n",
      "TPR: 100%|██████████| 1/1 [00:00<00:00, 3653.57it/s]\n",
      "INI: 100%|██████████| 1/1 [00:00<00:00, 2937.19it/s]\n"
     ]
    }
   ],
   "source": [
    "# Create temporary directory where to download files and analyze them\n",
    "dir_tmp = os.path.join(dir_wrk, \"tmp/\")\n",
    "if (not os.path.isdir(dir_tmp)): os.mkdir(dir_tmp)\n",
    "\n",
    "for sim in sims_working_links:\n",
    "    print(\"ID {0}\".format(sim[\"ID\"]), flush=True)\n",
    "    software_sim = software_dict[sim['SOFTWARE'].upper()]\n",
    "    dir_sim = os.path.join(dir_tmp, str(sim[\"ID\"]))\n",
    "    if (not os.path.isdir(dir_sim)): os.mkdir(dir_sim)\n",
    "    for key_sim, value_sim in sim.items():\n",
    "        #print(\"key_sim = {0} => value_sim = {1}\".format(key_sim, value_sim))\n",
    "        try:\n",
    "            entry_type = software_sim[key_sim]['TYPE']\n",
    "            #print(\"entry_type = {0}\".format(entry_type))\n",
    "            if \"file\" in entry_type:\n",
    "                for file_provided in tqdm(value_sim, desc = key_sim):\n",
    "                    file_url = download_link(DOI, file_provided[0])\n",
    "                    file_name = os.path.join(dir_sim, file_provided[0])\n",
    "                    if (not os.path.isfile(file_name)):\n",
    "                        response = urllib.request.urlretrieve(file_url, file_name)\n",
    "        except: #It is normal that fails for \"ID\" and \"SOFTWARE\"\n",
    "            continue\n",
    "            "
   ]
  },
  {
   "cell_type": "markdown",
   "metadata": {},
   "source": [
    "## Calculate hash downloaded files"
   ]
  },
  {
   "cell_type": "code",
   "execution_count": 57,
   "metadata": {},
   "outputs": [
    {
     "name": "stdout",
     "output_type": "stream",
     "text": [
      "ID 0\n",
      "            NAME TYPE REQUIRED                                      HASH\n",
      "0  traj_comp.xtc  TRJ     True  a1aab97953907b5e9a984601f39ada43907dd145\n",
      "1      mdrun.tpr  TPR     True  a1aab97953907b5e9a984601f39ada43907dd145\n",
      "2      md_in.gro  INI    False  f72f60fedf615ca98ce772c972c6d977474cdd0b\n",
      "\n",
      "['a1aab97953907b5e9a984601f39ada43907dd145', 'a1aab97953907b5e9a984601f39ada43907dd145']\n",
      "\n",
      "[{'ID': 0, 'DOI': '10.5281/zenodo.3474862', 'SYSTEM': 'POPC_303K', 'SOFTWARE': 'gromacs', 'FF': 'CHARMM36', 'FF_SOURCE': 'CHARMM-GUI', 'FF_DATE': '??', 'TRJ': [['traj_comp.xtc', 'a1aab97953907b5e9a984601f39ada43907dd145']], 'TPR': [['mdrun.tpr', 'a1aab97953907b5e9a984601f39ada43907dd145']], 'INI': [['md_in.gro', 'f72f60fedf615ca98ce772c972c6d977474cdd0b']], 'POPC': 'POPC', 'POPG': 'POPG', 'POPS': 'POPS', 'POPE': 'POPE', 'POT': 'POT', 'SOD': 'SOD', 'CLA': 'CLA', 'CAL': 'CAL', 'TIP3': 'TIP3', 'NPOPC': '0', 'NPOPG': '0', 'NPOPS': '0', 'NPOPE': '0', 'NPOT': '0', 'NSOD': '0', 'NCLA': '0', 'NCAL': '0', 'NTIP3': '0', 'TEMPERATURE': '0'}]\n"
     ]
    }
   ],
   "source": [
    "dir_tmp = os.path.join(dir_wrk, \"tmp/\")\n",
    "sims_hashes = deepcopy(sims_working_links)\n",
    "\n",
    "for sim in sims_hashes:\n",
    "    print(\"ID {0}\".format(sim[\"ID\"]), flush=True)\n",
    "    software_sim = software_dict[sim['SOFTWARE'].upper()]\n",
    "    dir_sim = os.path.join(dir_tmp, str(sim[\"ID\"]))\n",
    "    \n",
    "    #list_containing the sha1 sums for all required files\n",
    "    sha1_list_requied = []\n",
    "    \n",
    "    # Make empty dataframe with the desired columns\n",
    "    df_files = pd.DataFrame(columns=['NAME','TYPE','REQUIRED','HASH'])\n",
    "    \n",
    "    for key_sim, value_sim in sim.items():\n",
    "        #print(\"key_sim = {0} => value_sim = {1}\".format(key_sim, value_sim))\n",
    "        try:\n",
    "            entry_type = software_sim[key_sim]['TYPE']\n",
    "            #print(\"entry_type = {0}\".format(entry_type))\n",
    "            if \"file\" in entry_type:\n",
    "                files_list = []\n",
    "                for file_provided in value_sim:\n",
    "                    file_name = os.path.join(dir_sim, file_provided[0])\n",
    "                    sha1_hash = hashlib.sha1()\n",
    "                    with open(file_name,\"rb\") as f:\n",
    "                        # Read and update hash string value in blocks of 4K\n",
    "                        for byte_block in iter(lambda: f.read(4096),b\"\"):\n",
    "                            sha1_hash.update(byte_block)\n",
    "                        #print(file_provided, sha256_hash.hexdigest())\n",
    "                        df_files = df_files.append({\n",
    "                            \"NAME\":file_provided[0],\n",
    "                            \"TYPE\":key_sim,\n",
    "                            \"REQUIRED\": software_dict[sim['SOFTWARE'].upper()][key_sim]['REQUIRED'],\n",
    "                            \"HASH\":sha1_hash.hexdigest(),\n",
    "                        }, ignore_index=True)\n",
    "                    files_list.append([file_provided[0], sha1_hash.hexdigest()])\n",
    "                #Find the keys of the required files to calculate the master_hash \n",
    "                if software_dict[sim['SOFTWARE'].upper()][key_sim]['REQUIRED'] == True:\n",
    "                    sha1_list_requied.append(sha1_hash.hexdigest())\n",
    "                sim[key_sim] = files_list #Problematic\n",
    "        except: #It is notmal that fails for \"ID\" and \"SOFTWARE\"\n",
    "            continue\n",
    "    print(df_files)\n",
    "    print(\"\\n{0}\\n\".format(sha1_list_requied))      \n",
    "    # Calculate the hash of a file contaning the hashes of each of the required files\n",
    "    # This should be always invariant as it will be used unique identifier for a simualtion\n",
    "    # Note order the hashes of the required files before calculating the hash (That means that the required files cannot change)\n",
    "print(sims_hashes)"
   ]
  },
  {
   "cell_type": "code",
   "execution_count": 58,
   "metadata": {
    "scrolled": true
   },
   "outputs": [
    {
     "data": {
      "text/plain": [
       "\"[{'ID': 0, 'DOI': '10.5281/zenodo.3474862', 'SYSTEM': 'POPC_303K', 'SOFTWARE': 'gromacs', 'FF': 'CHARMM36', 'FF_SOURCE': 'CHARMM-GUI', 'FF_DATE': '??', 'TRJ': [['traj_comp.xtc']], 'TPR': [['mdrun.tpr']], 'INI': [['md_in.gro']], 'POPC': 'POPC', 'POPG': 'POPG', 'POPS': 'POPS', 'POPE': 'POPE', 'POT': 'POT', 'SOD': 'SOD', 'CLA': 'CLA', 'CAL': 'CAL', 'TIP3': 'TIP3', 'NPOPC': '0', 'NPOPG': '0', 'NPOPS': '0', 'NPOPE': '0', 'NPOT': '0', 'NSOD': '0', 'NCLA': '0', 'NCAL': '0', 'NTIP3': '0', 'TEMPERATURE': '0'}]\""
      ]
     },
     "execution_count": 58,
     "metadata": {},
     "output_type": "execute_result"
    }
   ],
   "source": [
    "str(sims_working_links)"
   ]
  },
  {
   "cell_type": "code",
   "execution_count": 59,
   "metadata": {},
   "outputs": [
    {
     "name": "stdout",
     "output_type": "stream",
     "text": [
      "POPC\n",
      "128\n",
      "POPG\n",
      "0\n",
      "POPS\n",
      "0\n",
      "POPE\n",
      "0\n",
      "POT\n",
      "0\n",
      "SOD\n",
      "0\n",
      "CLA\n",
      "0\n",
      "CAL\n",
      "0\n",
      "TIP3\n",
      "5120\n"
     ]
    }
   ],
   "source": [
    "#Anne:Read molecule numbers from tpr or gro file.\n",
    "import MDAnalysis\n",
    "from MDAnalysis import Universe\n",
    "    \n",
    "for sim in sims_working_links :\n",
    "    ID = sim.get('ID')\n",
    "    tpr = str(sim.get('TPR')).translate({ord(c): None for c in \"'][\"})\n",
    "    gro = str(sim.get('INI')).translate({ord(c): None for c in \"'][\"})\n",
    "    tpr_path = str(dir_wrk) + '/tmp/' + str(ID) + '/' + tpr\n",
    "    gro_path = str(dir_wrk) + '/tmp/' + str(ID) + '/' + gro\n",
    "  \n",
    "    try:\n",
    "        u = Universe(tpr_path)\n",
    "    except OSError:\n",
    "        u = Universe(gro_path)\n",
    "       \n",
    "    for key_mol in molecules_dict:\n",
    "\n",
    "        print(key_mol)\n",
    "        print(u.select_atoms(\"resname \" + key_mol).n_residues)\n",
    "        x = 'N' + key_mol\n",
    "        sim[x] = u.select_atoms(\"resname \" + key_mol).n_residues\n",
    "       \n"
   ]
  },
  {
   "cell_type": "code",
   "execution_count": 60,
   "metadata": {},
   "outputs": [
    {
     "name": "stdout",
     "output_type": "stream",
     "text": [
      "                        :-) GROMACS - gmx dump, 2020 (-:\n",
      "\n",
      "                            GROMACS is written by:\n",
      "     Emile Apol      Rossen Apostolov      Paul Bauer     Herman J.C. Berendsen\n",
      "    Par Bjelkmar      Christian Blau   Viacheslav Bolnykh     Kevin Boyd    \n",
      " Aldert van Buuren   Rudi van Drunen     Anton Feenstra       Alan Gray     \n",
      "  Gerrit Groenhof     Anca Hamuraru    Vincent Hindriksen  M. Eric Irrgang  \n",
      "  Aleksei Iupinov   Christoph Junghans     Joe Jordan     Dimitrios Karkoulis\n",
      "    Peter Kasson        Jiri Kraus      Carsten Kutzner      Per Larsson    \n",
      "  Justin A. Lemkul    Viveca Lindahl    Magnus Lundborg     Erik Marklund   \n",
      "    Pascal Merz     Pieter Meulenhoff    Teemu Murtola       Szilard Pall   \n",
      "    Sander Pronk      Roland Schulz      Michael Shirts    Alexey Shvetsov  \n",
      "   Alfons Sijbers     Peter Tieleman      Jon Vincent      Teemu Virolainen \n",
      " Christian Wennberg    Maarten Wolf      Artem Zhmurov   \n",
      "                           and the project leaders:\n",
      "        Mark Abraham, Berk Hess, Erik Lindahl, and David van der Spoel\n",
      "\n",
      "Copyright (c) 1991-2000, University of Groningen, The Netherlands.\n",
      "Copyright (c) 2001-2019, The GROMACS development team at\n",
      "Uppsala University, Stockholm University and\n",
      "the Royal Institute of Technology, Sweden.\n",
      "check out http://www.gromacs.org for more information.\n",
      "\n",
      "GROMACS is free software; you can redistribute it and/or modify it\n",
      "under the terms of the GNU Lesser General Public License\n",
      "as published by the Free Software Foundation; either version 2.1\n",
      "of the License, or (at your option) any later version.\n",
      "\n",
      "GROMACS:      gmx dump, version 2020\n",
      "Executable:   /usr/local/gromacs/bin/gmx\n",
      "Data prefix:  /usr/local/gromacs\n",
      "Working dir:  /media/akiirikk/DATADRIVE1/tietokanta/NMRlipidsIVPEandPG/scripts\n",
      "Command line:\n",
      "  gmx dump -s /media/akiirikk/DATADRIVE1/tietokanta/temp/DATAbankTST/POPCcharmm/tmp/0/mdrun.tpr\n",
      "\n",
      "\n",
      "-------------------------------------------------------\n",
      "Program:     gmx dump, version 2020\n",
      "Source file: src/gromacs/fileio/tpxio.cpp (line 2627)\n",
      "\n",
      "Fatal error:\n",
      "Can not read file\n",
      "/media/akiirikk/DATADRIVE1/tietokanta/temp/DATAbankTST/POPCcharmm/tmp/0/mdrun.tpr,\n",
      "             this file is from a GROMACS version which is older than 2.0\n",
      "             Make a new one with grompp or use a gro or pdb file, if possible\n",
      "\n",
      "For more information and tips for troubleshooting, please check the GROMACS\n",
      "website at http://www.gromacs.org/Documentation/Errors\n",
      "-------------------------------------------------------\n",
      "{'ID': 0, 'DOI': '10.5281/zenodo.3474862', 'SYSTEM': 'POPC_303K', 'SOFTWARE': 'gromacs', 'FF': 'CHARMM36', 'FF_SOURCE': 'CHARMM-GUI', 'FF_DATE': '??', 'TRJ': [['traj_comp.xtc']], 'TPR': [['mdrun.tpr']], 'INI': [['md_in.gro']], 'POPC': 'POPC', 'POPG': 'POPG', 'POPS': 'POPS', 'POPE': 'POPE', 'POT': 'POT', 'SOD': 'SOD', 'CLA': 'CLA', 'CAL': 'CAL', 'TIP3': 'TIP3', 'NPOPC': 128, 'NPOPG': 0, 'NPOPS': 0, 'NPOPE': 0, 'NPOT': 0, 'NSOD': 0, 'NCLA': 0, 'NCAL': 0, 'NTIP3': 5120, 'TEMPERATURE': '0'}\n"
     ]
    }
   ],
   "source": [
    "#Anne: Read temperature and other information from tpr file\n",
    "import re\n",
    "\n",
    "for sim in sims_working_links :\n",
    "    ID = sim.get('ID')\n",
    "    tpr = str(sim.get('TPR')).translate({ord(c): None for c in \"'][\"})\n",
    "    tpr_path = str(dir_wrk) + '/tmp/' + str(ID) + '/' + tpr\n",
    "    \n",
    "    !echo System | gmx dump -s {tpr_path} > tpr.txt\n",
    "    \n",
    "    file1 = str(dir_wrk) + '/tmp/' + str(ID) + '/tpr.txt'\n",
    "    \n",
    "    with open(\"tpr.txt\", 'rt') as tpr_info:\n",
    "        for line in tpr_info:\n",
    "            if 'ref-t' in line:\n",
    "                sim['TEMPERATURE']=line.split()[1]\n",
    "    print(sim)"
   ]
  },
  {
   "cell_type": "markdown",
   "metadata": {},
   "source": [
    "# Save to databank"
   ]
  },
  {
   "cell_type": "code",
   "execution_count": 61,
   "metadata": {},
   "outputs": [
    {
     "name": "stdout",
     "output_type": "stream",
     "text": [
      "mkdir: cannot create directory ‘../Data/’: File exists\n",
      "mkdir: cannot create directory ‘../Data/Simulations’: File exists\n",
      "mkdir: cannot create directory ‘../Data/Simulations/a1a’: File exists\n",
      "mkdir: cannot create directory ‘../Data/Simulations/a1a/ab9’: File exists\n",
      "mkdir: cannot create directory ‘../Data/Simulations/a1a/ab9/a1aab97953907b5e9a984601f39ada43907dd145’: File exists\n",
      "mkdir: cannot create directory ‘../Data/Simulations/a1a/ab9/a1aab97953907b5e9a984601f39ada43907dd145/a1aab97953907b5e9a984601f39ada43907dd145’: File exists\n"
     ]
    }
   ],
   "source": [
    "import json\n",
    "\n",
    "data_directory = {}\n",
    "for sim in sims_working_links:\n",
    "    ID=sim.get('ID')\n",
    "    # Batuhan: Creating a nested directory structure as discussed on the Issue here https://github.com/NMRLipids/NMRlipidsVIpolarizableFFs/issues/3\n",
    "    \n",
    "    head_dir = sims_hashes[ID].get('TPR')[0][1][0:3]\n",
    "    sub_dir1 = sims_hashes[ID].get('TPR')[0][1][3:6]\n",
    "    sub_dir2 = sims_hashes[ID].get('TPR')[0][1]\n",
    "    sub_dir3 = sims_hashes[ID].get('TRJ')[0][1]\n",
    "    \n",
    "    !mkdir {'../Data/'}\n",
    "    !mkdir {'../Data/Simulations'}\n",
    "    \n",
    "    !mkdir {'../Data/Simulations/' + str(head_dir)}\n",
    "    !mkdir {'../Data/Simulations/' + str(head_dir) + '/' + str(sub_dir1)}\n",
    "    !mkdir {'../Data/Simulations/' + str(head_dir) + '/' + str(sub_dir1) + '/' + str(sub_dir2)}\n",
    "    !mkdir {'../Data/Simulations/' + str(head_dir) + '/' + str(sub_dir1) + '/' + str(sub_dir2) + '/' + str(sub_dir3)}\n",
    "    \n",
    "    DATAdir = '../Data/Simulations/' + str(head_dir) + '/' + str(sub_dir1) + '/' + str(sub_dir2) + '/' + str(sub_dir3)\n",
    "    data_directory[str(ID)] = DATAdir\n",
    "    \n",
    "    # SAMULI: I am writin now in txt, but using json might be better in the future\n",
    "   # outfileDICT=open(str(DATAdir)+'/README.md','w')\n",
    "    outfileDICT=str(dir_wrk)+'/tmp/'+str(ID)+'/'+ 'README.json'\n",
    "    \n",
    "    with open(outfileDICT, 'w') as f:\n",
    "        json.dump(sim, f)\n",
    "   \n",
    "\n",
    "    !cp {str(dir_wrk)}'/tmp/'{str(ID)}'/README.json' {data_directory.get(str(ID))}  \n",
    "    #outfileDICT.write(str(sim))\n",
    "    #outfileDICT.close()\n",
    "   "
   ]
  },
  {
   "cell_type": "markdown",
   "metadata": {},
   "source": [
    "# Analysis starts here\n"
   ]
  },
  {
   "cell_type": "code",
   "execution_count": 62,
   "metadata": {},
   "outputs": [],
   "source": [
    "## First dowload packages and calculate the correlation functions using gromacs tools"
   ]
  },
  {
   "cell_type": "code",
   "execution_count": 63,
   "metadata": {
    "scrolled": false
   },
   "outputs": [
    {
     "name": "stdout",
     "output_type": "stream",
     "text": [
      "                      :-) GROMACS - gmx trjconv, 2020 (-:\n",
      "\n",
      "                            GROMACS is written by:\n",
      "     Emile Apol      Rossen Apostolov      Paul Bauer     Herman J.C. Berendsen\n",
      "    Par Bjelkmar      Christian Blau   Viacheslav Bolnykh     Kevin Boyd    \n",
      " Aldert van Buuren   Rudi van Drunen     Anton Feenstra       Alan Gray     \n",
      "  Gerrit Groenhof     Anca Hamuraru    Vincent Hindriksen  M. Eric Irrgang  \n",
      "  Aleksei Iupinov   Christoph Junghans     Joe Jordan     Dimitrios Karkoulis\n",
      "    Peter Kasson        Jiri Kraus      Carsten Kutzner      Per Larsson    \n",
      "  Justin A. Lemkul    Viveca Lindahl    Magnus Lundborg     Erik Marklund   \n",
      "    Pascal Merz     Pieter Meulenhoff    Teemu Murtola       Szilard Pall   \n",
      "    Sander Pronk      Roland Schulz      Michael Shirts    Alexey Shvetsov  \n",
      "   Alfons Sijbers     Peter Tieleman      Jon Vincent      Teemu Virolainen \n",
      " Christian Wennberg    Maarten Wolf      Artem Zhmurov   \n",
      "                           and the project leaders:\n",
      "        Mark Abraham, Berk Hess, Erik Lindahl, and David van der Spoel\n",
      "\n",
      "Copyright (c) 1991-2000, University of Groningen, The Netherlands.\n",
      "Copyright (c) 2001-2019, The GROMACS development team at\n",
      "Uppsala University, Stockholm University and\n",
      "the Royal Institute of Technology, Sweden.\n",
      "check out http://www.gromacs.org for more information.\n",
      "\n",
      "GROMACS is free software; you can redistribute it and/or modify it\n",
      "under the terms of the GNU Lesser General Public License\n",
      "as published by the Free Software Foundation; either version 2.1\n",
      "of the License, or (at your option) any later version.\n",
      "\n",
      "GROMACS:      gmx trjconv, version 2020\n",
      "Executable:   /usr/local/gromacs/bin/gmx\n",
      "Data prefix:  /usr/local/gromacs\n",
      "Working dir:  /media/akiirikk/DATADRIVE1/tietokanta/NMRlipidsIVPEandPG/scripts\n",
      "Command line:\n",
      "  gmx trjconv -f /media/akiirikk/DATADRIVE1/tietokanta/temp/DATAbankTST/POPCcharmm/tmp/0/traj_comp.xtc -s /media/akiirikk/DATADRIVE1/tietokanta/temp/DATAbankTST/POPCcharmm/tmp/0/mdrun.tpr -o /media/akiirikk/DATADRIVE1/tietokanta/temp/DATAbankTST/POPCcharmm/tmp/0/whole.xtc -pbc mol\n",
      "\n",
      "Note that major changes are planned in future for trjconv, to improve usability and utility.\n",
      "Will write xtc: Compressed trajectory (portable xdr format): xtc\n",
      "\n",
      "-------------------------------------------------------\n",
      "Program:     gmx trjconv, version 2020\n",
      "Source file: src/gromacs/fileio/tpxio.cpp (line 2627)\n",
      "\n",
      "Fatal error:\n",
      "Can not read file\n",
      "/media/akiirikk/DATADRIVE1/tietokanta/temp/DATAbankTST/POPCcharmm/tmp/0/mdrun.tpr,\n",
      "             this file is from a GROMACS version which is older than 2.0\n",
      "             Make a new one with grompp or use a gro or pdb file, if possible\n",
      "\n",
      "For more information and tips for troubleshooting, please check the GROMACS\n",
      "website at http://www.gromacs.org/Documentation/Errors\n",
      "-------------------------------------------------------\n",
      "Calculating order parameters\n"
     ]
    },
    {
     "ename": "OSError",
     "evalue": "Failed to load from the topology file /media/akiirikk/DATADRIVE1/tietokanta/temp/DATAbankTST/POPCcharmm/tmp/0/mdrun.tpr with parser <class 'MDAnalysis.topology.TPRParser.TPRParser'>.\nError: /media/akiirikk/DATADRIVE1/tietokanta/temp/DATAbankTST/POPCcharmm/tmp/0/mdrun.tpr: Invalid tpr file or cannot be recognized",
     "output_type": "error",
     "traceback": [
      "\u001b[0;31m---------------------------------------------------------------------------\u001b[0m",
      "\u001b[0;31mEOFError\u001b[0m                                  Traceback (most recent call last)",
      "\u001b[0;32m~/.local/lib/python3.7/site-packages/MDAnalysis/topology/TPRParser.py\u001b[0m in \u001b[0;36mparse\u001b[0;34m(self, **kwargs)\u001b[0m\n\u001b[1;32m    178\u001b[0m         \u001b[0;32mtry\u001b[0m\u001b[0;34m:\u001b[0m\u001b[0;34m\u001b[0m\u001b[0;34m\u001b[0m\u001b[0m\n\u001b[0;32m--> 179\u001b[0;31m             \u001b[0mth\u001b[0m \u001b[0;34m=\u001b[0m \u001b[0mtpr_utils\u001b[0m\u001b[0;34m.\u001b[0m\u001b[0mread_tpxheader\u001b[0m\u001b[0;34m(\u001b[0m\u001b[0mdata\u001b[0m\u001b[0;34m)\u001b[0m                    \u001b[0;31m# tpxheader\u001b[0m\u001b[0;34m\u001b[0m\u001b[0;34m\u001b[0m\u001b[0m\n\u001b[0m\u001b[1;32m    180\u001b[0m         \u001b[0;32mexcept\u001b[0m \u001b[0mEOFError\u001b[0m\u001b[0;34m:\u001b[0m\u001b[0;34m\u001b[0m\u001b[0;34m\u001b[0m\u001b[0m\n",
      "\u001b[0;32m~/.local/lib/python3.7/site-packages/MDAnalysis/topology/tpr/utils.py\u001b[0m in \u001b[0;36mread_tpxheader\u001b[0;34m(data)\u001b[0m\n\u001b[1;32m    134\u001b[0m     \u001b[0;31m# Last compatibility check with gromacs-2016\u001b[0m\u001b[0;34m\u001b[0m\u001b[0;34m\u001b[0m\u001b[0;34m\u001b[0m\u001b[0m\n\u001b[0;32m--> 135\u001b[0;31m     \u001b[0mver_str\u001b[0m \u001b[0;34m=\u001b[0m \u001b[0mdo_string\u001b[0m\u001b[0;34m(\u001b[0m\u001b[0mdata\u001b[0m\u001b[0;34m)\u001b[0m  \u001b[0;31m# version string e.g. VERSION 4.0.5\u001b[0m\u001b[0;34m\u001b[0m\u001b[0;34m\u001b[0m\u001b[0m\n\u001b[0m\u001b[1;32m    136\u001b[0m     \u001b[0mprecision\u001b[0m \u001b[0;34m=\u001b[0m \u001b[0mdata\u001b[0m\u001b[0;34m.\u001b[0m\u001b[0munpack_int\u001b[0m\u001b[0;34m(\u001b[0m\u001b[0;34m)\u001b[0m  \u001b[0;31m# e.g. 4\u001b[0m\u001b[0;34m\u001b[0m\u001b[0;34m\u001b[0m\u001b[0m\n",
      "\u001b[0;32m~/.local/lib/python3.7/site-packages/MDAnalysis/topology/tpr/utils.py\u001b[0m in \u001b[0;36mdo_string\u001b[0;34m(data)\u001b[0m\n\u001b[1;32m     86\u001b[0m     \u001b[0mdata\u001b[0m\u001b[0;34m.\u001b[0m\u001b[0munpack_int\u001b[0m\u001b[0;34m(\u001b[0m\u001b[0;34m)\u001b[0m\u001b[0;34m\u001b[0m\u001b[0;34m\u001b[0m\u001b[0m\n\u001b[0;32m---> 87\u001b[0;31m     \u001b[0;32mreturn\u001b[0m \u001b[0mdata\u001b[0m\u001b[0;34m.\u001b[0m\u001b[0munpack_string\u001b[0m\u001b[0;34m(\u001b[0m\u001b[0;34m)\u001b[0m\u001b[0;34m\u001b[0m\u001b[0;34m\u001b[0m\u001b[0m\n\u001b[0m\u001b[1;32m     88\u001b[0m \u001b[0;34m\u001b[0m\u001b[0m\n",
      "\u001b[0;32m~/anaconda3/lib/python3.7/xdrlib.py\u001b[0m in \u001b[0;36munpack_string\u001b[0;34m(self)\u001b[0m\n\u001b[1;32m    216\u001b[0m         \u001b[0mn\u001b[0m \u001b[0;34m=\u001b[0m \u001b[0mself\u001b[0m\u001b[0;34m.\u001b[0m\u001b[0munpack_uint\u001b[0m\u001b[0;34m(\u001b[0m\u001b[0;34m)\u001b[0m\u001b[0;34m\u001b[0m\u001b[0;34m\u001b[0m\u001b[0m\n\u001b[0;32m--> 217\u001b[0;31m         \u001b[0;32mreturn\u001b[0m \u001b[0mself\u001b[0m\u001b[0;34m.\u001b[0m\u001b[0munpack_fstring\u001b[0m\u001b[0;34m(\u001b[0m\u001b[0mn\u001b[0m\u001b[0;34m)\u001b[0m\u001b[0;34m\u001b[0m\u001b[0;34m\u001b[0m\u001b[0m\n\u001b[0m\u001b[1;32m    218\u001b[0m \u001b[0;34m\u001b[0m\u001b[0m\n",
      "\u001b[0;32m~/anaconda3/lib/python3.7/xdrlib.py\u001b[0m in \u001b[0;36munpack_fstring\u001b[0;34m(self, n)\u001b[0m\n\u001b[1;32m    208\u001b[0m         \u001b[0;32mif\u001b[0m \u001b[0mj\u001b[0m \u001b[0;34m>\u001b[0m \u001b[0mlen\u001b[0m\u001b[0;34m(\u001b[0m\u001b[0mself\u001b[0m\u001b[0;34m.\u001b[0m\u001b[0m__buf\u001b[0m\u001b[0;34m)\u001b[0m\u001b[0;34m:\u001b[0m\u001b[0;34m\u001b[0m\u001b[0;34m\u001b[0m\u001b[0m\n\u001b[0;32m--> 209\u001b[0;31m             \u001b[0;32mraise\u001b[0m \u001b[0mEOFError\u001b[0m\u001b[0;34m\u001b[0m\u001b[0;34m\u001b[0m\u001b[0m\n\u001b[0m\u001b[1;32m    210\u001b[0m         \u001b[0mself\u001b[0m\u001b[0;34m.\u001b[0m\u001b[0m__pos\u001b[0m \u001b[0;34m=\u001b[0m \u001b[0mj\u001b[0m\u001b[0;34m\u001b[0m\u001b[0;34m\u001b[0m\u001b[0m\n",
      "\u001b[0;31mEOFError\u001b[0m: ",
      "\nDuring handling of the above exception, another exception occurred:\n",
      "\u001b[0;31mOSError\u001b[0m                                   Traceback (most recent call last)",
      "\u001b[0;32m~/.local/lib/python3.7/site-packages/MDAnalysis/core/universe.py\u001b[0m in \u001b[0;36m__init__\u001b[0;34m(self, *args, **kwargs)\u001b[0m\n\u001b[1;32m    291\u001b[0m                     \u001b[0;32mwith\u001b[0m \u001b[0mparser\u001b[0m\u001b[0;34m(\u001b[0m\u001b[0mself\u001b[0m\u001b[0;34m.\u001b[0m\u001b[0mfilename\u001b[0m\u001b[0;34m)\u001b[0m \u001b[0;32mas\u001b[0m \u001b[0mp\u001b[0m\u001b[0;34m:\u001b[0m\u001b[0;34m\u001b[0m\u001b[0;34m\u001b[0m\u001b[0m\n\u001b[0;32m--> 292\u001b[0;31m                         \u001b[0mself\u001b[0m\u001b[0;34m.\u001b[0m\u001b[0m_topology\u001b[0m \u001b[0;34m=\u001b[0m \u001b[0mp\u001b[0m\u001b[0;34m.\u001b[0m\u001b[0mparse\u001b[0m\u001b[0;34m(\u001b[0m\u001b[0;34m**\u001b[0m\u001b[0mkwargs\u001b[0m\u001b[0;34m)\u001b[0m\u001b[0;34m\u001b[0m\u001b[0;34m\u001b[0m\u001b[0m\n\u001b[0m\u001b[1;32m    293\u001b[0m                 \u001b[0;32mexcept\u001b[0m \u001b[0;34m(\u001b[0m\u001b[0mIOError\u001b[0m\u001b[0;34m,\u001b[0m \u001b[0mOSError\u001b[0m\u001b[0;34m)\u001b[0m \u001b[0;32mas\u001b[0m \u001b[0merr\u001b[0m\u001b[0;34m:\u001b[0m\u001b[0;34m\u001b[0m\u001b[0;34m\u001b[0m\u001b[0m\n",
      "\u001b[0;32m~/.local/lib/python3.7/site-packages/MDAnalysis/topology/TPRParser.py\u001b[0m in \u001b[0;36mparse\u001b[0;34m(self, **kwargs)\u001b[0m\n\u001b[1;32m    182\u001b[0m             \u001b[0mlogger\u001b[0m\u001b[0;34m.\u001b[0m\u001b[0mcritical\u001b[0m\u001b[0;34m(\u001b[0m\u001b[0mmsg\u001b[0m\u001b[0;34m)\u001b[0m\u001b[0;34m\u001b[0m\u001b[0;34m\u001b[0m\u001b[0m\n\u001b[0;32m--> 183\u001b[0;31m             \u001b[0;32mraise\u001b[0m \u001b[0mIOError\u001b[0m\u001b[0;34m(\u001b[0m\u001b[0mmsg\u001b[0m\u001b[0;34m)\u001b[0m\u001b[0;34m\u001b[0m\u001b[0;34m\u001b[0m\u001b[0m\n\u001b[0m\u001b[1;32m    184\u001b[0m \u001b[0;34m\u001b[0m\u001b[0m\n",
      "\u001b[0;31mOSError\u001b[0m: /media/akiirikk/DATADRIVE1/tietokanta/temp/DATAbankTST/POPCcharmm/tmp/0/mdrun.tpr: Invalid tpr file or cannot be recognized",
      "\nDuring handling of the above exception, another exception occurred:\n",
      "\u001b[0;31mOSError\u001b[0m                                   Traceback (most recent call last)",
      "\u001b[0;32m<ipython-input-63-dc158fe84dd1>\u001b[0m in \u001b[0;36m<module>\u001b[0;34m\u001b[0m\n\u001b[1;32m     46\u001b[0m \u001b[0;34m\u001b[0m\u001b[0m\n\u001b[1;32m     47\u001b[0m     \u001b[0mprint\u001b[0m\u001b[0;34m(\u001b[0m\u001b[0;34m\"Calculating order parameters\"\u001b[0m\u001b[0;34m)\u001b[0m\u001b[0;34m\u001b[0m\u001b[0;34m\u001b[0m\u001b[0m\n\u001b[0;32m---> 48\u001b[0;31m     \u001b[0mOrdParam\u001b[0m\u001b[0;34m=\u001b[0m\u001b[0mfind_OP\u001b[0m\u001b[0;34m(\u001b[0m\u001b[0mdef_file\u001b[0m\u001b[0;34m,\u001b[0m\u001b[0mtpr\u001b[0m\u001b[0;34m,\u001b[0m\u001b[0mxtcwhole\u001b[0m\u001b[0;34m)\u001b[0m\u001b[0;34m\u001b[0m\u001b[0;34m\u001b[0m\u001b[0m\n\u001b[0m\u001b[1;32m     49\u001b[0m     \u001b[0moutfile\u001b[0m\u001b[0;34m=\u001b[0m\u001b[0mopen\u001b[0m\u001b[0;34m(\u001b[0m\u001b[0mstr\u001b[0m\u001b[0;34m(\u001b[0m\u001b[0mdir_wrk\u001b[0m\u001b[0;34m)\u001b[0m\u001b[0;34m+\u001b[0m\u001b[0;34m'/tmp/'\u001b[0m\u001b[0;34m+\u001b[0m\u001b[0mstr\u001b[0m\u001b[0;34m(\u001b[0m\u001b[0mID\u001b[0m\u001b[0;34m)\u001b[0m\u001b[0;34m+\u001b[0m\u001b[0;34m'/'\u001b[0m\u001b[0;34m+\u001b[0m\u001b[0;34m'OrderParameters.dat'\u001b[0m\u001b[0;34m,\u001b[0m\u001b[0;34m'w'\u001b[0m\u001b[0;34m)\u001b[0m\u001b[0;34m\u001b[0m\u001b[0;34m\u001b[0m\u001b[0m\n\u001b[1;32m     50\u001b[0m     \u001b[0mline1\u001b[0m\u001b[0;34m=\u001b[0m\u001b[0;34m\"Atom     Average OP     OP stem\"\u001b[0m\u001b[0;34m+\u001b[0m\u001b[0;34m'\\n'\u001b[0m\u001b[0;34m\u001b[0m\u001b[0;34m\u001b[0m\u001b[0m\n",
      "\u001b[0;32m/media/akiirikk/DATADRIVE1/tietokanta/NMRlipidsIVPEandPG/scripts/OrderParameter.py\u001b[0m in \u001b[0;36mfind_OP\u001b[0;34m(inp_fname, top_fname, traj_fname)\u001b[0m\n\u001b[1;32m    207\u001b[0m  \u001b[0;31m#           trajs.append(file_name)\u001b[0m\u001b[0;34m\u001b[0m\u001b[0;34m\u001b[0m\u001b[0;34m\u001b[0m\u001b[0m\n\u001b[1;32m    208\u001b[0m \u001b[0;34m\u001b[0m\u001b[0m\n\u001b[0;32m--> 209\u001b[0;31m     \u001b[0mread_trajs_calc_OPs\u001b[0m\u001b[0;34m(\u001b[0m\u001b[0mordPars\u001b[0m\u001b[0;34m,\u001b[0m \u001b[0mtop_fname\u001b[0m\u001b[0;34m,\u001b[0m \u001b[0mtraj_fname\u001b[0m\u001b[0;34m)\u001b[0m\u001b[0;34m\u001b[0m\u001b[0;34m\u001b[0m\u001b[0m\n\u001b[0m\u001b[1;32m    210\u001b[0m \u001b[0;34m\u001b[0m\u001b[0m\n\u001b[1;32m    211\u001b[0m     \u001b[0;32mreturn\u001b[0m \u001b[0mordPars\u001b[0m\u001b[0;34m\u001b[0m\u001b[0;34m\u001b[0m\u001b[0m\n",
      "\u001b[0;32m/media/akiirikk/DATADRIVE1/tietokanta/NMRlipidsIVPEandPG/scripts/OrderParameter.py\u001b[0m in \u001b[0;36mread_trajs_calc_OPs\u001b[0;34m(ordPars, top, trajs)\u001b[0m\n\u001b[1;32m    131\u001b[0m     \"\"\"\n\u001b[1;32m    132\u001b[0m     \u001b[0;31m# read-in topology and trajectory\u001b[0m\u001b[0;34m\u001b[0m\u001b[0;34m\u001b[0m\u001b[0;34m\u001b[0m\u001b[0m\n\u001b[0;32m--> 133\u001b[0;31m     \u001b[0mmol\u001b[0m \u001b[0;34m=\u001b[0m \u001b[0mmda\u001b[0m\u001b[0;34m.\u001b[0m\u001b[0mUniverse\u001b[0m\u001b[0;34m(\u001b[0m\u001b[0mtop\u001b[0m\u001b[0;34m,\u001b[0m \u001b[0mtrajs\u001b[0m\u001b[0;34m)\u001b[0m\u001b[0;34m\u001b[0m\u001b[0;34m\u001b[0m\u001b[0m\n\u001b[0m\u001b[1;32m    134\u001b[0m \u001b[0;34m\u001b[0m\u001b[0m\n\u001b[1;32m    135\u001b[0m     \u001b[0;31m# make atom selections for each OP and store it as its attribute for later use in trajectory\u001b[0m\u001b[0;34m\u001b[0m\u001b[0;34m\u001b[0m\u001b[0;34m\u001b[0m\u001b[0m\n",
      "\u001b[0;32m~/.local/lib/python3.7/site-packages/MDAnalysis/core/universe.py\u001b[0m in \u001b[0;36m__init__\u001b[0;34m(self, *args, **kwargs)\u001b[0m\n\u001b[1;32m    304\u001b[0m                             \u001b[0;34m\"Failed to load from the topology file {0}\"\u001b[0m\u001b[0;34m\u001b[0m\u001b[0;34m\u001b[0m\u001b[0m\n\u001b[1;32m    305\u001b[0m                             \u001b[0;34m\" with parser {1}.\\n\"\u001b[0m\u001b[0;34m\u001b[0m\u001b[0;34m\u001b[0m\u001b[0m\n\u001b[0;32m--> 306\u001b[0;31m                             \"Error: {2}\".format(self.filename, parser, err))\n\u001b[0m\u001b[1;32m    307\u001b[0m                 \u001b[0;32mexcept\u001b[0m \u001b[0;34m(\u001b[0m\u001b[0mValueError\u001b[0m\u001b[0;34m,\u001b[0m \u001b[0mNotImplementedError\u001b[0m\u001b[0;34m)\u001b[0m \u001b[0;32mas\u001b[0m \u001b[0merr\u001b[0m\u001b[0;34m:\u001b[0m\u001b[0;34m\u001b[0m\u001b[0;34m\u001b[0m\u001b[0m\n\u001b[1;32m    308\u001b[0m                     raise ValueError(\n",
      "\u001b[0;31mOSError\u001b[0m: Failed to load from the topology file /media/akiirikk/DATADRIVE1/tietokanta/temp/DATAbankTST/POPCcharmm/tmp/0/mdrun.tpr with parser <class 'MDAnalysis.topology.TPRParser.TPRParser'>.\nError: /media/akiirikk/DATADRIVE1/tietokanta/temp/DATAbankTST/POPCcharmm/tmp/0/mdrun.tpr: Invalid tpr file or cannot be recognized"
     ]
    }
   ],
   "source": [
    "from OrderParameter import *\n",
    "import warnings\n",
    "#from corrtimes import *\n",
    "import subprocess\n",
    "import mdtraj\n",
    "import json\n",
    "#!cp corr_ftios_ind.sh {dir_wrk}\n",
    "for sim in sims_working_links:\n",
    "    trj=sim.get('TRJ')\n",
    "    tpr=sim.get('TPR')\n",
    "    ID=sim.get('ID')\n",
    "    software=sim.get('SOFTWARE')\n",
    "    \n",
    "    ext=trj[0:-3] # getting the trajectory extension\n",
    "    \n",
    "    # BATUHAN: Adding a few lines to convert the trajectory into .xtc using MDTRAJ\n",
    "    #          We will need users to install MDTRAJ in their system so that we can convert other trajectories into xtc\n",
    "\n",
    "    if software != \"gromacs\":\n",
    "        \n",
    "        print(\"converting the trajectory into xtc\")\n",
    "        \n",
    "        pdb = sim.get('PDB')\n",
    "        output_traj = str(dir_wrk) + '/tmp/' + str(ID) + '/' + 'tmp_converted.xtc'\n",
    "        input_traj = str(dir_wrk) + '/tmp/' + str(ID) + '/' + trj[0][0]\n",
    "        input_pdb = str(dir_wrk) + '/tmp/' + str(ID) + '/' + pdb[0][0]\n",
    "      \n",
    "        if os.path.isfile(output_traj): # when we're done with the converted trajectory we can simply remove it\n",
    "            !rm {output_traj}\n",
    "        \n",
    "        !echo System | mdconvert {input_traj} -o {output_traj} -t {input_pdb} --force # force overwrite\n",
    "        \n",
    "        # SAMULI: this xtcwhole does not necessarily have molecules as whole. Only if {input_traj} has.\n",
    "        xtcwhole = str(dir_wrk) + '/tmp/' + str(ID) + '/' + 'tmp_converted.xtc'\n",
    "        tpr=input_pdb\n",
    "        \n",
    "        print(\"trajectory conversion is completed\")\n",
    "        \n",
    "    else:\n",
    "    \n",
    "        xtc = str(dir_wrk) + '/tmp/' + str(ID) + '/' + str(trj[0][0])  \n",
    "        tpr = str(dir_wrk) + '/tmp/' + str(ID) + '/' + str(tpr[0][0])\n",
    "        xtcwhole=str(dir_wrk)+'/tmp/'+str(ID)+'/'+'whole.xtc'\n",
    "        !echo System | gmx trjconv -f {xtc} -s {tpr} -o {xtcwhole} -pbc mol \n",
    "   \n",
    "       \n",
    "    print(\"Calculating order parameters\")\n",
    "    OrdParam=find_OP(def_file,tpr,xtcwhole)\n",
    "    outfile=open(str(dir_wrk)+'/tmp/'+str(ID)+'/'+'OrderParameters.dat','w')\n",
    "    line1=\"Atom     Average OP     OP stem\"+'\\n'\n",
    "    outfile.write(line1)\n",
    "    \n",
    "    data = {}\n",
    "    outfile2=str(dir_wrk)+'/tmp/'+str(ID)+'/'+'OrderParameters.json'\n",
    "    \n",
    "    for i,op in enumerate(OrdParam.values()):\n",
    "        resops =op.get_op_res\n",
    "        (op.avg, op.std, op.stem) =op.get_avg_std_stem_OP\n",
    "        line2=str(op.name)+\" \"+str(op.avg)+\" \"+str(op.stem)+'\\n'\n",
    "        outfile.write(line2)\n",
    "        \n",
    "        data[str(op.name)]=[]\n",
    "        data[str(op.name)].append(op.get_avg_std_stem_OP)\n",
    "        with open(outfile2, 'w') as f:\n",
    "            json.dump(data,f)\n",
    "\n",
    "    outfile.close()\n",
    "    !cp {str(dir_wrk)}'/tmp/'{str(ID)}'/OrderParameters.dat' {data_directory.get(str(ID))}    \n",
    "    !cp {str(dir_wrk)}'/tmp/'{str(ID)}'/OrderParameters.json' {data_directory.get(str(ID))}    "
   ]
  },
  {
   "cell_type": "code",
   "execution_count": null,
   "metadata": {},
   "outputs": [],
   "source": []
  },
  {
   "cell_type": "code",
   "execution_count": null,
   "metadata": {},
   "outputs": [],
   "source": []
  }
 ],
 "metadata": {
  "kernelspec": {
   "display_name": "Python 3",
   "language": "python",
   "name": "python3"
  },
  "language_info": {
   "codemirror_mode": {
    "name": "ipython",
    "version": 3
   },
   "file_extension": ".py",
   "mimetype": "text/x-python",
   "name": "python",
   "nbconvert_exporter": "python",
   "pygments_lexer": "ipython3",
   "version": "3.7.6"
  }
 },
 "nbformat": 4,
 "nbformat_minor": 2
}
